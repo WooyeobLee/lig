{
 "cells": [
  {
   "cell_type": "markdown",
   "id": "483be556",
   "metadata": {},
   "source": [
    "# Torch Sequential 실습"
   ]
  },
  {
   "cell_type": "code",
   "execution_count": 1,
   "id": "8990be1a",
   "metadata": {
    "tags": []
   },
   "outputs": [],
   "source": [
    "import torch\n",
    "from torch import nn, optim\n",
    "from torch.nn import functional as F"
   ]
  },
  {
   "cell_type": "markdown",
   "id": "5bd750d1",
   "metadata": {},
   "source": [
    "### Torch Tensors"
   ]
  },
  {
   "cell_type": "markdown",
   "id": "bbbc4acc",
   "metadata": {},
   "source": [
    " - gpu 사용이 가능한지 확인한 후 사용 가능하면 'cuda' 아니면 'cpu' 값을 device에 설정하세요."
   ]
  },
  {
   "cell_type": "code",
   "execution_count": 2,
   "id": "c455a7d8",
   "metadata": {
    "tags": []
   },
   "outputs": [
    {
     "data": {
      "text/plain": [
       "'cuda'"
      ]
     },
     "execution_count": 2,
     "metadata": {},
     "output_type": "execute_result"
    }
   ],
   "source": [
    "device = 'cuda' if torch.cuda.is_available() else 'cpu'\n",
    "device"
   ]
  },
  {
   "cell_type": "markdown",
   "id": "275a3fa9",
   "metadata": {},
   "source": [
    "- 리스트 [1,2,3,4]를 tensor로 변환하세요."
   ]
  },
  {
   "cell_type": "code",
   "execution_count": 3,
   "id": "387b62f8",
   "metadata": {},
   "outputs": [
    {
     "data": {
      "text/plain": [
       "tensor([1, 2, 3, 4])"
      ]
     },
     "execution_count": 3,
     "metadata": {},
     "output_type": "execute_result"
    }
   ],
   "source": [
    "t = torch.tensor([1,2,3,4])\n",
    "t"
   ]
  },
  {
   "cell_type": "markdown",
   "id": "51a1388c",
   "metadata": {},
   "source": [
    "- 리스트 [1,2,3,4]를 float type tensor로 변환하세요."
   ]
  },
  {
   "cell_type": "code",
   "execution_count": 4,
   "id": "298b0de6",
   "metadata": {},
   "outputs": [
    {
     "data": {
      "text/plain": [
       "tensor([1., 2., 3., 4.])"
      ]
     },
     "execution_count": 4,
     "metadata": {},
     "output_type": "execute_result"
    }
   ],
   "source": [
    "t = torch.Tensor([1,2,3,4])\n",
    "t"
   ]
  },
  {
   "cell_type": "markdown",
   "id": "2a4b6c8a",
   "metadata": {},
   "source": [
    "- 리스트 [1,2,3,4]를 float type tensor로 변환하세요."
   ]
  },
  {
   "cell_type": "code",
   "execution_count": 5,
   "id": "814b7a84",
   "metadata": {},
   "outputs": [
    {
     "data": {
      "text/plain": [
       "tensor([1., 2., 3., 4.])"
      ]
     },
     "execution_count": 5,
     "metadata": {},
     "output_type": "execute_result"
    }
   ],
   "source": [
    "t = torch.FloatTensor([1,2,3,4])\n",
    "t"
   ]
  },
  {
   "cell_type": "markdown",
   "id": "84347d2f",
   "metadata": {},
   "source": [
    "- 리스트 [1,2,3,4]를 float64 type tensor로 변환하세요."
   ]
  },
  {
   "cell_type": "code",
   "execution_count": 6,
   "id": "9b1b3dee",
   "metadata": {},
   "outputs": [
    {
     "data": {
      "text/plain": [
       "tensor([1., 2., 3., 4.], dtype=torch.float64)"
      ]
     },
     "execution_count": 6,
     "metadata": {},
     "output_type": "execute_result"
    }
   ],
   "source": [
    "t = torch.DoubleTensor([1,2,3,4])\n",
    "t"
   ]
  },
  {
   "cell_type": "markdown",
   "id": "73b48c2a",
   "metadata": {},
   "source": [
    "- 리스트 [1,2,3,4]를 정수 타입 tensor로 변환하세요."
   ]
  },
  {
   "cell_type": "code",
   "execution_count": 7,
   "id": "1198d769",
   "metadata": {},
   "outputs": [
    {
     "data": {
      "text/plain": [
       "tensor([1, 2, 3, 4], dtype=torch.int32)"
      ]
     },
     "execution_count": 7,
     "metadata": {},
     "output_type": "execute_result"
    }
   ],
   "source": [
    "t = torch.IntTensor([1,2,3,4])\n",
    "t"
   ]
  },
  {
   "cell_type": "markdown",
   "id": "c6cdb288",
   "metadata": {},
   "source": [
    "- 리스트 [1,2,3,4]를 정수64 타입 tensor로 변환하세요."
   ]
  },
  {
   "cell_type": "code",
   "execution_count": 8,
   "id": "96d4f1f3",
   "metadata": {},
   "outputs": [
    {
     "data": {
      "text/plain": [
       "tensor([1, 2, 3, 4])"
      ]
     },
     "execution_count": 8,
     "metadata": {},
     "output_type": "execute_result"
    }
   ],
   "source": [
    "t = torch.LongTensor([1,2,3,4])\n",
    "t"
   ]
  },
  {
   "cell_type": "markdown",
   "id": "e505e23e",
   "metadata": {},
   "source": [
    "- t의 차원 크기를 조회하세요."
   ]
  },
  {
   "cell_type": "code",
   "execution_count": 9,
   "id": "d48ddb15",
   "metadata": {},
   "outputs": [
    {
     "data": {
      "text/plain": [
       "1"
      ]
     },
     "execution_count": 9,
     "metadata": {},
     "output_type": "execute_result"
    }
   ],
   "source": [
    "t.dim()"
   ]
  },
  {
   "cell_type": "markdown",
   "id": "40389e94",
   "metadata": {},
   "source": [
    "- t의 shape을 조회하세요."
   ]
  },
  {
   "cell_type": "code",
   "execution_count": 10,
   "id": "8daa333a",
   "metadata": {},
   "outputs": [
    {
     "data": {
      "text/plain": [
       "torch.Size([4])"
      ]
     },
     "execution_count": 10,
     "metadata": {},
     "output_type": "execute_result"
    }
   ],
   "source": [
    "t.shape"
   ]
  },
  {
   "cell_type": "code",
   "execution_count": 11,
   "id": "e13518c0",
   "metadata": {},
   "outputs": [
    {
     "data": {
      "text/plain": [
       "torch.Size([4])"
      ]
     },
     "execution_count": 11,
     "metadata": {},
     "output_type": "execute_result"
    }
   ],
   "source": [
    "t.size()"
   ]
  },
  {
   "cell_type": "markdown",
   "id": "054bfc0f",
   "metadata": {},
   "source": [
    "- t의 shape을 [1,4]로 변경하세요."
   ]
  },
  {
   "cell_type": "code",
   "execution_count": 11,
   "id": "c6031b39",
   "metadata": {},
   "outputs": [
    {
     "data": {
      "text/plain": [
       "tensor([[1, 2, 3, 4]])"
      ]
     },
     "execution_count": 11,
     "metadata": {},
     "output_type": "execute_result"
    }
   ],
   "source": [
    "t.reshape(1, -1)"
   ]
  },
  {
   "cell_type": "code",
   "execution_count": 12,
   "id": "483ce9c4",
   "metadata": {},
   "outputs": [
    {
     "data": {
      "text/plain": [
       "tensor([[1, 2, 3, 4]])"
      ]
     },
     "execution_count": 12,
     "metadata": {},
     "output_type": "execute_result"
    }
   ],
   "source": [
    "t.view(1, -1)"
   ]
  },
  {
   "cell_type": "markdown",
   "id": "58204c19",
   "metadata": {},
   "source": [
    "- t에 축을 하나 추가하고 t에 저장하세요."
   ]
  },
  {
   "cell_type": "code",
   "execution_count": 13,
   "id": "5fa7312b",
   "metadata": {},
   "outputs": [
    {
     "data": {
      "text/plain": [
       "tensor([[1],\n",
       "        [2],\n",
       "        [3],\n",
       "        [4]])"
      ]
     },
     "execution_count": 13,
     "metadata": {},
     "output_type": "execute_result"
    }
   ],
   "source": [
    "t = t.unsqueeze(axis=1)\n",
    "t"
   ]
  },
  {
   "cell_type": "markdown",
   "id": "ae1aec72",
   "metadata": {},
   "source": [
    "- t의 shape을 조회하세요."
   ]
  },
  {
   "cell_type": "code",
   "execution_count": 15,
   "id": "909cfb02",
   "metadata": {},
   "outputs": [
    {
     "data": {
      "text/plain": [
       "torch.Size([4, 1])"
      ]
     },
     "execution_count": 15,
     "metadata": {},
     "output_type": "execute_result"
    }
   ],
   "source": [
    "t.shape"
   ]
  },
  {
   "cell_type": "markdown",
   "id": "b6e0a4d3",
   "metadata": {},
   "source": [
    "- t의 새 축을 0번 축에 추가하고 저장하세요."
   ]
  },
  {
   "cell_type": "code",
   "execution_count": 16,
   "id": "b7e6b8e5",
   "metadata": {},
   "outputs": [
    {
     "data": {
      "text/plain": [
       "tensor([[[1],\n",
       "         [2],\n",
       "         [3],\n",
       "         [4]]])"
      ]
     },
     "execution_count": 16,
     "metadata": {},
     "output_type": "execute_result"
    }
   ],
   "source": [
    "t = t.unsqueeze(axis=0)\n",
    "t"
   ]
  },
  {
   "cell_type": "markdown",
   "id": "3252253c",
   "metadata": {},
   "source": [
    "- t의 shape을 조회하세요."
   ]
  },
  {
   "cell_type": "code",
   "execution_count": 17,
   "id": "39be3dbd",
   "metadata": {},
   "outputs": [
    {
     "data": {
      "text/plain": [
       "torch.Size([1, 4, 1])"
      ]
     },
     "execution_count": 17,
     "metadata": {},
     "output_type": "execute_result"
    }
   ],
   "source": [
    "t.shape"
   ]
  },
  {
   "cell_type": "markdown",
   "id": "b92a4f0e",
   "metadata": {},
   "source": [
    "- t의 맨 마지막 축을 제거하고 t에 저장하세요."
   ]
  },
  {
   "cell_type": "code",
   "execution_count": 18,
   "id": "8c8f8a36",
   "metadata": {},
   "outputs": [
    {
     "data": {
      "text/plain": [
       "tensor([[1, 2, 3, 4]])"
      ]
     },
     "execution_count": 18,
     "metadata": {},
     "output_type": "execute_result"
    }
   ],
   "source": [
    "t = t.squeeze(axis=2)\n",
    "t"
   ]
  },
  {
   "cell_type": "markdown",
   "id": "1ed2986c",
   "metadata": {},
   "source": [
    "- t의 shape을 조회하세요."
   ]
  },
  {
   "cell_type": "code",
   "execution_count": 21,
   "id": "8d30f1cc",
   "metadata": {},
   "outputs": [
    {
     "data": {
      "text/plain": [
       "torch.Size([1, 4])"
      ]
     },
     "execution_count": 21,
     "metadata": {},
     "output_type": "execute_result"
    }
   ],
   "source": [
    "t.shape"
   ]
  },
  {
   "cell_type": "markdown",
   "id": "3fd11991",
   "metadata": {},
   "source": [
    "- t를 복사하여 t2에 저장하세요."
   ]
  },
  {
   "cell_type": "code",
   "execution_count": 23,
   "id": "c8fe9e43",
   "metadata": {},
   "outputs": [
    {
     "data": {
      "text/plain": [
       "tensor([[1, 2, 3, 4]])"
      ]
     },
     "execution_count": 23,
     "metadata": {},
     "output_type": "execute_result"
    }
   ],
   "source": [
    "t2 = t.clone().detach()\n",
    "t2"
   ]
  },
  {
   "cell_type": "markdown",
   "id": "82b7113a",
   "metadata": {},
   "source": [
    "- t2를 numpy array로 변환하세요."
   ]
  },
  {
   "cell_type": "code",
   "execution_count": 24,
   "id": "e08ebcfc",
   "metadata": {},
   "outputs": [
    {
     "data": {
      "text/plain": [
       "array([[1, 2, 3, 4]], dtype=int64)"
      ]
     },
     "execution_count": 24,
     "metadata": {},
     "output_type": "execute_result"
    }
   ],
   "source": [
    "t2.detach().numpy()"
   ]
  },
  {
   "cell_type": "markdown",
   "id": "98f4f2ef",
   "metadata": {},
   "source": [
    "- t를 device에 할당한 후 t에 저장하세요."
   ]
  },
  {
   "cell_type": "code",
   "execution_count": 25,
   "id": "98c7ea26",
   "metadata": {},
   "outputs": [
    {
     "data": {
      "text/plain": [
       "tensor([[1, 2, 3, 4]], device='cuda:0')"
      ]
     },
     "execution_count": 25,
     "metadata": {},
     "output_type": "execute_result"
    }
   ],
   "source": [
    "t = t.to(device)\n",
    "t"
   ]
  },
  {
   "cell_type": "markdown",
   "id": "6f71205b",
   "metadata": {},
   "source": [
    "- t를 numpy array로 변환하세요."
   ]
  },
  {
   "cell_type": "code",
   "execution_count": 26,
   "id": "7f108eae",
   "metadata": {},
   "outputs": [
    {
     "data": {
      "text/plain": [
       "array([[1, 2, 3, 4]], dtype=int64)"
      ]
     },
     "execution_count": 26,
     "metadata": {},
     "output_type": "execute_result"
    }
   ],
   "source": [
    "t.cpu().numpy()"
   ]
  },
  {
   "cell_type": "markdown",
   "id": "e00e6374",
   "metadata": {},
   "source": [
    "- t를 numpy array로 변환하세요."
   ]
  },
  {
   "cell_type": "code",
   "execution_count": 27,
   "id": "bcbd7892",
   "metadata": {},
   "outputs": [
    {
     "data": {
      "text/plain": [
       "array([[1, 2, 3, 4]], dtype=int64)"
      ]
     },
     "execution_count": 27,
     "metadata": {},
     "output_type": "execute_result"
    }
   ],
   "source": [
    "t.detach().cpu().numpy()"
   ]
  },
  {
   "cell_type": "markdown",
   "id": "010e7a55",
   "metadata": {},
   "source": [
    "### Torch Sequential Model"
   ]
  },
  {
   "cell_type": "code",
   "execution_count": 28,
   "id": "4d96c0da",
   "metadata": {
    "tags": []
   },
   "outputs": [],
   "source": [
    "import pandas as pd\n",
    "import numpy as np\n",
    "import matplotlib.pyplot as plt\n",
    "import seaborn as sns\n",
    "%matplotlib inline"
   ]
  },
  {
   "cell_type": "markdown",
   "id": "63c8dbbe",
   "metadata": {},
   "source": [
    " - 다이아몬드 가격을 Sequential 모델로 예측"
   ]
  },
  {
   "cell_type": "markdown",
   "id": "8ba800ae",
   "metadata": {},
   "source": [
    "- diamonds.csv 로드"
   ]
  },
  {
   "cell_type": "code",
   "execution_count": 29,
   "id": "fb5151f3",
   "metadata": {
    "tags": []
   },
   "outputs": [],
   "source": [
    "diamond = pd.read_csv('./data/diamonds.csv')\n",
    "diamond = diamond.drop(diamond.columns[0], axis=1)"
   ]
  },
  {
   "cell_type": "markdown",
   "id": "f57c0f17",
   "metadata": {},
   "source": [
    "- 문자열 인코딩"
   ]
  },
  {
   "cell_type": "code",
   "execution_count": 30,
   "id": "4f434aa5",
   "metadata": {
    "tags": []
   },
   "outputs": [],
   "source": [
    "def encode_cut(x):\n",
    "    return {'Fair':0, 'Good':1, 'Very Good':2, 'Premium':3, 'Ideal':4}[x]\n",
    "\n",
    "def encode_color(x):\n",
    "    return abs(ord(x)-74)\n",
    "\n",
    "def encode_clarity(x):\n",
    "    return {'I1':0, 'SI2':1, 'SI1':2, 'VS2':3, 'VS1':4, 'VVS2':5, 'VVS1':6, 'IF':7}[x]\n",
    "\n",
    "diamond['cut'] = diamond['cut'].apply(encode_cut)\n",
    "diamond['color'] = diamond['color'].apply(encode_color)\n",
    "diamond['clarity'] = diamond['clarity'].apply(encode_clarity)"
   ]
  },
  {
   "cell_type": "markdown",
   "id": "aae90020",
   "metadata": {},
   "source": [
    "- 데이터 선택"
   ]
  },
  {
   "cell_type": "code",
   "execution_count": 31,
   "id": "cf12dad5",
   "metadata": {
    "tags": []
   },
   "outputs": [],
   "source": [
    "features = [\n",
    "    'carat',\n",
    "    'cut',\n",
    "    'color',\n",
    "    'clarity',\n",
    "    'depth',\n",
    "    'table',\n",
    "    'x',\n",
    "    'y',\n",
    "    'z'\n",
    "]\n",
    "X = diamond[features]\n",
    "Y = diamond['price']"
   ]
  },
  {
   "cell_type": "markdown",
   "id": "4982e182",
   "metadata": {},
   "source": [
    "- 데이터 분할"
   ]
  },
  {
   "cell_type": "code",
   "execution_count": 32,
   "id": "7cdc19b3",
   "metadata": {
    "tags": []
   },
   "outputs": [],
   "source": [
    "from sklearn.model_selection import train_test_split\n",
    "\n",
    "x_train, x_test, y_train, y_test = train_test_split(X, Y,\n",
    "                                                    test_size=.3,\n",
    "                                                    random_state=1)"
   ]
  },
  {
   "cell_type": "code",
   "execution_count": 33,
   "id": "4359ccaf",
   "metadata": {
    "tags": []
   },
   "outputs": [
    {
     "data": {
      "text/plain": [
       "(37758, 9)"
      ]
     },
     "execution_count": 33,
     "metadata": {},
     "output_type": "execute_result"
    }
   ],
   "source": [
    "x_train.shape"
   ]
  },
  {
   "cell_type": "markdown",
   "id": "77ec28fc",
   "metadata": {},
   "source": [
    "- 비교를 위해 GrandientBoosting으로 모델링한 결과를 출력하세요.\n",
    "- 평가 측도는 mse, $r^2$입니다."
   ]
  },
  {
   "cell_type": "code",
   "execution_count": 34,
   "id": "19b2d9cd",
   "metadata": {
    "tags": []
   },
   "outputs": [
    {
     "data": {
      "text/plain": [
       "(363227.58354604786, 386611.2288453066)"
      ]
     },
     "execution_count": 34,
     "metadata": {},
     "output_type": "execute_result"
    }
   ],
   "source": [
    "from sklearn.ensemble import GradientBoostingRegressor\n",
    "from sklearn.metrics import mean_squared_error\n",
    "\n",
    "model = GradientBoostingRegressor(random_state=0)\n",
    "model.fit(x_train, y_train)\n",
    "mean_squared_error(y_train, model.predict(x_train)), mean_squared_error(y_test, model.predict(x_test))"
   ]
  },
  {
   "cell_type": "code",
   "execution_count": 35,
   "id": "501b967c",
   "metadata": {
    "tags": []
   },
   "outputs": [
    {
     "data": {
      "text/plain": [
       "(0.9775249015488457, 0.9747968787640697)"
      ]
     },
     "execution_count": 35,
     "metadata": {},
     "output_type": "execute_result"
    }
   ],
   "source": [
    "model.score(x_train, y_train), model.score(x_test, y_test)"
   ]
  },
  {
   "cell_type": "markdown",
   "id": "4cb6220f",
   "metadata": {},
   "source": [
    "- 시드를 777로 설정하세요."
   ]
  },
  {
   "cell_type": "code",
   "execution_count": 76,
   "id": "fac69c6c",
   "metadata": {
    "scrolled": true,
    "tags": []
   },
   "outputs": [
    {
     "data": {
      "text/plain": [
       "<torch._C.Generator at 0x1e2ffef3430>"
      ]
     },
     "execution_count": 76,
     "metadata": {},
     "output_type": "execute_result"
    }
   ],
   "source": [
    "torch.manual_seed(777)"
   ]
  },
  {
   "cell_type": "markdown",
   "id": "c62fd343",
   "metadata": {},
   "source": [
    "- Sequential 모델을 이용하여 DNN을 구성하세요.\n",
    "- 두 개의 은닉층은 각각 64, 32개 퍼셉트론\n",
    "- 활성화는 relu"
   ]
  },
  {
   "cell_type": "code",
   "execution_count": 77,
   "id": "3a201be3",
   "metadata": {
    "tags": []
   },
   "outputs": [],
   "source": [
    "model  = nn.Sequential(\n",
    "    nn.Linear(x_train.shape[1], 64),\n",
    "    nn.ReLU(),\n",
    "    nn.Linear(64, 32),\n",
    "    nn.ReLU(),\n",
    "    nn.Linear(32, 1),\n",
    ").to(device)"
   ]
  },
  {
   "cell_type": "markdown",
   "id": "cacfef77",
   "metadata": {},
   "source": [
    "- 모델 구조를 출력하세요."
   ]
  },
  {
   "cell_type": "code",
   "execution_count": 78,
   "id": "73aecf57",
   "metadata": {
    "tags": []
   },
   "outputs": [
    {
     "name": "stdout",
     "output_type": "stream",
     "text": [
      "Sequential(\n",
      "  (0): Linear(in_features=9, out_features=64, bias=True)\n",
      "  (1): ReLU()\n",
      "  (2): Linear(in_features=64, out_features=32, bias=True)\n",
      "  (3): ReLU()\n",
      "  (4): Linear(in_features=32, out_features=1, bias=True)\n",
      ")\n"
     ]
    }
   ],
   "source": [
    "print(model)"
   ]
  },
  {
   "cell_type": "markdown",
   "id": "b3ff41c3",
   "metadata": {},
   "source": [
    "- 모델의 summary를 출력하세요."
   ]
  },
  {
   "cell_type": "code",
   "execution_count": 79,
   "id": "ce905e95",
   "metadata": {
    "tags": []
   },
   "outputs": [
    {
     "data": {
      "text/plain": [
       "=================================================================\n",
       "Layer (type:depth-idx)                   Param #\n",
       "=================================================================\n",
       "Sequential                               --\n",
       "├─Linear: 1-1                            640\n",
       "├─ReLU: 1-2                              --\n",
       "├─Linear: 1-3                            2,080\n",
       "├─ReLU: 1-4                              --\n",
       "├─Linear: 1-5                            33\n",
       "=================================================================\n",
       "Total params: 2,753\n",
       "Trainable params: 2,753\n",
       "Non-trainable params: 0\n",
       "================================================================="
      ]
     },
     "execution_count": 79,
     "metadata": {},
     "output_type": "execute_result"
    }
   ],
   "source": [
    "from torchinfo import summary\n",
    "\n",
    "summary(model)"
   ]
  },
  {
   "cell_type": "markdown",
   "id": "d3e0ffcc",
   "metadata": {},
   "source": [
    "- 데이터에 적합한 loss와 optimizer를 선정하여 설정하세요."
   ]
  },
  {
   "cell_type": "code",
   "execution_count": 80,
   "id": "dd754fc1",
   "metadata": {},
   "outputs": [],
   "source": [
    "loss = nn.MSELoss().to(device)\n",
    "optimizer = optim.Adam(model.parameters(), lr=0.1)"
   ]
  },
  {
   "cell_type": "markdown",
   "id": "31fea1dc",
   "metadata": {},
   "source": [
    "- train 데이터를 학습시키세요.\n",
    "- epoch=10000회"
   ]
  },
  {
   "cell_type": "code",
   "execution_count": 81,
   "id": "9b310f1b",
   "metadata": {
    "tags": []
   },
   "outputs": [
    {
     "data": {
      "application/vnd.jupyter.widget-view+json": {
       "model_id": "c0aa7bd64a094d0382b4ecd3ee114c82",
       "version_major": 2,
       "version_minor": 0
      },
      "text/plain": [
       "  0%|          | 0/10000 [00:00<?, ?it/s]"
      ]
     },
     "metadata": {},
     "output_type": "display_data"
    }
   ],
   "source": [
    "from tqdm import notebook\n",
    "n_epochs = 10000\n",
    "\n",
    "X = torch.Tensor(x_train.values).to(device)\n",
    "Y = torch.Tensor(y_train.values).to(device)\n",
    "\n",
    "\n",
    "progressbar = notebook.tqdm(range(n_epochs))\n",
    "\n",
    "for epoch in progressbar:\n",
    "    h = model(X)\n",
    "    cost = loss(h, Y.view(-1, 1))\n",
    "    \n",
    "    optimizer.zero_grad()\n",
    "    cost.backward()\n",
    "    optimizer.step()\n",
    "    \n",
    "    progressbar.set_postfix({'Loss':f'{cost.item():12.6f}'})"
   ]
  },
  {
   "cell_type": "markdown",
   "id": "56d4f6e8",
   "metadata": {},
   "source": [
    "- 학습시킨 모델로 mse, $r^2$를 출력하세요."
   ]
  },
  {
   "cell_type": "code",
   "execution_count": 82,
   "id": "8416652c-73fc-4b6d-8d25-daddeca36749",
   "metadata": {
    "tags": []
   },
   "outputs": [
    {
     "data": {
      "text/plain": [
       "(389169.41404462315, 388581.7863644072)"
      ]
     },
     "execution_count": 82,
     "metadata": {},
     "output_type": "execute_result"
    }
   ],
   "source": [
    "train_pred = model(torch.FloatTensor(x_train.values).to(device)).detach().cpu().numpy()\n",
    "test_pred = model(torch.FloatTensor(x_test.values).to(device)).detach().cpu().numpy()\n",
    "\n",
    "mean_squared_error(y_train, train_pred), mean_squared_error(y_test, test_pred)"
   ]
  },
  {
   "cell_type": "code",
   "execution_count": 83,
   "id": "9ea20b10-f97b-4856-bd88-4e2a5352f719",
   "metadata": {
    "tags": []
   },
   "outputs": [
    {
     "data": {
      "text/plain": [
       "0.9759197228100325"
      ]
     },
     "execution_count": 83,
     "metadata": {},
     "output_type": "execute_result"
    }
   ],
   "source": [
    "from sklearn.metrics import r2_score\n",
    "\n",
    "r2_score(y_train, train_pred)"
   ]
  },
  {
   "cell_type": "markdown",
   "id": "c4c7bf5a",
   "metadata": {},
   "source": [
    "- 시드를 777로 설정하세요."
   ]
  },
  {
   "cell_type": "code",
   "execution_count": 84,
   "id": "a03b3508",
   "metadata": {
    "scrolled": true,
    "tags": []
   },
   "outputs": [
    {
     "data": {
      "text/plain": [
       "<torch._C.Generator at 0x1e2ffef3430>"
      ]
     },
     "execution_count": 84,
     "metadata": {},
     "output_type": "execute_result"
    }
   ],
   "source": [
    "torch.manual_seed(777)"
   ]
  },
  {
   "cell_type": "markdown",
   "id": "3345da7a",
   "metadata": {},
   "source": [
    "- model의 구성을 변경하여 다시 학습해보세요."
   ]
  },
  {
   "cell_type": "code",
   "execution_count": 85,
   "id": "397e2009",
   "metadata": {},
   "outputs": [],
   "source": [
    "model  = nn.Sequential(\n",
    "    nn.Linear(x_train.shape[1], 256),\n",
    "    nn.ReLU(),\n",
    "    nn.Linear(256, 128),\n",
    "    nn.ReLU(),\n",
    "    nn.Linear(128, 64),\n",
    "    nn.ReLU(),\n",
    "    nn.Linear(64, 32),\n",
    "    nn.ReLU(),\n",
    "    nn.Linear(32, 1),\n",
    ").to(device)"
   ]
  },
  {
   "cell_type": "markdown",
   "id": "c569434e",
   "metadata": {},
   "source": [
    "- 모델의 summary를 출력하세요."
   ]
  },
  {
   "cell_type": "code",
   "execution_count": 86,
   "id": "7fb96ea9",
   "metadata": {},
   "outputs": [
    {
     "data": {
      "text/plain": [
       "=================================================================\n",
       "Layer (type:depth-idx)                   Param #\n",
       "=================================================================\n",
       "Sequential                               --\n",
       "├─Linear: 1-1                            2,560\n",
       "├─ReLU: 1-2                              --\n",
       "├─Linear: 1-3                            32,896\n",
       "├─ReLU: 1-4                              --\n",
       "├─Linear: 1-5                            8,256\n",
       "├─ReLU: 1-6                              --\n",
       "├─Linear: 1-7                            2,080\n",
       "├─ReLU: 1-8                              --\n",
       "├─Linear: 1-9                            33\n",
       "=================================================================\n",
       "Total params: 45,825\n",
       "Trainable params: 45,825\n",
       "Non-trainable params: 0\n",
       "================================================================="
      ]
     },
     "execution_count": 86,
     "metadata": {},
     "output_type": "execute_result"
    }
   ],
   "source": [
    "from torchinfo import summary\n",
    "\n",
    "summary(model)"
   ]
  },
  {
   "cell_type": "markdown",
   "id": "ae7e2857",
   "metadata": {},
   "source": [
    "- 데이터에 적합한 loss와 optimizer를 선정하여 설정하세요."
   ]
  },
  {
   "cell_type": "code",
   "execution_count": 87,
   "id": "bd27a4cd",
   "metadata": {},
   "outputs": [],
   "source": [
    "loss = nn.MSELoss().to(device)\n",
    "optimizer = optim.Adam(model.parameters(), lr=0.01)"
   ]
  },
  {
   "cell_type": "markdown",
   "id": "9cb478b5",
   "metadata": {},
   "source": [
    "- train 데이터를 학습시키세요.\n",
    "- epoch=10000회"
   ]
  },
  {
   "cell_type": "code",
   "execution_count": 88,
   "id": "88cdfd46",
   "metadata": {},
   "outputs": [
    {
     "data": {
      "application/vnd.jupyter.widget-view+json": {
       "model_id": "183b690d2d1045178aeac6d2e6d21ea3",
       "version_major": 2,
       "version_minor": 0
      },
      "text/plain": [
       "  0%|          | 0/10000 [00:00<?, ?it/s]"
      ]
     },
     "metadata": {},
     "output_type": "display_data"
    }
   ],
   "source": [
    "from tqdm import notebook\n",
    "n_epochs = 10000\n",
    "\n",
    "X = torch.Tensor(x_train.values).to(device)\n",
    "Y = torch.Tensor(y_train.values).to(device)\n",
    "\n",
    "progressbar = notebook.tqdm(range(n_epochs))\n",
    "\n",
    "for epoch in progressbar:\n",
    "    h = model(X)\n",
    "    cost = loss(h, Y.view(-1, 1))\n",
    "    \n",
    "    optimizer.zero_grad()\n",
    "    cost.backward()\n",
    "    optimizer.step()\n",
    "    \n",
    "    progressbar.set_postfix({'Loss':f'{cost.item():12.6f}'})"
   ]
  },
  {
   "cell_type": "markdown",
   "id": "d5e346ec",
   "metadata": {},
   "source": [
    "- 학습시킨 모델로 mse, $r^2$를 출력하세요."
   ]
  },
  {
   "cell_type": "code",
   "execution_count": 89,
   "id": "0d45e94e",
   "metadata": {},
   "outputs": [
    {
     "data": {
      "text/plain": [
       "(280409.37142085715, 300536.31264251104)"
      ]
     },
     "execution_count": 89,
     "metadata": {},
     "output_type": "execute_result"
    }
   ],
   "source": [
    "train_pred = model(torch.FloatTensor(x_train.values).to(device)).detach().cpu().numpy()\n",
    "test_pred = model(torch.FloatTensor(x_test.values).to(device)).detach().cpu().numpy()\n",
    "\n",
    "mean_squared_error(y_train, train_pred), mean_squared_error(y_test, test_pred)"
   ]
  },
  {
   "cell_type": "code",
   "execution_count": 90,
   "id": "f6d15652",
   "metadata": {},
   "outputs": [
    {
     "data": {
      "text/plain": [
       "(0.9826493677385846, 0.9804080881304165)"
      ]
     },
     "execution_count": 90,
     "metadata": {},
     "output_type": "execute_result"
    }
   ],
   "source": [
    "r2_score(y_train, train_pred), r2_score(y_test, test_pred)"
   ]
  },
  {
   "cell_type": "markdown",
   "id": "78d4e870",
   "metadata": {},
   "source": [
    " - 타이타닉 생존자를 Sequential 모델로 예측"
   ]
  },
  {
   "cell_type": "markdown",
   "id": "f203bcfd",
   "metadata": {},
   "source": [
    "- titanic_r.csv 파일 로드"
   ]
  },
  {
   "cell_type": "code",
   "execution_count": 93,
   "id": "545df301",
   "metadata": {},
   "outputs": [
    {
     "data": {
      "text/html": [
       "<div>\n",
       "<style scoped>\n",
       "    .dataframe tbody tr th:only-of-type {\n",
       "        vertical-align: middle;\n",
       "    }\n",
       "\n",
       "    .dataframe tbody tr th {\n",
       "        vertical-align: top;\n",
       "    }\n",
       "\n",
       "    .dataframe thead th {\n",
       "        text-align: right;\n",
       "    }\n",
       "</style>\n",
       "<table border=\"1\" class=\"dataframe\">\n",
       "  <thead>\n",
       "    <tr style=\"text-align: right;\">\n",
       "      <th></th>\n",
       "      <th>survived</th>\n",
       "      <th>sex</th>\n",
       "      <th>age</th>\n",
       "      <th>sibsp</th>\n",
       "      <th>parch</th>\n",
       "      <th>fare</th>\n",
       "      <th>class</th>\n",
       "      <th>who</th>\n",
       "      <th>deck</th>\n",
       "      <th>embark_town</th>\n",
       "    </tr>\n",
       "  </thead>\n",
       "  <tbody>\n",
       "    <tr>\n",
       "      <th>0</th>\n",
       "      <td>0</td>\n",
       "      <td>male</td>\n",
       "      <td>22.0</td>\n",
       "      <td>1</td>\n",
       "      <td>0</td>\n",
       "      <td>7.2500</td>\n",
       "      <td>Third</td>\n",
       "      <td>man</td>\n",
       "      <td>NaN</td>\n",
       "      <td>Southampton</td>\n",
       "    </tr>\n",
       "    <tr>\n",
       "      <th>1</th>\n",
       "      <td>1</td>\n",
       "      <td>female</td>\n",
       "      <td>38.0</td>\n",
       "      <td>1</td>\n",
       "      <td>0</td>\n",
       "      <td>71.2833</td>\n",
       "      <td>First</td>\n",
       "      <td>woman</td>\n",
       "      <td>C</td>\n",
       "      <td>Cherbourg</td>\n",
       "    </tr>\n",
       "    <tr>\n",
       "      <th>2</th>\n",
       "      <td>1</td>\n",
       "      <td>female</td>\n",
       "      <td>26.0</td>\n",
       "      <td>0</td>\n",
       "      <td>0</td>\n",
       "      <td>7.9250</td>\n",
       "      <td>Third</td>\n",
       "      <td>woman</td>\n",
       "      <td>NaN</td>\n",
       "      <td>Southampton</td>\n",
       "    </tr>\n",
       "    <tr>\n",
       "      <th>3</th>\n",
       "      <td>1</td>\n",
       "      <td>female</td>\n",
       "      <td>35.0</td>\n",
       "      <td>1</td>\n",
       "      <td>0</td>\n",
       "      <td>53.1000</td>\n",
       "      <td>First</td>\n",
       "      <td>woman</td>\n",
       "      <td>C</td>\n",
       "      <td>Southampton</td>\n",
       "    </tr>\n",
       "    <tr>\n",
       "      <th>4</th>\n",
       "      <td>0</td>\n",
       "      <td>male</td>\n",
       "      <td>35.0</td>\n",
       "      <td>0</td>\n",
       "      <td>0</td>\n",
       "      <td>8.0500</td>\n",
       "      <td>Third</td>\n",
       "      <td>man</td>\n",
       "      <td>NaN</td>\n",
       "      <td>Southampton</td>\n",
       "    </tr>\n",
       "    <tr>\n",
       "      <th>...</th>\n",
       "      <td>...</td>\n",
       "      <td>...</td>\n",
       "      <td>...</td>\n",
       "      <td>...</td>\n",
       "      <td>...</td>\n",
       "      <td>...</td>\n",
       "      <td>...</td>\n",
       "      <td>...</td>\n",
       "      <td>...</td>\n",
       "      <td>...</td>\n",
       "    </tr>\n",
       "    <tr>\n",
       "      <th>886</th>\n",
       "      <td>0</td>\n",
       "      <td>male</td>\n",
       "      <td>27.0</td>\n",
       "      <td>0</td>\n",
       "      <td>0</td>\n",
       "      <td>13.0000</td>\n",
       "      <td>Second</td>\n",
       "      <td>man</td>\n",
       "      <td>NaN</td>\n",
       "      <td>Southampton</td>\n",
       "    </tr>\n",
       "    <tr>\n",
       "      <th>887</th>\n",
       "      <td>1</td>\n",
       "      <td>female</td>\n",
       "      <td>19.0</td>\n",
       "      <td>0</td>\n",
       "      <td>0</td>\n",
       "      <td>30.0000</td>\n",
       "      <td>First</td>\n",
       "      <td>woman</td>\n",
       "      <td>B</td>\n",
       "      <td>Southampton</td>\n",
       "    </tr>\n",
       "    <tr>\n",
       "      <th>888</th>\n",
       "      <td>0</td>\n",
       "      <td>female</td>\n",
       "      <td>NaN</td>\n",
       "      <td>1</td>\n",
       "      <td>2</td>\n",
       "      <td>23.4500</td>\n",
       "      <td>Third</td>\n",
       "      <td>woman</td>\n",
       "      <td>NaN</td>\n",
       "      <td>Southampton</td>\n",
       "    </tr>\n",
       "    <tr>\n",
       "      <th>889</th>\n",
       "      <td>1</td>\n",
       "      <td>male</td>\n",
       "      <td>26.0</td>\n",
       "      <td>0</td>\n",
       "      <td>0</td>\n",
       "      <td>30.0000</td>\n",
       "      <td>First</td>\n",
       "      <td>man</td>\n",
       "      <td>C</td>\n",
       "      <td>Cherbourg</td>\n",
       "    </tr>\n",
       "    <tr>\n",
       "      <th>890</th>\n",
       "      <td>0</td>\n",
       "      <td>male</td>\n",
       "      <td>32.0</td>\n",
       "      <td>0</td>\n",
       "      <td>0</td>\n",
       "      <td>7.7500</td>\n",
       "      <td>Third</td>\n",
       "      <td>man</td>\n",
       "      <td>NaN</td>\n",
       "      <td>Queenstown</td>\n",
       "    </tr>\n",
       "  </tbody>\n",
       "</table>\n",
       "<p>891 rows × 10 columns</p>\n",
       "</div>"
      ],
      "text/plain": [
       "     survived     sex   age  sibsp  parch     fare   class    who deck  \\\n",
       "0           0    male  22.0      1      0   7.2500   Third    man  NaN   \n",
       "1           1  female  38.0      1      0  71.2833   First  woman    C   \n",
       "2           1  female  26.0      0      0   7.9250   Third  woman  NaN   \n",
       "3           1  female  35.0      1      0  53.1000   First  woman    C   \n",
       "4           0    male  35.0      0      0   8.0500   Third    man  NaN   \n",
       "..        ...     ...   ...    ...    ...      ...     ...    ...  ...   \n",
       "886         0    male  27.0      0      0  13.0000  Second    man  NaN   \n",
       "887         1  female  19.0      0      0  30.0000   First  woman    B   \n",
       "888         0  female   NaN      1      2  23.4500   Third  woman  NaN   \n",
       "889         1    male  26.0      0      0  30.0000   First    man    C   \n",
       "890         0    male  32.0      0      0   7.7500   Third    man  NaN   \n",
       "\n",
       "     embark_town  \n",
       "0    Southampton  \n",
       "1      Cherbourg  \n",
       "2    Southampton  \n",
       "3    Southampton  \n",
       "4    Southampton  \n",
       "..           ...  \n",
       "886  Southampton  \n",
       "887  Southampton  \n",
       "888  Southampton  \n",
       "889    Cherbourg  \n",
       "890   Queenstown  \n",
       "\n",
       "[891 rows x 10 columns]"
      ]
     },
     "execution_count": 93,
     "metadata": {},
     "output_type": "execute_result"
    }
   ],
   "source": [
    "df = pd.read_csv('./data/titanic_r.csv')\n",
    "df"
   ]
  },
  {
   "cell_type": "markdown",
   "id": "890fc435",
   "metadata": {},
   "source": [
    "- 데이터 전처리\n",
    "  - 새 열 child: who 값이 child면 1 아니면 0\n",
    "  - 새 열 family: sibsp + parch\n",
    "  - 새 열 alone: family 값이 0보다 크면 0 아니면 0"
   ]
  },
  {
   "cell_type": "code",
   "execution_count": 94,
   "id": "f23e2f4d",
   "metadata": {},
   "outputs": [],
   "source": [
    "df['child'] = df['who'].apply(lambda x: 1 if x=='child' else 0)\n",
    "df['family'] = df['sibsp'] + df['parch']\n",
    "df['alone'] = df['family'].apply(lambda x: 0 if x>0 else 1)"
   ]
  },
  {
   "cell_type": "markdown",
   "id": "ab057cbe",
   "metadata": {},
   "source": [
    "- 데이터 인코딩\n",
    "  - class 열: First 1, Second 2, Third 3\n",
    "  - deck 열: A->0, B->1 순으로 순서대로 부여, 결측치는 그대로 결측치\n",
    "  - embark_town 열: Queenstown 0, Cherbourg 1, Southampton 2 결측치는 그대로 결측치\n",
    "  - sex 열: female 0, male 1"
   ]
  },
  {
   "cell_type": "code",
   "execution_count": 95,
   "id": "0343b08d",
   "metadata": {},
   "outputs": [],
   "source": [
    "def encode_class(x):\n",
    "    return {'First':1, 'Second':2, 'Third':3}[x]\n",
    "\n",
    "def encode_deck(x):\n",
    "    if type(x) == str:\n",
    "        return ord(x)-ord('A')\n",
    "    else:\n",
    "        return x\n",
    "\n",
    "def encode_town(x):\n",
    "    if type(x) == str:\n",
    "        return {'Queenstown':0, 'Cherbourg':1, 'Southampton':2}[x]\n",
    "    else:\n",
    "        return x\n",
    "\n",
    "df['class'] = df['class'].apply(encode_class)\n",
    "df['deck'] = df['deck'].apply(encode_deck)\n",
    "df['embark_town'] = df['embark_town'].apply(encode_town)\n",
    "df['sex'] = df['sex'].apply(lambda x: 0 if x=='female' else 1)"
   ]
  },
  {
   "cell_type": "markdown",
   "id": "6046ac2d",
   "metadata": {},
   "source": [
    "- who 열 삭제"
   ]
  },
  {
   "cell_type": "code",
   "execution_count": 96,
   "id": "7ae81f29",
   "metadata": {},
   "outputs": [
    {
     "data": {
      "text/html": [
       "<div>\n",
       "<style scoped>\n",
       "    .dataframe tbody tr th:only-of-type {\n",
       "        vertical-align: middle;\n",
       "    }\n",
       "\n",
       "    .dataframe tbody tr th {\n",
       "        vertical-align: top;\n",
       "    }\n",
       "\n",
       "    .dataframe thead th {\n",
       "        text-align: right;\n",
       "    }\n",
       "</style>\n",
       "<table border=\"1\" class=\"dataframe\">\n",
       "  <thead>\n",
       "    <tr style=\"text-align: right;\">\n",
       "      <th></th>\n",
       "      <th>survived</th>\n",
       "      <th>sex</th>\n",
       "      <th>age</th>\n",
       "      <th>sibsp</th>\n",
       "      <th>parch</th>\n",
       "      <th>fare</th>\n",
       "      <th>class</th>\n",
       "      <th>deck</th>\n",
       "      <th>embark_town</th>\n",
       "      <th>child</th>\n",
       "      <th>family</th>\n",
       "      <th>alone</th>\n",
       "    </tr>\n",
       "  </thead>\n",
       "  <tbody>\n",
       "    <tr>\n",
       "      <th>0</th>\n",
       "      <td>0</td>\n",
       "      <td>1</td>\n",
       "      <td>22.0</td>\n",
       "      <td>1</td>\n",
       "      <td>0</td>\n",
       "      <td>7.2500</td>\n",
       "      <td>3</td>\n",
       "      <td>NaN</td>\n",
       "      <td>2.0</td>\n",
       "      <td>0</td>\n",
       "      <td>1</td>\n",
       "      <td>0</td>\n",
       "    </tr>\n",
       "    <tr>\n",
       "      <th>1</th>\n",
       "      <td>1</td>\n",
       "      <td>0</td>\n",
       "      <td>38.0</td>\n",
       "      <td>1</td>\n",
       "      <td>0</td>\n",
       "      <td>71.2833</td>\n",
       "      <td>1</td>\n",
       "      <td>2.0</td>\n",
       "      <td>1.0</td>\n",
       "      <td>0</td>\n",
       "      <td>1</td>\n",
       "      <td>0</td>\n",
       "    </tr>\n",
       "    <tr>\n",
       "      <th>2</th>\n",
       "      <td>1</td>\n",
       "      <td>0</td>\n",
       "      <td>26.0</td>\n",
       "      <td>0</td>\n",
       "      <td>0</td>\n",
       "      <td>7.9250</td>\n",
       "      <td>3</td>\n",
       "      <td>NaN</td>\n",
       "      <td>2.0</td>\n",
       "      <td>0</td>\n",
       "      <td>0</td>\n",
       "      <td>1</td>\n",
       "    </tr>\n",
       "    <tr>\n",
       "      <th>3</th>\n",
       "      <td>1</td>\n",
       "      <td>0</td>\n",
       "      <td>35.0</td>\n",
       "      <td>1</td>\n",
       "      <td>0</td>\n",
       "      <td>53.1000</td>\n",
       "      <td>1</td>\n",
       "      <td>2.0</td>\n",
       "      <td>2.0</td>\n",
       "      <td>0</td>\n",
       "      <td>1</td>\n",
       "      <td>0</td>\n",
       "    </tr>\n",
       "    <tr>\n",
       "      <th>4</th>\n",
       "      <td>0</td>\n",
       "      <td>1</td>\n",
       "      <td>35.0</td>\n",
       "      <td>0</td>\n",
       "      <td>0</td>\n",
       "      <td>8.0500</td>\n",
       "      <td>3</td>\n",
       "      <td>NaN</td>\n",
       "      <td>2.0</td>\n",
       "      <td>0</td>\n",
       "      <td>0</td>\n",
       "      <td>1</td>\n",
       "    </tr>\n",
       "    <tr>\n",
       "      <th>...</th>\n",
       "      <td>...</td>\n",
       "      <td>...</td>\n",
       "      <td>...</td>\n",
       "      <td>...</td>\n",
       "      <td>...</td>\n",
       "      <td>...</td>\n",
       "      <td>...</td>\n",
       "      <td>...</td>\n",
       "      <td>...</td>\n",
       "      <td>...</td>\n",
       "      <td>...</td>\n",
       "      <td>...</td>\n",
       "    </tr>\n",
       "    <tr>\n",
       "      <th>886</th>\n",
       "      <td>0</td>\n",
       "      <td>1</td>\n",
       "      <td>27.0</td>\n",
       "      <td>0</td>\n",
       "      <td>0</td>\n",
       "      <td>13.0000</td>\n",
       "      <td>2</td>\n",
       "      <td>NaN</td>\n",
       "      <td>2.0</td>\n",
       "      <td>0</td>\n",
       "      <td>0</td>\n",
       "      <td>1</td>\n",
       "    </tr>\n",
       "    <tr>\n",
       "      <th>887</th>\n",
       "      <td>1</td>\n",
       "      <td>0</td>\n",
       "      <td>19.0</td>\n",
       "      <td>0</td>\n",
       "      <td>0</td>\n",
       "      <td>30.0000</td>\n",
       "      <td>1</td>\n",
       "      <td>1.0</td>\n",
       "      <td>2.0</td>\n",
       "      <td>0</td>\n",
       "      <td>0</td>\n",
       "      <td>1</td>\n",
       "    </tr>\n",
       "    <tr>\n",
       "      <th>888</th>\n",
       "      <td>0</td>\n",
       "      <td>0</td>\n",
       "      <td>NaN</td>\n",
       "      <td>1</td>\n",
       "      <td>2</td>\n",
       "      <td>23.4500</td>\n",
       "      <td>3</td>\n",
       "      <td>NaN</td>\n",
       "      <td>2.0</td>\n",
       "      <td>0</td>\n",
       "      <td>3</td>\n",
       "      <td>0</td>\n",
       "    </tr>\n",
       "    <tr>\n",
       "      <th>889</th>\n",
       "      <td>1</td>\n",
       "      <td>1</td>\n",
       "      <td>26.0</td>\n",
       "      <td>0</td>\n",
       "      <td>0</td>\n",
       "      <td>30.0000</td>\n",
       "      <td>1</td>\n",
       "      <td>2.0</td>\n",
       "      <td>1.0</td>\n",
       "      <td>0</td>\n",
       "      <td>0</td>\n",
       "      <td>1</td>\n",
       "    </tr>\n",
       "    <tr>\n",
       "      <th>890</th>\n",
       "      <td>0</td>\n",
       "      <td>1</td>\n",
       "      <td>32.0</td>\n",
       "      <td>0</td>\n",
       "      <td>0</td>\n",
       "      <td>7.7500</td>\n",
       "      <td>3</td>\n",
       "      <td>NaN</td>\n",
       "      <td>0.0</td>\n",
       "      <td>0</td>\n",
       "      <td>0</td>\n",
       "      <td>1</td>\n",
       "    </tr>\n",
       "  </tbody>\n",
       "</table>\n",
       "<p>891 rows × 12 columns</p>\n",
       "</div>"
      ],
      "text/plain": [
       "     survived  sex   age  sibsp  parch     fare  class  deck  embark_town  \\\n",
       "0           0    1  22.0      1      0   7.2500      3   NaN          2.0   \n",
       "1           1    0  38.0      1      0  71.2833      1   2.0          1.0   \n",
       "2           1    0  26.0      0      0   7.9250      3   NaN          2.0   \n",
       "3           1    0  35.0      1      0  53.1000      1   2.0          2.0   \n",
       "4           0    1  35.0      0      0   8.0500      3   NaN          2.0   \n",
       "..        ...  ...   ...    ...    ...      ...    ...   ...          ...   \n",
       "886         0    1  27.0      0      0  13.0000      2   NaN          2.0   \n",
       "887         1    0  19.0      0      0  30.0000      1   1.0          2.0   \n",
       "888         0    0   NaN      1      2  23.4500      3   NaN          2.0   \n",
       "889         1    1  26.0      0      0  30.0000      1   2.0          1.0   \n",
       "890         0    1  32.0      0      0   7.7500      3   NaN          0.0   \n",
       "\n",
       "     child  family  alone  \n",
       "0        0       1      0  \n",
       "1        0       1      0  \n",
       "2        0       0      1  \n",
       "3        0       1      0  \n",
       "4        0       0      1  \n",
       "..     ...     ...    ...  \n",
       "886      0       0      1  \n",
       "887      0       0      1  \n",
       "888      0       3      0  \n",
       "889      0       0      1  \n",
       "890      0       0      1  \n",
       "\n",
       "[891 rows x 12 columns]"
      ]
     },
     "execution_count": 96,
     "metadata": {},
     "output_type": "execute_result"
    }
   ],
   "source": [
    "df = df.drop('who', axis=1)\n",
    "df"
   ]
  },
  {
   "cell_type": "markdown",
   "id": "27caddf3",
   "metadata": {},
   "source": [
    " - 결측치 처리\n",
    "   - age 열: class, alone 그룹의 평균 나이\n",
    "   - deck 열: -1\n",
    "   - embark_town: embark_town의 최빈값"
   ]
  },
  {
   "cell_type": "code",
   "execution_count": 97,
   "id": "43bfa4c5",
   "metadata": {},
   "outputs": [],
   "source": [
    "df['age'] = df['age'].fillna(df.groupby(['class', 'alone'])['age'].transform('mean'))\n",
    "df['deck'] = df['deck'].fillna(-1)\n",
    "df['embark_town'] = df['embark_town'].fillna(df['embark_town'].mode()[0])"
   ]
  },
  {
   "cell_type": "markdown",
   "id": "9270b45a",
   "metadata": {},
   "source": [
    " - 데이터 전처리2\n",
    "   - 새 열 unk_deck = deck의 값이 -1이면 1 아니면 0"
   ]
  },
  {
   "cell_type": "code",
   "execution_count": 98,
   "id": "571f7fde",
   "metadata": {},
   "outputs": [
    {
     "data": {
      "text/html": [
       "<div>\n",
       "<style scoped>\n",
       "    .dataframe tbody tr th:only-of-type {\n",
       "        vertical-align: middle;\n",
       "    }\n",
       "\n",
       "    .dataframe tbody tr th {\n",
       "        vertical-align: top;\n",
       "    }\n",
       "\n",
       "    .dataframe thead th {\n",
       "        text-align: right;\n",
       "    }\n",
       "</style>\n",
       "<table border=\"1\" class=\"dataframe\">\n",
       "  <thead>\n",
       "    <tr style=\"text-align: right;\">\n",
       "      <th></th>\n",
       "      <th>survived</th>\n",
       "      <th>sex</th>\n",
       "      <th>age</th>\n",
       "      <th>sibsp</th>\n",
       "      <th>parch</th>\n",
       "      <th>fare</th>\n",
       "      <th>class</th>\n",
       "      <th>deck</th>\n",
       "      <th>embark_town</th>\n",
       "      <th>child</th>\n",
       "      <th>family</th>\n",
       "      <th>alone</th>\n",
       "      <th>unk_deck</th>\n",
       "    </tr>\n",
       "  </thead>\n",
       "  <tbody>\n",
       "    <tr>\n",
       "      <th>0</th>\n",
       "      <td>0</td>\n",
       "      <td>1</td>\n",
       "      <td>22.000</td>\n",
       "      <td>1</td>\n",
       "      <td>0</td>\n",
       "      <td>7.2500</td>\n",
       "      <td>3</td>\n",
       "      <td>-1.0</td>\n",
       "      <td>2.0</td>\n",
       "      <td>0</td>\n",
       "      <td>1</td>\n",
       "      <td>0</td>\n",
       "      <td>1</td>\n",
       "    </tr>\n",
       "    <tr>\n",
       "      <th>1</th>\n",
       "      <td>1</td>\n",
       "      <td>0</td>\n",
       "      <td>38.000</td>\n",
       "      <td>1</td>\n",
       "      <td>0</td>\n",
       "      <td>71.2833</td>\n",
       "      <td>1</td>\n",
       "      <td>2.0</td>\n",
       "      <td>1.0</td>\n",
       "      <td>0</td>\n",
       "      <td>1</td>\n",
       "      <td>0</td>\n",
       "      <td>0</td>\n",
       "    </tr>\n",
       "    <tr>\n",
       "      <th>2</th>\n",
       "      <td>1</td>\n",
       "      <td>0</td>\n",
       "      <td>26.000</td>\n",
       "      <td>0</td>\n",
       "      <td>0</td>\n",
       "      <td>7.9250</td>\n",
       "      <td>3</td>\n",
       "      <td>-1.0</td>\n",
       "      <td>2.0</td>\n",
       "      <td>0</td>\n",
       "      <td>0</td>\n",
       "      <td>1</td>\n",
       "      <td>1</td>\n",
       "    </tr>\n",
       "    <tr>\n",
       "      <th>3</th>\n",
       "      <td>1</td>\n",
       "      <td>0</td>\n",
       "      <td>35.000</td>\n",
       "      <td>1</td>\n",
       "      <td>0</td>\n",
       "      <td>53.1000</td>\n",
       "      <td>1</td>\n",
       "      <td>2.0</td>\n",
       "      <td>2.0</td>\n",
       "      <td>0</td>\n",
       "      <td>1</td>\n",
       "      <td>0</td>\n",
       "      <td>0</td>\n",
       "    </tr>\n",
       "    <tr>\n",
       "      <th>4</th>\n",
       "      <td>0</td>\n",
       "      <td>1</td>\n",
       "      <td>35.000</td>\n",
       "      <td>0</td>\n",
       "      <td>0</td>\n",
       "      <td>8.0500</td>\n",
       "      <td>3</td>\n",
       "      <td>-1.0</td>\n",
       "      <td>2.0</td>\n",
       "      <td>0</td>\n",
       "      <td>0</td>\n",
       "      <td>1</td>\n",
       "      <td>1</td>\n",
       "    </tr>\n",
       "    <tr>\n",
       "      <th>...</th>\n",
       "      <td>...</td>\n",
       "      <td>...</td>\n",
       "      <td>...</td>\n",
       "      <td>...</td>\n",
       "      <td>...</td>\n",
       "      <td>...</td>\n",
       "      <td>...</td>\n",
       "      <td>...</td>\n",
       "      <td>...</td>\n",
       "      <td>...</td>\n",
       "      <td>...</td>\n",
       "      <td>...</td>\n",
       "      <td>...</td>\n",
       "    </tr>\n",
       "    <tr>\n",
       "      <th>886</th>\n",
       "      <td>0</td>\n",
       "      <td>1</td>\n",
       "      <td>27.000</td>\n",
       "      <td>0</td>\n",
       "      <td>0</td>\n",
       "      <td>13.0000</td>\n",
       "      <td>2</td>\n",
       "      <td>-1.0</td>\n",
       "      <td>2.0</td>\n",
       "      <td>0</td>\n",
       "      <td>0</td>\n",
       "      <td>1</td>\n",
       "      <td>1</td>\n",
       "    </tr>\n",
       "    <tr>\n",
       "      <th>887</th>\n",
       "      <td>1</td>\n",
       "      <td>0</td>\n",
       "      <td>19.000</td>\n",
       "      <td>0</td>\n",
       "      <td>0</td>\n",
       "      <td>30.0000</td>\n",
       "      <td>1</td>\n",
       "      <td>1.0</td>\n",
       "      <td>2.0</td>\n",
       "      <td>0</td>\n",
       "      <td>0</td>\n",
       "      <td>1</td>\n",
       "      <td>0</td>\n",
       "    </tr>\n",
       "    <tr>\n",
       "      <th>888</th>\n",
       "      <td>0</td>\n",
       "      <td>0</td>\n",
       "      <td>19.784</td>\n",
       "      <td>1</td>\n",
       "      <td>2</td>\n",
       "      <td>23.4500</td>\n",
       "      <td>3</td>\n",
       "      <td>-1.0</td>\n",
       "      <td>2.0</td>\n",
       "      <td>0</td>\n",
       "      <td>3</td>\n",
       "      <td>0</td>\n",
       "      <td>1</td>\n",
       "    </tr>\n",
       "    <tr>\n",
       "      <th>889</th>\n",
       "      <td>1</td>\n",
       "      <td>1</td>\n",
       "      <td>26.000</td>\n",
       "      <td>0</td>\n",
       "      <td>0</td>\n",
       "      <td>30.0000</td>\n",
       "      <td>1</td>\n",
       "      <td>2.0</td>\n",
       "      <td>1.0</td>\n",
       "      <td>0</td>\n",
       "      <td>0</td>\n",
       "      <td>1</td>\n",
       "      <td>0</td>\n",
       "    </tr>\n",
       "    <tr>\n",
       "      <th>890</th>\n",
       "      <td>0</td>\n",
       "      <td>1</td>\n",
       "      <td>32.000</td>\n",
       "      <td>0</td>\n",
       "      <td>0</td>\n",
       "      <td>7.7500</td>\n",
       "      <td>3</td>\n",
       "      <td>-1.0</td>\n",
       "      <td>0.0</td>\n",
       "      <td>0</td>\n",
       "      <td>0</td>\n",
       "      <td>1</td>\n",
       "      <td>1</td>\n",
       "    </tr>\n",
       "  </tbody>\n",
       "</table>\n",
       "<p>891 rows × 13 columns</p>\n",
       "</div>"
      ],
      "text/plain": [
       "     survived  sex     age  sibsp  parch     fare  class  deck  embark_town  \\\n",
       "0           0    1  22.000      1      0   7.2500      3  -1.0          2.0   \n",
       "1           1    0  38.000      1      0  71.2833      1   2.0          1.0   \n",
       "2           1    0  26.000      0      0   7.9250      3  -1.0          2.0   \n",
       "3           1    0  35.000      1      0  53.1000      1   2.0          2.0   \n",
       "4           0    1  35.000      0      0   8.0500      3  -1.0          2.0   \n",
       "..        ...  ...     ...    ...    ...      ...    ...   ...          ...   \n",
       "886         0    1  27.000      0      0  13.0000      2  -1.0          2.0   \n",
       "887         1    0  19.000      0      0  30.0000      1   1.0          2.0   \n",
       "888         0    0  19.784      1      2  23.4500      3  -1.0          2.0   \n",
       "889         1    1  26.000      0      0  30.0000      1   2.0          1.0   \n",
       "890         0    1  32.000      0      0   7.7500      3  -1.0          0.0   \n",
       "\n",
       "     child  family  alone  unk_deck  \n",
       "0        0       1      0         1  \n",
       "1        0       1      0         0  \n",
       "2        0       0      1         1  \n",
       "3        0       1      0         0  \n",
       "4        0       0      1         1  \n",
       "..     ...     ...    ...       ...  \n",
       "886      0       0      1         1  \n",
       "887      0       0      1         0  \n",
       "888      0       3      0         1  \n",
       "889      0       0      1         0  \n",
       "890      0       0      1         1  \n",
       "\n",
       "[891 rows x 13 columns]"
      ]
     },
     "execution_count": 98,
     "metadata": {},
     "output_type": "execute_result"
    }
   ],
   "source": [
    "df['unk_deck'] = df['deck'].apply(lambda x: 1 if x==-1 else 0)\n",
    "df"
   ]
  },
  {
   "cell_type": "markdown",
   "id": "24c0d21a",
   "metadata": {},
   "source": [
    "- 데이터 선택"
   ]
  },
  {
   "cell_type": "code",
   "execution_count": 99,
   "id": "dcb4e069",
   "metadata": {},
   "outputs": [],
   "source": [
    "features = [\n",
    "    'sex',\n",
    "    'age',\n",
    "    'sibsp',\n",
    "    'parch',\n",
    "    'fare',\n",
    "    'class',\n",
    "    'deck',\n",
    "    'embark_town',\n",
    "    'child',\n",
    "    'family',\n",
    "    'alone',\n",
    "    'unk_deck'\n",
    "]\n",
    "X = df[features]\n",
    "Y = df['survived']"
   ]
  },
  {
   "cell_type": "markdown",
   "id": "f042eeab",
   "metadata": {},
   "source": [
    "- 데이터 분할\n",
    "  - 분할 비율 7:3\n",
    "  - 층화 추출"
   ]
  },
  {
   "cell_type": "code",
   "execution_count": 100,
   "id": "fc6fe1dc",
   "metadata": {},
   "outputs": [],
   "source": [
    "from sklearn.model_selection import train_test_split\n",
    "\n",
    "x_train, x_test, y_train, y_test = train_test_split(X, Y,\n",
    "                                                    test_size=.3,\n",
    "                                                    random_state=0,\n",
    "                                                    stratify=Y)"
   ]
  },
  {
   "cell_type": "markdown",
   "id": "db157f8c",
   "metadata": {},
   "source": [
    "- 비교를 위해 GrandientBoosting으로 모델링한 결과를 출력하세요.\n",
    "- 평가 측도는 accuracy입니다."
   ]
  },
  {
   "cell_type": "code",
   "execution_count": 101,
   "id": "b4872f87",
   "metadata": {},
   "outputs": [
    {
     "data": {
      "text/plain": [
       "(0.9069020866773676, 0.8470149253731343)"
      ]
     },
     "execution_count": 101,
     "metadata": {},
     "output_type": "execute_result"
    }
   ],
   "source": [
    "from sklearn.ensemble import GradientBoostingClassifier\n",
    "from sklearn.metrics import accuracy_score\n",
    "\n",
    "model = GradientBoostingClassifier(random_state=0)\n",
    "model.fit(x_train, y_train)\n",
    "accuracy_score(y_train, model.predict(x_train)), accuracy_score(y_test, model.predict(x_test))"
   ]
  },
  {
   "cell_type": "markdown",
   "id": "67129e4b",
   "metadata": {},
   "source": [
    "- 시드를 777로 설정하세요."
   ]
  },
  {
   "cell_type": "code",
   "execution_count": 102,
   "id": "bd419b49",
   "metadata": {},
   "outputs": [
    {
     "data": {
      "text/plain": [
       "<torch._C.Generator at 0x1e2ffef3430>"
      ]
     },
     "execution_count": 102,
     "metadata": {},
     "output_type": "execute_result"
    }
   ],
   "source": [
    "torch.manual_seed(777)"
   ]
  },
  {
   "cell_type": "markdown",
   "id": "effd5135",
   "metadata": {},
   "source": [
    "- Sequential 모델을 이용하여 DNN을 구성하세요.\n",
    "- 두 개의 은닉층은 각각 64, 32개 퍼셉트론\n",
    "- 은닉 활성화는 relu, 출력 활성화는 sigmoid"
   ]
  },
  {
   "cell_type": "code",
   "execution_count": 103,
   "id": "a414d011",
   "metadata": {},
   "outputs": [],
   "source": [
    "model  = nn.Sequential(\n",
    "    nn.Linear(x_train.shape[1], 64),\n",
    "    nn.ReLU(),\n",
    "    nn.Linear(64, 32),\n",
    "    nn.ReLU(),\n",
    "    nn.Linear(32, 1),\n",
    "    nn.Sigmoid()\n",
    ").to(device)"
   ]
  },
  {
   "cell_type": "markdown",
   "id": "0cf970e4",
   "metadata": {},
   "source": [
    " - 모델 구성 출력"
   ]
  },
  {
   "cell_type": "code",
   "execution_count": 104,
   "id": "45946ea2",
   "metadata": {},
   "outputs": [
    {
     "name": "stdout",
     "output_type": "stream",
     "text": [
      "Sequential(\n",
      "  (0): Linear(in_features=12, out_features=64, bias=True)\n",
      "  (1): ReLU()\n",
      "  (2): Linear(in_features=64, out_features=32, bias=True)\n",
      "  (3): ReLU()\n",
      "  (4): Linear(in_features=32, out_features=1, bias=True)\n",
      "  (5): Sigmoid()\n",
      ")\n"
     ]
    }
   ],
   "source": [
    "print(model)"
   ]
  },
  {
   "cell_type": "markdown",
   "id": "cf0a2c91",
   "metadata": {},
   "source": [
    "- 데이터에 적합한 loss와 optimizer를 선정하여 설정하세요."
   ]
  },
  {
   "cell_type": "code",
   "execution_count": 105,
   "id": "bd56696f",
   "metadata": {},
   "outputs": [],
   "source": [
    "loss = nn.BCELoss().to(device)\n",
    "optimizer = optim.Adam(model.parameters(), lr=0.001)"
   ]
  },
  {
   "cell_type": "code",
   "execution_count": 106,
   "id": "8ffd2ef3",
   "metadata": {},
   "outputs": [
    {
     "data": {
      "application/vnd.jupyter.widget-view+json": {
       "model_id": "a65dbb650d44486f820da251c3e6be6c",
       "version_major": 2,
       "version_minor": 0
      },
      "text/plain": [
       "  0%|          | 0/10000 [00:00<?, ?it/s]"
      ]
     },
     "metadata": {},
     "output_type": "display_data"
    }
   ],
   "source": [
    "from tqdm import notebook\n",
    "n_epochs = 10000\n",
    "\n",
    "X = torch.Tensor(x_train.values).to(device)\n",
    "Y = torch.Tensor(y_train.values).to(device)\n",
    "\n",
    "progressbar = notebook.tqdm(range(n_epochs))\n",
    "\n",
    "for epoch in progressbar:\n",
    "    h = model(X)\n",
    "    cost = loss(h, Y.view(-1, 1))\n",
    "    \n",
    "    optimizer.zero_grad()\n",
    "    cost.backward()\n",
    "    optimizer.step()\n",
    "    \n",
    "    progressbar.set_postfix({'Loss':f'{cost.item():12.6f}'})"
   ]
  },
  {
   "cell_type": "markdown",
   "id": "23373b19",
   "metadata": {},
   "source": [
    "- 학습시킨 모델로 accuracy를 출력하세요."
   ]
  },
  {
   "cell_type": "code",
   "execution_count": 107,
   "id": "e1be2081",
   "metadata": {},
   "outputs": [
    {
     "data": {
      "text/plain": [
       "(0.9470304975922953, 0.7611940298507462)"
      ]
     },
     "execution_count": 107,
     "metadata": {},
     "output_type": "execute_result"
    }
   ],
   "source": [
    "train_pred = model(torch.FloatTensor(x_train.values).to(device)).detach().cpu().numpy()\n",
    "test_pred = model(torch.FloatTensor(x_test.values).to(device)).detach().cpu().numpy()\n",
    "\n",
    "train_pred= np.where(train_pred>0.5, 1, 0)\n",
    "test_pred= np.where(test_pred>0.5, 1, 0)\n",
    "\n",
    "accuracy_score(y_train, train_pred), accuracy_score(y_test, test_pred)"
   ]
  },
  {
   "cell_type": "markdown",
   "id": "2decc4a2",
   "metadata": {},
   "source": [
    "- 반복 횟수를 줄여서 train 데이터를 학습시키세요.\n",
    "- epoch=3000회"
   ]
  },
  {
   "cell_type": "code",
   "execution_count": null,
   "id": "c2b2b0c7",
   "metadata": {},
   "outputs": [],
   "source": [
    "torch.manual_seed(777)"
   ]
  },
  {
   "cell_type": "code",
   "execution_count": 116,
   "id": "c4edb3e0",
   "metadata": {},
   "outputs": [],
   "source": [
    "model  = nn.Sequential(\n",
    "    nn.Linear(x_train.shape[1], 64),\n",
    "    nn.ReLU(),\n",
    "    nn.Linear(64, 32),\n",
    "    nn.ReLU(),\n",
    "    nn.Linear(32, 1),\n",
    "    nn.Sigmoid()\n",
    ").to(device)"
   ]
  },
  {
   "cell_type": "code",
   "execution_count": 117,
   "id": "8a4caa08",
   "metadata": {},
   "outputs": [],
   "source": [
    "loss = nn.BCELoss()\n",
    "optimizer = optim.Adam(model.parameters(), lr=0.0001)"
   ]
  },
  {
   "cell_type": "code",
   "execution_count": 118,
   "id": "0c39bcd8",
   "metadata": {},
   "outputs": [
    {
     "data": {
      "application/vnd.jupyter.widget-view+json": {
       "model_id": "fc7d190fde284f4a9dd1a776e7c56624",
       "version_major": 2,
       "version_minor": 0
      },
      "text/plain": [
       "  0%|          | 0/3000 [00:00<?, ?it/s]"
      ]
     },
     "metadata": {},
     "output_type": "display_data"
    }
   ],
   "source": [
    "from tqdm import notebook\n",
    "n_epochs = 3000\n",
    "\n",
    "X = torch.Tensor(x_train.values).to(device)\n",
    "Y = torch.Tensor(y_train.values).to(device)\n",
    "\n",
    "progressbar = notebook.tqdm(range(n_epochs))\n",
    "\n",
    "for epoch in progressbar:\n",
    "    h = model(X)\n",
    "    cost = loss(h, Y.view(-1, 1))\n",
    "    \n",
    "    optimizer.zero_grad()\n",
    "    cost.backward()\n",
    "    optimizer.step()\n",
    "    \n",
    "    progressbar.set_postfix({'Loss':f'{cost.item():12.6f}'})"
   ]
  },
  {
   "cell_type": "markdown",
   "id": "b9006b64",
   "metadata": {},
   "source": [
    "- 학습시킨 모델로 accuracy를 출력하세요."
   ]
  },
  {
   "cell_type": "code",
   "execution_count": 119,
   "id": "b25bd240",
   "metadata": {},
   "outputs": [
    {
     "data": {
      "text/plain": [
       "(0.85553772070626, 0.8171641791044776)"
      ]
     },
     "execution_count": 119,
     "metadata": {},
     "output_type": "execute_result"
    }
   ],
   "source": [
    "train_pred = model(torch.FloatTensor(x_train.values).to(device)).detach().cpu().numpy()\n",
    "test_pred = model(torch.FloatTensor(x_test.values).to(device)).detach().cpu().numpy()\n",
    "\n",
    "train_pred= np.where(train_pred>0.5, 1, 0)\n",
    "test_pred= np.where(test_pred>0.5, 1, 0)\n",
    "\n",
    "accuracy_score(y_train, train_pred), accuracy_score(y_test, test_pred)"
   ]
  }
 ],
 "metadata": {
  "availableInstances": [
   {
    "_defaultOrder": 0,
    "_isFastLaunch": true,
    "category": "General purpose",
    "gpuNum": 0,
    "hideHardwareSpecs": false,
    "memoryGiB": 4,
    "name": "ml.t3.medium",
    "vcpuNum": 2
   },
   {
    "_defaultOrder": 1,
    "_isFastLaunch": false,
    "category": "General purpose",
    "gpuNum": 0,
    "hideHardwareSpecs": false,
    "memoryGiB": 8,
    "name": "ml.t3.large",
    "vcpuNum": 2
   },
   {
    "_defaultOrder": 2,
    "_isFastLaunch": false,
    "category": "General purpose",
    "gpuNum": 0,
    "hideHardwareSpecs": false,
    "memoryGiB": 16,
    "name": "ml.t3.xlarge",
    "vcpuNum": 4
   },
   {
    "_defaultOrder": 3,
    "_isFastLaunch": false,
    "category": "General purpose",
    "gpuNum": 0,
    "hideHardwareSpecs": false,
    "memoryGiB": 32,
    "name": "ml.t3.2xlarge",
    "vcpuNum": 8
   },
   {
    "_defaultOrder": 4,
    "_isFastLaunch": true,
    "category": "General purpose",
    "gpuNum": 0,
    "hideHardwareSpecs": false,
    "memoryGiB": 8,
    "name": "ml.m5.large",
    "vcpuNum": 2
   },
   {
    "_defaultOrder": 5,
    "_isFastLaunch": false,
    "category": "General purpose",
    "gpuNum": 0,
    "hideHardwareSpecs": false,
    "memoryGiB": 16,
    "name": "ml.m5.xlarge",
    "vcpuNum": 4
   },
   {
    "_defaultOrder": 6,
    "_isFastLaunch": false,
    "category": "General purpose",
    "gpuNum": 0,
    "hideHardwareSpecs": false,
    "memoryGiB": 32,
    "name": "ml.m5.2xlarge",
    "vcpuNum": 8
   },
   {
    "_defaultOrder": 7,
    "_isFastLaunch": false,
    "category": "General purpose",
    "gpuNum": 0,
    "hideHardwareSpecs": false,
    "memoryGiB": 64,
    "name": "ml.m5.4xlarge",
    "vcpuNum": 16
   },
   {
    "_defaultOrder": 8,
    "_isFastLaunch": false,
    "category": "General purpose",
    "gpuNum": 0,
    "hideHardwareSpecs": false,
    "memoryGiB": 128,
    "name": "ml.m5.8xlarge",
    "vcpuNum": 32
   },
   {
    "_defaultOrder": 9,
    "_isFastLaunch": false,
    "category": "General purpose",
    "gpuNum": 0,
    "hideHardwareSpecs": false,
    "memoryGiB": 192,
    "name": "ml.m5.12xlarge",
    "vcpuNum": 48
   },
   {
    "_defaultOrder": 10,
    "_isFastLaunch": false,
    "category": "General purpose",
    "gpuNum": 0,
    "hideHardwareSpecs": false,
    "memoryGiB": 256,
    "name": "ml.m5.16xlarge",
    "vcpuNum": 64
   },
   {
    "_defaultOrder": 11,
    "_isFastLaunch": false,
    "category": "General purpose",
    "gpuNum": 0,
    "hideHardwareSpecs": false,
    "memoryGiB": 384,
    "name": "ml.m5.24xlarge",
    "vcpuNum": 96
   },
   {
    "_defaultOrder": 12,
    "_isFastLaunch": false,
    "category": "General purpose",
    "gpuNum": 0,
    "hideHardwareSpecs": false,
    "memoryGiB": 8,
    "name": "ml.m5d.large",
    "vcpuNum": 2
   },
   {
    "_defaultOrder": 13,
    "_isFastLaunch": false,
    "category": "General purpose",
    "gpuNum": 0,
    "hideHardwareSpecs": false,
    "memoryGiB": 16,
    "name": "ml.m5d.xlarge",
    "vcpuNum": 4
   },
   {
    "_defaultOrder": 14,
    "_isFastLaunch": false,
    "category": "General purpose",
    "gpuNum": 0,
    "hideHardwareSpecs": false,
    "memoryGiB": 32,
    "name": "ml.m5d.2xlarge",
    "vcpuNum": 8
   },
   {
    "_defaultOrder": 15,
    "_isFastLaunch": false,
    "category": "General purpose",
    "gpuNum": 0,
    "hideHardwareSpecs": false,
    "memoryGiB": 64,
    "name": "ml.m5d.4xlarge",
    "vcpuNum": 16
   },
   {
    "_defaultOrder": 16,
    "_isFastLaunch": false,
    "category": "General purpose",
    "gpuNum": 0,
    "hideHardwareSpecs": false,
    "memoryGiB": 128,
    "name": "ml.m5d.8xlarge",
    "vcpuNum": 32
   },
   {
    "_defaultOrder": 17,
    "_isFastLaunch": false,
    "category": "General purpose",
    "gpuNum": 0,
    "hideHardwareSpecs": false,
    "memoryGiB": 192,
    "name": "ml.m5d.12xlarge",
    "vcpuNum": 48
   },
   {
    "_defaultOrder": 18,
    "_isFastLaunch": false,
    "category": "General purpose",
    "gpuNum": 0,
    "hideHardwareSpecs": false,
    "memoryGiB": 256,
    "name": "ml.m5d.16xlarge",
    "vcpuNum": 64
   },
   {
    "_defaultOrder": 19,
    "_isFastLaunch": false,
    "category": "General purpose",
    "gpuNum": 0,
    "hideHardwareSpecs": false,
    "memoryGiB": 384,
    "name": "ml.m5d.24xlarge",
    "vcpuNum": 96
   },
   {
    "_defaultOrder": 20,
    "_isFastLaunch": false,
    "category": "General purpose",
    "gpuNum": 0,
    "hideHardwareSpecs": true,
    "memoryGiB": 0,
    "name": "ml.geospatial.interactive",
    "supportedImageNames": [
     "sagemaker-geospatial-v1-0"
    ],
    "vcpuNum": 0
   },
   {
    "_defaultOrder": 21,
    "_isFastLaunch": true,
    "category": "Compute optimized",
    "gpuNum": 0,
    "hideHardwareSpecs": false,
    "memoryGiB": 4,
    "name": "ml.c5.large",
    "vcpuNum": 2
   },
   {
    "_defaultOrder": 22,
    "_isFastLaunch": false,
    "category": "Compute optimized",
    "gpuNum": 0,
    "hideHardwareSpecs": false,
    "memoryGiB": 8,
    "name": "ml.c5.xlarge",
    "vcpuNum": 4
   },
   {
    "_defaultOrder": 23,
    "_isFastLaunch": false,
    "category": "Compute optimized",
    "gpuNum": 0,
    "hideHardwareSpecs": false,
    "memoryGiB": 16,
    "name": "ml.c5.2xlarge",
    "vcpuNum": 8
   },
   {
    "_defaultOrder": 24,
    "_isFastLaunch": false,
    "category": "Compute optimized",
    "gpuNum": 0,
    "hideHardwareSpecs": false,
    "memoryGiB": 32,
    "name": "ml.c5.4xlarge",
    "vcpuNum": 16
   },
   {
    "_defaultOrder": 25,
    "_isFastLaunch": false,
    "category": "Compute optimized",
    "gpuNum": 0,
    "hideHardwareSpecs": false,
    "memoryGiB": 72,
    "name": "ml.c5.9xlarge",
    "vcpuNum": 36
   },
   {
    "_defaultOrder": 26,
    "_isFastLaunch": false,
    "category": "Compute optimized",
    "gpuNum": 0,
    "hideHardwareSpecs": false,
    "memoryGiB": 96,
    "name": "ml.c5.12xlarge",
    "vcpuNum": 48
   },
   {
    "_defaultOrder": 27,
    "_isFastLaunch": false,
    "category": "Compute optimized",
    "gpuNum": 0,
    "hideHardwareSpecs": false,
    "memoryGiB": 144,
    "name": "ml.c5.18xlarge",
    "vcpuNum": 72
   },
   {
    "_defaultOrder": 28,
    "_isFastLaunch": false,
    "category": "Compute optimized",
    "gpuNum": 0,
    "hideHardwareSpecs": false,
    "memoryGiB": 192,
    "name": "ml.c5.24xlarge",
    "vcpuNum": 96
   },
   {
    "_defaultOrder": 29,
    "_isFastLaunch": true,
    "category": "Accelerated computing",
    "gpuNum": 1,
    "hideHardwareSpecs": false,
    "memoryGiB": 16,
    "name": "ml.g4dn.xlarge",
    "vcpuNum": 4
   },
   {
    "_defaultOrder": 30,
    "_isFastLaunch": false,
    "category": "Accelerated computing",
    "gpuNum": 1,
    "hideHardwareSpecs": false,
    "memoryGiB": 32,
    "name": "ml.g4dn.2xlarge",
    "vcpuNum": 8
   },
   {
    "_defaultOrder": 31,
    "_isFastLaunch": false,
    "category": "Accelerated computing",
    "gpuNum": 1,
    "hideHardwareSpecs": false,
    "memoryGiB": 64,
    "name": "ml.g4dn.4xlarge",
    "vcpuNum": 16
   },
   {
    "_defaultOrder": 32,
    "_isFastLaunch": false,
    "category": "Accelerated computing",
    "gpuNum": 1,
    "hideHardwareSpecs": false,
    "memoryGiB": 128,
    "name": "ml.g4dn.8xlarge",
    "vcpuNum": 32
   },
   {
    "_defaultOrder": 33,
    "_isFastLaunch": false,
    "category": "Accelerated computing",
    "gpuNum": 4,
    "hideHardwareSpecs": false,
    "memoryGiB": 192,
    "name": "ml.g4dn.12xlarge",
    "vcpuNum": 48
   },
   {
    "_defaultOrder": 34,
    "_isFastLaunch": false,
    "category": "Accelerated computing",
    "gpuNum": 1,
    "hideHardwareSpecs": false,
    "memoryGiB": 256,
    "name": "ml.g4dn.16xlarge",
    "vcpuNum": 64
   },
   {
    "_defaultOrder": 35,
    "_isFastLaunch": false,
    "category": "Accelerated computing",
    "gpuNum": 1,
    "hideHardwareSpecs": false,
    "memoryGiB": 61,
    "name": "ml.p3.2xlarge",
    "vcpuNum": 8
   },
   {
    "_defaultOrder": 36,
    "_isFastLaunch": false,
    "category": "Accelerated computing",
    "gpuNum": 4,
    "hideHardwareSpecs": false,
    "memoryGiB": 244,
    "name": "ml.p3.8xlarge",
    "vcpuNum": 32
   },
   {
    "_defaultOrder": 37,
    "_isFastLaunch": false,
    "category": "Accelerated computing",
    "gpuNum": 8,
    "hideHardwareSpecs": false,
    "memoryGiB": 488,
    "name": "ml.p3.16xlarge",
    "vcpuNum": 64
   },
   {
    "_defaultOrder": 38,
    "_isFastLaunch": false,
    "category": "Accelerated computing",
    "gpuNum": 8,
    "hideHardwareSpecs": false,
    "memoryGiB": 768,
    "name": "ml.p3dn.24xlarge",
    "vcpuNum": 96
   },
   {
    "_defaultOrder": 39,
    "_isFastLaunch": false,
    "category": "Memory Optimized",
    "gpuNum": 0,
    "hideHardwareSpecs": false,
    "memoryGiB": 16,
    "name": "ml.r5.large",
    "vcpuNum": 2
   },
   {
    "_defaultOrder": 40,
    "_isFastLaunch": false,
    "category": "Memory Optimized",
    "gpuNum": 0,
    "hideHardwareSpecs": false,
    "memoryGiB": 32,
    "name": "ml.r5.xlarge",
    "vcpuNum": 4
   },
   {
    "_defaultOrder": 41,
    "_isFastLaunch": false,
    "category": "Memory Optimized",
    "gpuNum": 0,
    "hideHardwareSpecs": false,
    "memoryGiB": 64,
    "name": "ml.r5.2xlarge",
    "vcpuNum": 8
   },
   {
    "_defaultOrder": 42,
    "_isFastLaunch": false,
    "category": "Memory Optimized",
    "gpuNum": 0,
    "hideHardwareSpecs": false,
    "memoryGiB": 128,
    "name": "ml.r5.4xlarge",
    "vcpuNum": 16
   },
   {
    "_defaultOrder": 43,
    "_isFastLaunch": false,
    "category": "Memory Optimized",
    "gpuNum": 0,
    "hideHardwareSpecs": false,
    "memoryGiB": 256,
    "name": "ml.r5.8xlarge",
    "vcpuNum": 32
   },
   {
    "_defaultOrder": 44,
    "_isFastLaunch": false,
    "category": "Memory Optimized",
    "gpuNum": 0,
    "hideHardwareSpecs": false,
    "memoryGiB": 384,
    "name": "ml.r5.12xlarge",
    "vcpuNum": 48
   },
   {
    "_defaultOrder": 45,
    "_isFastLaunch": false,
    "category": "Memory Optimized",
    "gpuNum": 0,
    "hideHardwareSpecs": false,
    "memoryGiB": 512,
    "name": "ml.r5.16xlarge",
    "vcpuNum": 64
   },
   {
    "_defaultOrder": 46,
    "_isFastLaunch": false,
    "category": "Memory Optimized",
    "gpuNum": 0,
    "hideHardwareSpecs": false,
    "memoryGiB": 768,
    "name": "ml.r5.24xlarge",
    "vcpuNum": 96
   },
   {
    "_defaultOrder": 47,
    "_isFastLaunch": false,
    "category": "Accelerated computing",
    "gpuNum": 1,
    "hideHardwareSpecs": false,
    "memoryGiB": 16,
    "name": "ml.g5.xlarge",
    "vcpuNum": 4
   },
   {
    "_defaultOrder": 48,
    "_isFastLaunch": false,
    "category": "Accelerated computing",
    "gpuNum": 1,
    "hideHardwareSpecs": false,
    "memoryGiB": 32,
    "name": "ml.g5.2xlarge",
    "vcpuNum": 8
   },
   {
    "_defaultOrder": 49,
    "_isFastLaunch": false,
    "category": "Accelerated computing",
    "gpuNum": 1,
    "hideHardwareSpecs": false,
    "memoryGiB": 64,
    "name": "ml.g5.4xlarge",
    "vcpuNum": 16
   },
   {
    "_defaultOrder": 50,
    "_isFastLaunch": false,
    "category": "Accelerated computing",
    "gpuNum": 1,
    "hideHardwareSpecs": false,
    "memoryGiB": 128,
    "name": "ml.g5.8xlarge",
    "vcpuNum": 32
   },
   {
    "_defaultOrder": 51,
    "_isFastLaunch": false,
    "category": "Accelerated computing",
    "gpuNum": 1,
    "hideHardwareSpecs": false,
    "memoryGiB": 256,
    "name": "ml.g5.16xlarge",
    "vcpuNum": 64
   },
   {
    "_defaultOrder": 52,
    "_isFastLaunch": false,
    "category": "Accelerated computing",
    "gpuNum": 4,
    "hideHardwareSpecs": false,
    "memoryGiB": 192,
    "name": "ml.g5.12xlarge",
    "vcpuNum": 48
   },
   {
    "_defaultOrder": 53,
    "_isFastLaunch": false,
    "category": "Accelerated computing",
    "gpuNum": 4,
    "hideHardwareSpecs": false,
    "memoryGiB": 384,
    "name": "ml.g5.24xlarge",
    "vcpuNum": 96
   },
   {
    "_defaultOrder": 54,
    "_isFastLaunch": false,
    "category": "Accelerated computing",
    "gpuNum": 8,
    "hideHardwareSpecs": false,
    "memoryGiB": 768,
    "name": "ml.g5.48xlarge",
    "vcpuNum": 192
   },
   {
    "_defaultOrder": 55,
    "_isFastLaunch": false,
    "category": "Accelerated computing",
    "gpuNum": 8,
    "hideHardwareSpecs": false,
    "memoryGiB": 1152,
    "name": "ml.p4d.24xlarge",
    "vcpuNum": 96
   },
   {
    "_defaultOrder": 56,
    "_isFastLaunch": false,
    "category": "Accelerated computing",
    "gpuNum": 8,
    "hideHardwareSpecs": false,
    "memoryGiB": 1152,
    "name": "ml.p4de.24xlarge",
    "vcpuNum": 96
   }
  ],
  "instance_type": "ml.c5.xlarge",
  "kernelspec": {
   "display_name": "Python 3 (ipykernel)",
   "language": "python",
   "name": "python3"
  },
  "language_info": {
   "codemirror_mode": {
    "name": "ipython",
    "version": 3
   },
   "file_extension": ".py",
   "mimetype": "text/x-python",
   "name": "python",
   "nbconvert_exporter": "python",
   "pygments_lexer": "ipython3",
   "version": "3.11.4"
  }
 },
 "nbformat": 4,
 "nbformat_minor": 5
}
