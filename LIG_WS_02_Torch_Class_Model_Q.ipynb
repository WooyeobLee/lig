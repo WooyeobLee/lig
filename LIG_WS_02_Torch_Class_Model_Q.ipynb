{
 "cells": [
  {
   "cell_type": "markdown",
   "id": "5909a8f6",
   "metadata": {},
   "source": [
    "# Torch Class Model 실습"
   ]
  },
  {
   "cell_type": "code",
   "execution_count": 1,
   "id": "57d6bf2b",
   "metadata": {},
   "outputs": [],
   "source": [
    "import pandas as pd\n",
    "import numpy as np"
   ]
  },
  {
   "cell_type": "markdown",
   "id": "e8145706",
   "metadata": {},
   "source": [
    "### Torch 모델을 이용한 아파트 실거래가 예측"
   ]
  },
  {
   "cell_type": "markdown",
   "id": "675abf59",
   "metadata": {},
   "source": [
    "- 데이터 로드"
   ]
  },
  {
   "cell_type": "code",
   "execution_count": 2,
   "id": "f56d4e19",
   "metadata": {},
   "outputs": [
    {
     "data": {
      "text/html": [
       "<div>\n",
       "<style scoped>\n",
       "    .dataframe tbody tr th:only-of-type {\n",
       "        vertical-align: middle;\n",
       "    }\n",
       "\n",
       "    .dataframe tbody tr th {\n",
       "        vertical-align: top;\n",
       "    }\n",
       "\n",
       "    .dataframe thead th {\n",
       "        text-align: right;\n",
       "    }\n",
       "</style>\n",
       "<table border=\"1\" class=\"dataframe\">\n",
       "  <thead>\n",
       "    <tr style=\"text-align: right;\">\n",
       "      <th></th>\n",
       "      <th>건축년도</th>\n",
       "      <th>거래년도</th>\n",
       "      <th>거래월</th>\n",
       "      <th>거래일자</th>\n",
       "      <th>법정동</th>\n",
       "      <th>거래금액</th>\n",
       "      <th>아파트이름</th>\n",
       "      <th>전용면적</th>\n",
       "      <th>지번</th>\n",
       "      <th>지역코드</th>\n",
       "      <th>층</th>\n",
       "    </tr>\n",
       "  </thead>\n",
       "  <tbody>\n",
       "    <tr>\n",
       "      <th>0</th>\n",
       "      <td>2007</td>\n",
       "      <td>2020</td>\n",
       "      <td>1</td>\n",
       "      <td>3</td>\n",
       "      <td>필운동</td>\n",
       "      <td>100,000</td>\n",
       "      <td>신동아블루아광화문의 꿈</td>\n",
       "      <td>111.97</td>\n",
       "      <td>254</td>\n",
       "      <td>11110</td>\n",
       "      <td>6</td>\n",
       "    </tr>\n",
       "    <tr>\n",
       "      <th>1</th>\n",
       "      <td>2008</td>\n",
       "      <td>2020</td>\n",
       "      <td>1</td>\n",
       "      <td>2</td>\n",
       "      <td>사직동</td>\n",
       "      <td>162,000</td>\n",
       "      <td>광화문풍림스페이스본(106동)</td>\n",
       "      <td>163.33</td>\n",
       "      <td>9-1</td>\n",
       "      <td>11110</td>\n",
       "      <td>2</td>\n",
       "    </tr>\n",
       "    <tr>\n",
       "      <th>2</th>\n",
       "      <td>1994</td>\n",
       "      <td>2020</td>\n",
       "      <td>1</td>\n",
       "      <td>6</td>\n",
       "      <td>내수동</td>\n",
       "      <td>88,000</td>\n",
       "      <td>세종로대우</td>\n",
       "      <td>109.91</td>\n",
       "      <td>167</td>\n",
       "      <td>11110</td>\n",
       "      <td>11</td>\n",
       "    </tr>\n",
       "    <tr>\n",
       "      <th>3</th>\n",
       "      <td>2004</td>\n",
       "      <td>2020</td>\n",
       "      <td>1</td>\n",
       "      <td>9</td>\n",
       "      <td>내수동</td>\n",
       "      <td>130,000</td>\n",
       "      <td>킹스매너</td>\n",
       "      <td>194.43</td>\n",
       "      <td>110-15</td>\n",
       "      <td>11110</td>\n",
       "      <td>4</td>\n",
       "    </tr>\n",
       "    <tr>\n",
       "      <th>4</th>\n",
       "      <td>2003</td>\n",
       "      <td>2020</td>\n",
       "      <td>1</td>\n",
       "      <td>20</td>\n",
       "      <td>내수동</td>\n",
       "      <td>149,000</td>\n",
       "      <td>경희궁 파크팰리스</td>\n",
       "      <td>148.09</td>\n",
       "      <td>95</td>\n",
       "      <td>11110</td>\n",
       "      <td>8</td>\n",
       "    </tr>\n",
       "    <tr>\n",
       "      <th>...</th>\n",
       "      <td>...</td>\n",
       "      <td>...</td>\n",
       "      <td>...</td>\n",
       "      <td>...</td>\n",
       "      <td>...</td>\n",
       "      <td>...</td>\n",
       "      <td>...</td>\n",
       "      <td>...</td>\n",
       "      <td>...</td>\n",
       "      <td>...</td>\n",
       "      <td>...</td>\n",
       "    </tr>\n",
       "    <tr>\n",
       "      <th>80971</th>\n",
       "      <td>2011</td>\n",
       "      <td>2020</td>\n",
       "      <td>12</td>\n",
       "      <td>21</td>\n",
       "      <td>강일동</td>\n",
       "      <td>115,000</td>\n",
       "      <td>고덕리엔파크2단지</td>\n",
       "      <td>84.83</td>\n",
       "      <td>717</td>\n",
       "      <td>11740</td>\n",
       "      <td>5</td>\n",
       "    </tr>\n",
       "    <tr>\n",
       "      <th>80972</th>\n",
       "      <td>2009</td>\n",
       "      <td>2020</td>\n",
       "      <td>12</td>\n",
       "      <td>26</td>\n",
       "      <td>강일동</td>\n",
       "      <td>109,000</td>\n",
       "      <td>강일리버파크3단지</td>\n",
       "      <td>84.53</td>\n",
       "      <td>674</td>\n",
       "      <td>11740</td>\n",
       "      <td>7</td>\n",
       "    </tr>\n",
       "    <tr>\n",
       "      <th>80973</th>\n",
       "      <td>2009</td>\n",
       "      <td>2020</td>\n",
       "      <td>12</td>\n",
       "      <td>26</td>\n",
       "      <td>강일동</td>\n",
       "      <td>107,000</td>\n",
       "      <td>강일리버파크4단지</td>\n",
       "      <td>84.83</td>\n",
       "      <td>673</td>\n",
       "      <td>11740</td>\n",
       "      <td>10</td>\n",
       "    </tr>\n",
       "    <tr>\n",
       "      <th>80974</th>\n",
       "      <td>2009</td>\n",
       "      <td>2020</td>\n",
       "      <td>12</td>\n",
       "      <td>31</td>\n",
       "      <td>강일동</td>\n",
       "      <td>111,000</td>\n",
       "      <td>강일리버파크4단지</td>\n",
       "      <td>84.74</td>\n",
       "      <td>673</td>\n",
       "      <td>11740</td>\n",
       "      <td>12</td>\n",
       "    </tr>\n",
       "    <tr>\n",
       "      <th>80975</th>\n",
       "      <td>2009</td>\n",
       "      <td>2020</td>\n",
       "      <td>12</td>\n",
       "      <td>31</td>\n",
       "      <td>강일동</td>\n",
       "      <td>104,000</td>\n",
       "      <td>강일리버파크9단지</td>\n",
       "      <td>84.74</td>\n",
       "      <td>699</td>\n",
       "      <td>11740</td>\n",
       "      <td>5</td>\n",
       "    </tr>\n",
       "  </tbody>\n",
       "</table>\n",
       "<p>80976 rows × 11 columns</p>\n",
       "</div>"
      ],
      "text/plain": [
       "       건축년도  거래년도  거래월  거래일자   법정동        거래금액             아파트이름    전용면적  \\\n",
       "0      2007  2020    1     3   필운동     100,000      신동아블루아광화문의 꿈  111.97   \n",
       "1      2008  2020    1     2   사직동     162,000  광화문풍림스페이스본(106동)  163.33   \n",
       "2      1994  2020    1     6   내수동      88,000             세종로대우  109.91   \n",
       "3      2004  2020    1     9   내수동     130,000              킹스매너  194.43   \n",
       "4      2003  2020    1    20   내수동     149,000         경희궁 파크팰리스  148.09   \n",
       "...     ...   ...  ...   ...   ...         ...               ...     ...   \n",
       "80971  2011  2020   12    21   강일동     115,000         고덕리엔파크2단지   84.83   \n",
       "80972  2009  2020   12    26   강일동     109,000         강일리버파크3단지   84.53   \n",
       "80973  2009  2020   12    26   강일동     107,000         강일리버파크4단지   84.83   \n",
       "80974  2009  2020   12    31   강일동     111,000         강일리버파크4단지   84.74   \n",
       "80975  2009  2020   12    31   강일동     104,000         강일리버파크9단지   84.74   \n",
       "\n",
       "           지번   지역코드   층  \n",
       "0         254  11110   6  \n",
       "1         9-1  11110   2  \n",
       "2         167  11110  11  \n",
       "3      110-15  11110   4  \n",
       "4          95  11110   8  \n",
       "...       ...    ...  ..  \n",
       "80971     717  11740   5  \n",
       "80972     674  11740   7  \n",
       "80973     673  11740  10  \n",
       "80974     673  11740  12  \n",
       "80975     699  11740   5  \n",
       "\n",
       "[80976 rows x 11 columns]"
      ]
     },
     "execution_count": 2,
     "metadata": {},
     "output_type": "execute_result"
    }
   ],
   "source": [
    "df = pd.read_csv('data/2020년 서울시 아파트 실거래가.csv', encoding=\"cp949\")\n",
    "df"
   ]
  },
  {
   "cell_type": "markdown",
   "id": "4a40a581",
   "metadata": {},
   "source": [
    " - 새 열 사용년수: 2020-거래년도"
   ]
  },
  {
   "cell_type": "code",
   "execution_count": 3,
   "id": "70aad660",
   "metadata": {},
   "outputs": [
    {
     "data": {
      "text/plain": [
       "0        0\n",
       "1        0\n",
       "2        0\n",
       "3        0\n",
       "4        0\n",
       "        ..\n",
       "80971    0\n",
       "80972    0\n",
       "80973    0\n",
       "80974    0\n",
       "80975    0\n",
       "Name: 사용년수, Length: 80976, dtype: int64"
      ]
     },
     "execution_count": 3,
     "metadata": {},
     "output_type": "execute_result"
    }
   ],
   "source": [
    "df['사용년수'] = 2020 - df['거래년도']\n",
    "df['사용년수']"
   ]
  },
  {
   "cell_type": "markdown",
   "id": "17799fbf",
   "metadata": {},
   "source": [
    " - 거래금액 열 타입 변경\n",
    "   - float 타입으로 변경\n",
    "   - 천원 단위로 변경 (현재 원단위)\n",
    "   - 변환 과정 중 발생하는 오류 해결"
   ]
  },
  {
   "cell_type": "code",
   "execution_count": 4,
   "id": "e063cb35",
   "metadata": {},
   "outputs": [
    {
     "data": {
      "text/plain": [
       "0        100.0\n",
       "1        162.0\n",
       "2         88.0\n",
       "3        130.0\n",
       "4        149.0\n",
       "         ...  \n",
       "80971    115.0\n",
       "80972    109.0\n",
       "80973    107.0\n",
       "80974    111.0\n",
       "80975    104.0\n",
       "Name: 거래금액, Length: 80976, dtype: float64"
      ]
     },
     "execution_count": 4,
     "metadata": {},
     "output_type": "execute_result"
    }
   ],
   "source": [
    "df['거래금액'] = df['거래금액'].str.strip().str.replace(',', '').astype('float')/1000\n",
    "df['거래금액']"
   ]
  },
  {
   "cell_type": "markdown",
   "id": "9e68a4ca",
   "metadata": {},
   "source": [
    "- 거래년도, 지번, 거래일자 열 삭제"
   ]
  },
  {
   "cell_type": "code",
   "execution_count": 5,
   "id": "17733a58",
   "metadata": {},
   "outputs": [
    {
     "data": {
      "text/html": [
       "<div>\n",
       "<style scoped>\n",
       "    .dataframe tbody tr th:only-of-type {\n",
       "        vertical-align: middle;\n",
       "    }\n",
       "\n",
       "    .dataframe tbody tr th {\n",
       "        vertical-align: top;\n",
       "    }\n",
       "\n",
       "    .dataframe thead th {\n",
       "        text-align: right;\n",
       "    }\n",
       "</style>\n",
       "<table border=\"1\" class=\"dataframe\">\n",
       "  <thead>\n",
       "    <tr style=\"text-align: right;\">\n",
       "      <th></th>\n",
       "      <th>건축년도</th>\n",
       "      <th>거래월</th>\n",
       "      <th>법정동</th>\n",
       "      <th>거래금액</th>\n",
       "      <th>아파트이름</th>\n",
       "      <th>전용면적</th>\n",
       "      <th>지역코드</th>\n",
       "      <th>층</th>\n",
       "      <th>사용년수</th>\n",
       "    </tr>\n",
       "  </thead>\n",
       "  <tbody>\n",
       "    <tr>\n",
       "      <th>0</th>\n",
       "      <td>2007</td>\n",
       "      <td>1</td>\n",
       "      <td>필운동</td>\n",
       "      <td>100.0</td>\n",
       "      <td>신동아블루아광화문의 꿈</td>\n",
       "      <td>111.97</td>\n",
       "      <td>11110</td>\n",
       "      <td>6</td>\n",
       "      <td>0</td>\n",
       "    </tr>\n",
       "    <tr>\n",
       "      <th>1</th>\n",
       "      <td>2008</td>\n",
       "      <td>1</td>\n",
       "      <td>사직동</td>\n",
       "      <td>162.0</td>\n",
       "      <td>광화문풍림스페이스본(106동)</td>\n",
       "      <td>163.33</td>\n",
       "      <td>11110</td>\n",
       "      <td>2</td>\n",
       "      <td>0</td>\n",
       "    </tr>\n",
       "    <tr>\n",
       "      <th>2</th>\n",
       "      <td>1994</td>\n",
       "      <td>1</td>\n",
       "      <td>내수동</td>\n",
       "      <td>88.0</td>\n",
       "      <td>세종로대우</td>\n",
       "      <td>109.91</td>\n",
       "      <td>11110</td>\n",
       "      <td>11</td>\n",
       "      <td>0</td>\n",
       "    </tr>\n",
       "    <tr>\n",
       "      <th>3</th>\n",
       "      <td>2004</td>\n",
       "      <td>1</td>\n",
       "      <td>내수동</td>\n",
       "      <td>130.0</td>\n",
       "      <td>킹스매너</td>\n",
       "      <td>194.43</td>\n",
       "      <td>11110</td>\n",
       "      <td>4</td>\n",
       "      <td>0</td>\n",
       "    </tr>\n",
       "    <tr>\n",
       "      <th>4</th>\n",
       "      <td>2003</td>\n",
       "      <td>1</td>\n",
       "      <td>내수동</td>\n",
       "      <td>149.0</td>\n",
       "      <td>경희궁 파크팰리스</td>\n",
       "      <td>148.09</td>\n",
       "      <td>11110</td>\n",
       "      <td>8</td>\n",
       "      <td>0</td>\n",
       "    </tr>\n",
       "    <tr>\n",
       "      <th>...</th>\n",
       "      <td>...</td>\n",
       "      <td>...</td>\n",
       "      <td>...</td>\n",
       "      <td>...</td>\n",
       "      <td>...</td>\n",
       "      <td>...</td>\n",
       "      <td>...</td>\n",
       "      <td>...</td>\n",
       "      <td>...</td>\n",
       "    </tr>\n",
       "    <tr>\n",
       "      <th>80971</th>\n",
       "      <td>2011</td>\n",
       "      <td>12</td>\n",
       "      <td>강일동</td>\n",
       "      <td>115.0</td>\n",
       "      <td>고덕리엔파크2단지</td>\n",
       "      <td>84.83</td>\n",
       "      <td>11740</td>\n",
       "      <td>5</td>\n",
       "      <td>0</td>\n",
       "    </tr>\n",
       "    <tr>\n",
       "      <th>80972</th>\n",
       "      <td>2009</td>\n",
       "      <td>12</td>\n",
       "      <td>강일동</td>\n",
       "      <td>109.0</td>\n",
       "      <td>강일리버파크3단지</td>\n",
       "      <td>84.53</td>\n",
       "      <td>11740</td>\n",
       "      <td>7</td>\n",
       "      <td>0</td>\n",
       "    </tr>\n",
       "    <tr>\n",
       "      <th>80973</th>\n",
       "      <td>2009</td>\n",
       "      <td>12</td>\n",
       "      <td>강일동</td>\n",
       "      <td>107.0</td>\n",
       "      <td>강일리버파크4단지</td>\n",
       "      <td>84.83</td>\n",
       "      <td>11740</td>\n",
       "      <td>10</td>\n",
       "      <td>0</td>\n",
       "    </tr>\n",
       "    <tr>\n",
       "      <th>80974</th>\n",
       "      <td>2009</td>\n",
       "      <td>12</td>\n",
       "      <td>강일동</td>\n",
       "      <td>111.0</td>\n",
       "      <td>강일리버파크4단지</td>\n",
       "      <td>84.74</td>\n",
       "      <td>11740</td>\n",
       "      <td>12</td>\n",
       "      <td>0</td>\n",
       "    </tr>\n",
       "    <tr>\n",
       "      <th>80975</th>\n",
       "      <td>2009</td>\n",
       "      <td>12</td>\n",
       "      <td>강일동</td>\n",
       "      <td>104.0</td>\n",
       "      <td>강일리버파크9단지</td>\n",
       "      <td>84.74</td>\n",
       "      <td>11740</td>\n",
       "      <td>5</td>\n",
       "      <td>0</td>\n",
       "    </tr>\n",
       "  </tbody>\n",
       "</table>\n",
       "<p>80976 rows × 9 columns</p>\n",
       "</div>"
      ],
      "text/plain": [
       "       건축년도  거래월   법정동   거래금액             아파트이름    전용면적   지역코드   층  사용년수\n",
       "0      2007    1   필운동  100.0      신동아블루아광화문의 꿈  111.97  11110   6     0\n",
       "1      2008    1   사직동  162.0  광화문풍림스페이스본(106동)  163.33  11110   2     0\n",
       "2      1994    1   내수동   88.0             세종로대우  109.91  11110  11     0\n",
       "3      2004    1   내수동  130.0              킹스매너  194.43  11110   4     0\n",
       "4      2003    1   내수동  149.0         경희궁 파크팰리스  148.09  11110   8     0\n",
       "...     ...  ...   ...    ...               ...     ...    ...  ..   ...\n",
       "80971  2011   12   강일동  115.0         고덕리엔파크2단지   84.83  11740   5     0\n",
       "80972  2009   12   강일동  109.0         강일리버파크3단지   84.53  11740   7     0\n",
       "80973  2009   12   강일동  107.0         강일리버파크4단지   84.83  11740  10     0\n",
       "80974  2009   12   강일동  111.0         강일리버파크4단지   84.74  11740  12     0\n",
       "80975  2009   12   강일동  104.0         강일리버파크9단지   84.74  11740   5     0\n",
       "\n",
       "[80976 rows x 9 columns]"
      ]
     },
     "execution_count": 5,
     "metadata": {},
     "output_type": "execute_result"
    }
   ],
   "source": [
    "df = df.drop(['거래년도', '지번', '거래일자'], axis=1)\n",
    "df"
   ]
  },
  {
   "cell_type": "markdown",
   "id": "78737256",
   "metadata": {},
   "source": [
    "- 전체 데이터 중 거래량이 30개 이상인 아파트만 선택해서 df에 저장하세요."
   ]
  },
  {
   "cell_type": "code",
   "execution_count": 6,
   "id": "a499ade1",
   "metadata": {},
   "outputs": [
    {
     "data": {
      "text/html": [
       "<div>\n",
       "<style scoped>\n",
       "    .dataframe tbody tr th:only-of-type {\n",
       "        vertical-align: middle;\n",
       "    }\n",
       "\n",
       "    .dataframe tbody tr th {\n",
       "        vertical-align: top;\n",
       "    }\n",
       "\n",
       "    .dataframe thead th {\n",
       "        text-align: right;\n",
       "    }\n",
       "</style>\n",
       "<table border=\"1\" class=\"dataframe\">\n",
       "  <thead>\n",
       "    <tr style=\"text-align: right;\">\n",
       "      <th></th>\n",
       "      <th>건축년도</th>\n",
       "      <th>거래월</th>\n",
       "      <th>법정동</th>\n",
       "      <th>거래금액</th>\n",
       "      <th>아파트이름</th>\n",
       "      <th>전용면적</th>\n",
       "      <th>지역코드</th>\n",
       "      <th>층</th>\n",
       "      <th>사용년수</th>\n",
       "    </tr>\n",
       "  </thead>\n",
       "  <tbody>\n",
       "    <tr>\n",
       "      <th>12</th>\n",
       "      <td>1995</td>\n",
       "      <td>1</td>\n",
       "      <td>명륜2가</td>\n",
       "      <td>89.8</td>\n",
       "      <td>아남1</td>\n",
       "      <td>84.9000</td>\n",
       "      <td>11110</td>\n",
       "      <td>5</td>\n",
       "      <td>0</td>\n",
       "    </tr>\n",
       "    <tr>\n",
       "      <th>14</th>\n",
       "      <td>1995</td>\n",
       "      <td>1</td>\n",
       "      <td>명륜2가</td>\n",
       "      <td>89.0</td>\n",
       "      <td>아남1</td>\n",
       "      <td>84.9000</td>\n",
       "      <td>11110</td>\n",
       "      <td>12</td>\n",
       "      <td>0</td>\n",
       "    </tr>\n",
       "    <tr>\n",
       "      <th>16</th>\n",
       "      <td>1999</td>\n",
       "      <td>1</td>\n",
       "      <td>창신동</td>\n",
       "      <td>64.0</td>\n",
       "      <td>두산</td>\n",
       "      <td>59.9500</td>\n",
       "      <td>11110</td>\n",
       "      <td>4</td>\n",
       "      <td>0</td>\n",
       "    </tr>\n",
       "    <tr>\n",
       "      <th>17</th>\n",
       "      <td>1993</td>\n",
       "      <td>1</td>\n",
       "      <td>창신동</td>\n",
       "      <td>51.0</td>\n",
       "      <td>창신쌍용2</td>\n",
       "      <td>79.8700</td>\n",
       "      <td>11110</td>\n",
       "      <td>3</td>\n",
       "      <td>0</td>\n",
       "    </tr>\n",
       "    <tr>\n",
       "      <th>18</th>\n",
       "      <td>1993</td>\n",
       "      <td>1</td>\n",
       "      <td>창신동</td>\n",
       "      <td>49.5</td>\n",
       "      <td>창신쌍용2</td>\n",
       "      <td>64.6600</td>\n",
       "      <td>11110</td>\n",
       "      <td>6</td>\n",
       "      <td>0</td>\n",
       "    </tr>\n",
       "    <tr>\n",
       "      <th>...</th>\n",
       "      <td>...</td>\n",
       "      <td>...</td>\n",
       "      <td>...</td>\n",
       "      <td>...</td>\n",
       "      <td>...</td>\n",
       "      <td>...</td>\n",
       "      <td>...</td>\n",
       "      <td>...</td>\n",
       "      <td>...</td>\n",
       "    </tr>\n",
       "    <tr>\n",
       "      <th>80945</th>\n",
       "      <td>2020</td>\n",
       "      <td>12</td>\n",
       "      <td>천호동</td>\n",
       "      <td>24.5</td>\n",
       "      <td>미사 아름채 아파트</td>\n",
       "      <td>12.5650</td>\n",
       "      <td>11740</td>\n",
       "      <td>12</td>\n",
       "      <td>0</td>\n",
       "    </tr>\n",
       "    <tr>\n",
       "      <th>80947</th>\n",
       "      <td>2000</td>\n",
       "      <td>12</td>\n",
       "      <td>천호동</td>\n",
       "      <td>87.0</td>\n",
       "      <td>동아하이빌아파트</td>\n",
       "      <td>84.9700</td>\n",
       "      <td>11740</td>\n",
       "      <td>16</td>\n",
       "      <td>0</td>\n",
       "    </tr>\n",
       "    <tr>\n",
       "      <th>80948</th>\n",
       "      <td>2020</td>\n",
       "      <td>12</td>\n",
       "      <td>천호동</td>\n",
       "      <td>26.5</td>\n",
       "      <td>미사 아름채 아파트</td>\n",
       "      <td>13.3272</td>\n",
       "      <td>11740</td>\n",
       "      <td>9</td>\n",
       "      <td>0</td>\n",
       "    </tr>\n",
       "    <tr>\n",
       "      <th>80949</th>\n",
       "      <td>2017</td>\n",
       "      <td>12</td>\n",
       "      <td>천호동</td>\n",
       "      <td>136.5</td>\n",
       "      <td>래미안강동팰리스</td>\n",
       "      <td>84.9700</td>\n",
       "      <td>11740</td>\n",
       "      <td>18</td>\n",
       "      <td>0</td>\n",
       "    </tr>\n",
       "    <tr>\n",
       "      <th>80950</th>\n",
       "      <td>2017</td>\n",
       "      <td>12</td>\n",
       "      <td>천호동</td>\n",
       "      <td>116.5</td>\n",
       "      <td>래미안강동팰리스</td>\n",
       "      <td>59.9800</td>\n",
       "      <td>11740</td>\n",
       "      <td>27</td>\n",
       "      <td>0</td>\n",
       "    </tr>\n",
       "  </tbody>\n",
       "</table>\n",
       "<p>51426 rows × 9 columns</p>\n",
       "</div>"
      ],
      "text/plain": [
       "       건축년도  거래월    법정동   거래금액       아파트이름     전용면적   지역코드   층  사용년수\n",
       "12     1995    1   명륜2가   89.8         아남1  84.9000  11110   5     0\n",
       "14     1995    1   명륜2가   89.0         아남1  84.9000  11110  12     0\n",
       "16     1999    1    창신동   64.0          두산  59.9500  11110   4     0\n",
       "17     1993    1    창신동   51.0       창신쌍용2  79.8700  11110   3     0\n",
       "18     1993    1    창신동   49.5       창신쌍용2  64.6600  11110   6     0\n",
       "...     ...  ...    ...    ...         ...      ...    ...  ..   ...\n",
       "80945  2020   12    천호동   24.5  미사 아름채 아파트  12.5650  11740  12     0\n",
       "80947  2000   12    천호동   87.0    동아하이빌아파트  84.9700  11740  16     0\n",
       "80948  2020   12    천호동   26.5  미사 아름채 아파트  13.3272  11740   9     0\n",
       "80949  2017   12    천호동  136.5    래미안강동팰리스  84.9700  11740  18     0\n",
       "80950  2017   12    천호동  116.5    래미안강동팰리스  59.9800  11740  27     0\n",
       "\n",
       "[51426 rows x 9 columns]"
      ]
     },
     "execution_count": 6,
     "metadata": {},
     "output_type": "execute_result"
    }
   ],
   "source": [
    "idx = df['아파트이름'].value_counts()[df['아파트이름'].value_counts()<30].index\n",
    "df = df[~df['아파트이름'].isin(idx)]\n",
    "df"
   ]
  },
  {
   "cell_type": "markdown",
   "id": "c6de0d36",
   "metadata": {},
   "source": [
    "- 법정동, 아파트 이름을 정수로 인코딩하세요."
   ]
  },
  {
   "cell_type": "code",
   "execution_count": 7,
   "id": "8223f7a6",
   "metadata": {},
   "outputs": [
    {
     "name": "stderr",
     "output_type": "stream",
     "text": [
      "C:\\Users\\Mana\\AppData\\Local\\Temp\\ipykernel_45656\\475228213.py:3: SettingWithCopyWarning: \n",
      "A value is trying to be set on a copy of a slice from a DataFrame.\n",
      "Try using .loc[row_indexer,col_indexer] = value instead\n",
      "\n",
      "See the caveats in the documentation: https://pandas.pydata.org/pandas-docs/stable/user_guide/indexing.html#returning-a-view-versus-a-copy\n",
      "  df['법정동'] = LabelEncoder().fit_transform(df['법정동'])\n",
      "C:\\Users\\Mana\\AppData\\Local\\Temp\\ipykernel_45656\\475228213.py:4: SettingWithCopyWarning: \n",
      "A value is trying to be set on a copy of a slice from a DataFrame.\n",
      "Try using .loc[row_indexer,col_indexer] = value instead\n",
      "\n",
      "See the caveats in the documentation: https://pandas.pydata.org/pandas-docs/stable/user_guide/indexing.html#returning-a-view-versus-a-copy\n",
      "  df['아파트이름'] = LabelEncoder().fit_transform(df['아파트이름'])\n"
     ]
    },
    {
     "data": {
      "text/html": [
       "<div>\n",
       "<style scoped>\n",
       "    .dataframe tbody tr th:only-of-type {\n",
       "        vertical-align: middle;\n",
       "    }\n",
       "\n",
       "    .dataframe tbody tr th {\n",
       "        vertical-align: top;\n",
       "    }\n",
       "\n",
       "    .dataframe thead th {\n",
       "        text-align: right;\n",
       "    }\n",
       "</style>\n",
       "<table border=\"1\" class=\"dataframe\">\n",
       "  <thead>\n",
       "    <tr style=\"text-align: right;\">\n",
       "      <th></th>\n",
       "      <th>건축년도</th>\n",
       "      <th>거래월</th>\n",
       "      <th>법정동</th>\n",
       "      <th>거래금액</th>\n",
       "      <th>아파트이름</th>\n",
       "      <th>전용면적</th>\n",
       "      <th>지역코드</th>\n",
       "      <th>층</th>\n",
       "      <th>사용년수</th>\n",
       "    </tr>\n",
       "  </thead>\n",
       "  <tbody>\n",
       "    <tr>\n",
       "      <th>12</th>\n",
       "      <td>1995</td>\n",
       "      <td>1</td>\n",
       "      <td>63</td>\n",
       "      <td>89.8</td>\n",
       "      <td>445</td>\n",
       "      <td>84.9000</td>\n",
       "      <td>11110</td>\n",
       "      <td>5</td>\n",
       "      <td>0</td>\n",
       "    </tr>\n",
       "    <tr>\n",
       "      <th>14</th>\n",
       "      <td>1995</td>\n",
       "      <td>1</td>\n",
       "      <td>63</td>\n",
       "      <td>89.0</td>\n",
       "      <td>445</td>\n",
       "      <td>84.9000</td>\n",
       "      <td>11110</td>\n",
       "      <td>12</td>\n",
       "      <td>0</td>\n",
       "    </tr>\n",
       "    <tr>\n",
       "      <th>16</th>\n",
       "      <td>1999</td>\n",
       "      <td>1</td>\n",
       "      <td>190</td>\n",
       "      <td>64.0</td>\n",
       "      <td>171</td>\n",
       "      <td>59.9500</td>\n",
       "      <td>11110</td>\n",
       "      <td>4</td>\n",
       "      <td>0</td>\n",
       "    </tr>\n",
       "    <tr>\n",
       "      <th>17</th>\n",
       "      <td>1993</td>\n",
       "      <td>1</td>\n",
       "      <td>190</td>\n",
       "      <td>51.0</td>\n",
       "      <td>569</td>\n",
       "      <td>79.8700</td>\n",
       "      <td>11110</td>\n",
       "      <td>3</td>\n",
       "      <td>0</td>\n",
       "    </tr>\n",
       "    <tr>\n",
       "      <th>18</th>\n",
       "      <td>1993</td>\n",
       "      <td>1</td>\n",
       "      <td>190</td>\n",
       "      <td>49.5</td>\n",
       "      <td>569</td>\n",
       "      <td>64.6600</td>\n",
       "      <td>11110</td>\n",
       "      <td>6</td>\n",
       "      <td>0</td>\n",
       "    </tr>\n",
       "    <tr>\n",
       "      <th>...</th>\n",
       "      <td>...</td>\n",
       "      <td>...</td>\n",
       "      <td>...</td>\n",
       "      <td>...</td>\n",
       "      <td>...</td>\n",
       "      <td>...</td>\n",
       "      <td>...</td>\n",
       "      <td>...</td>\n",
       "      <td>...</td>\n",
       "    </tr>\n",
       "    <tr>\n",
       "      <th>80945</th>\n",
       "      <td>2020</td>\n",
       "      <td>12</td>\n",
       "      <td>193</td>\n",
       "      <td>24.5</td>\n",
       "      <td>266</td>\n",
       "      <td>12.5650</td>\n",
       "      <td>11740</td>\n",
       "      <td>12</td>\n",
       "      <td>0</td>\n",
       "    </tr>\n",
       "    <tr>\n",
       "      <th>80947</th>\n",
       "      <td>2000</td>\n",
       "      <td>12</td>\n",
       "      <td>193</td>\n",
       "      <td>87.0</td>\n",
       "      <td>166</td>\n",
       "      <td>84.9700</td>\n",
       "      <td>11740</td>\n",
       "      <td>16</td>\n",
       "      <td>0</td>\n",
       "    </tr>\n",
       "    <tr>\n",
       "      <th>80948</th>\n",
       "      <td>2020</td>\n",
       "      <td>12</td>\n",
       "      <td>193</td>\n",
       "      <td>26.5</td>\n",
       "      <td>266</td>\n",
       "      <td>13.3272</td>\n",
       "      <td>11740</td>\n",
       "      <td>9</td>\n",
       "      <td>0</td>\n",
       "    </tr>\n",
       "    <tr>\n",
       "      <th>80949</th>\n",
       "      <td>2017</td>\n",
       "      <td>12</td>\n",
       "      <td>193</td>\n",
       "      <td>136.5</td>\n",
       "      <td>189</td>\n",
       "      <td>84.9700</td>\n",
       "      <td>11740</td>\n",
       "      <td>18</td>\n",
       "      <td>0</td>\n",
       "    </tr>\n",
       "    <tr>\n",
       "      <th>80950</th>\n",
       "      <td>2017</td>\n",
       "      <td>12</td>\n",
       "      <td>193</td>\n",
       "      <td>116.5</td>\n",
       "      <td>189</td>\n",
       "      <td>59.9800</td>\n",
       "      <td>11740</td>\n",
       "      <td>27</td>\n",
       "      <td>0</td>\n",
       "    </tr>\n",
       "  </tbody>\n",
       "</table>\n",
       "<p>51426 rows × 9 columns</p>\n",
       "</div>"
      ],
      "text/plain": [
       "       건축년도  거래월  법정동   거래금액  아파트이름     전용면적   지역코드   층  사용년수\n",
       "12     1995    1   63   89.8    445  84.9000  11110   5     0\n",
       "14     1995    1   63   89.0    445  84.9000  11110  12     0\n",
       "16     1999    1  190   64.0    171  59.9500  11110   4     0\n",
       "17     1993    1  190   51.0    569  79.8700  11110   3     0\n",
       "18     1993    1  190   49.5    569  64.6600  11110   6     0\n",
       "...     ...  ...  ...    ...    ...      ...    ...  ..   ...\n",
       "80945  2020   12  193   24.5    266  12.5650  11740  12     0\n",
       "80947  2000   12  193   87.0    166  84.9700  11740  16     0\n",
       "80948  2020   12  193   26.5    266  13.3272  11740   9     0\n",
       "80949  2017   12  193  136.5    189  84.9700  11740  18     0\n",
       "80950  2017   12  193  116.5    189  59.9800  11740  27     0\n",
       "\n",
       "[51426 rows x 9 columns]"
      ]
     },
     "execution_count": 7,
     "metadata": {},
     "output_type": "execute_result"
    }
   ],
   "source": [
    "from sklearn.preprocessing import LabelEncoder\n",
    "\n",
    "df['법정동'] = LabelEncoder().fit_transform(df['법정동'])\n",
    "df['아파트이름'] = LabelEncoder().fit_transform(df['아파트이름'])\n",
    "df"
   ]
  },
  {
   "cell_type": "markdown",
   "id": "de2f99da",
   "metadata": {},
   "source": [
    " - 데이터 선택"
   ]
  },
  {
   "cell_type": "code",
   "execution_count": 8,
   "id": "8daa2e04",
   "metadata": {},
   "outputs": [],
   "source": [
    "features = [\n",
    "    '건축년도',\n",
    "    '거래월',\n",
    "    '법정동',\n",
    "    '아파트이름',\n",
    "    '전용면적',\n",
    "    '지역코드',\n",
    "    '층',\n",
    "    '사용년수'\n",
    "]\n",
    "X = df[features]\n",
    "Y = df['거래금액']"
   ]
  },
  {
   "cell_type": "markdown",
   "id": "908c673a",
   "metadata": {},
   "source": [
    " - 데이터 분할\n",
    "   - 분할 비율 7:3"
   ]
  },
  {
   "cell_type": "code",
   "execution_count": 9,
   "id": "bc3c6d71",
   "metadata": {},
   "outputs": [],
   "source": [
    "from sklearn.model_selection import train_test_split\n",
    "\n",
    "x_train, x_test, y_train, y_test = train_test_split(X, Y,\n",
    "                                                    test_size=.3,\n",
    "                                                    random_state=0)"
   ]
  },
  {
   "cell_type": "markdown",
   "id": "5f7b1f63",
   "metadata": {},
   "source": [
    "### 모델 구성"
   ]
  },
  {
   "cell_type": "code",
   "execution_count": 10,
   "id": "760b435b",
   "metadata": {},
   "outputs": [],
   "source": [
    "import torch\n",
    "from torch import nn, optim"
   ]
  },
  {
   "cell_type": "markdown",
   "id": "aabbddd9",
   "metadata": {},
   "source": [
    " - GPU 사용이 가능한지 장치 확인 후 device 변수 설정"
   ]
  },
  {
   "cell_type": "code",
   "execution_count": 11,
   "id": "0b9865f4",
   "metadata": {},
   "outputs": [
    {
     "data": {
      "text/plain": [
       "'cuda'"
      ]
     },
     "execution_count": 11,
     "metadata": {},
     "output_type": "execute_result"
    }
   ],
   "source": [
    "# code here\n"
   ]
  },
  {
   "cell_type": "markdown",
   "id": "10de0740",
   "metadata": {},
   "source": [
    " - DNNRegressor 모델을 클래스로 생성하세요.\n",
    " - DNNRegressor 모델은 3개의 은닉층을 갖습니다.\n",
    "   - 각 은닉층은 256, 64, 32개의 퍼셉트론을 갖고 활성화는 relu입니다."
   ]
  },
  {
   "cell_type": "code",
   "execution_count": 12,
   "id": "dcb7b767",
   "metadata": {},
   "outputs": [],
   "source": [
    "# code here\n"
   ]
  },
  {
   "cell_type": "markdown",
   "id": "504357f4",
   "metadata": {},
   "source": [
    " - 시드를 777로 설정하세요."
   ]
  },
  {
   "cell_type": "code",
   "execution_count": 13,
   "id": "be82acb2",
   "metadata": {},
   "outputs": [
    {
     "data": {
      "text/plain": [
       "<torch._C.Generator at 0x17e360565b0>"
      ]
     },
     "execution_count": 13,
     "metadata": {},
     "output_type": "execute_result"
    }
   ],
   "source": [
    "# code here\n"
   ]
  },
  {
   "cell_type": "markdown",
   "id": "bcdc47c5",
   "metadata": {},
   "source": [
    " - 모델 클래스를 이용하여 모델 인스턴스를 생성하세요."
   ]
  },
  {
   "cell_type": "code",
   "execution_count": 14,
   "id": "eaafe537",
   "metadata": {},
   "outputs": [],
   "source": [
    "# code here\n"
   ]
  },
  {
   "cell_type": "markdown",
   "id": "feac320c",
   "metadata": {},
   "source": [
    " - 모델의 구성을 출력하세요."
   ]
  },
  {
   "cell_type": "code",
   "execution_count": 15,
   "id": "04c7574e",
   "metadata": {},
   "outputs": [
    {
     "name": "stdout",
     "output_type": "stream",
     "text": [
      "DNNRegressor(\n",
      "  (fc1): Linear(in_features=8, out_features=256, bias=True)\n",
      "  (fc2): Linear(in_features=256, out_features=64, bias=True)\n",
      "  (fc3): Linear(in_features=64, out_features=32, bias=True)\n",
      "  (output): Linear(in_features=32, out_features=1, bias=True)\n",
      "  (relu): ReLU()\n",
      ")\n"
     ]
    }
   ],
   "source": [
    "# code here\n"
   ]
  },
  {
   "cell_type": "markdown",
   "id": "96f75dc9",
   "metadata": {},
   "source": [
    " - 모델의 summary를 출력하세요."
   ]
  },
  {
   "cell_type": "code",
   "execution_count": 16,
   "id": "cce88b5a",
   "metadata": {},
   "outputs": [
    {
     "data": {
      "text/plain": [
       "=================================================================\n",
       "Layer (type:depth-idx)                   Param #\n",
       "=================================================================\n",
       "DNNRegressor                             --\n",
       "├─Linear: 1-1                            2,304\n",
       "├─Linear: 1-2                            16,448\n",
       "├─Linear: 1-3                            2,080\n",
       "├─Linear: 1-4                            33\n",
       "├─ReLU: 1-5                              --\n",
       "=================================================================\n",
       "Total params: 20,865\n",
       "Trainable params: 20,865\n",
       "Non-trainable params: 0\n",
       "================================================================="
      ]
     },
     "execution_count": 16,
     "metadata": {},
     "output_type": "execute_result"
    }
   ],
   "source": [
    "# code here\n"
   ]
  },
  {
   "cell_type": "markdown",
   "id": "6baf1af8",
   "metadata": {},
   "source": [
    "- 데이터에 적합한 loss와 optimizer를 선정하여 설정하세요."
   ]
  },
  {
   "cell_type": "code",
   "execution_count": 17,
   "id": "4426a353",
   "metadata": {},
   "outputs": [],
   "source": [
    "# code here\n"
   ]
  },
  {
   "cell_type": "markdown",
   "id": "a255729b",
   "metadata": {},
   "source": [
    "- train 데이터를 학습시키세요.\n",
    "- epoch=100000회"
   ]
  },
  {
   "cell_type": "code",
   "execution_count": 18,
   "id": "38b0cf1e",
   "metadata": {},
   "outputs": [
    {
     "data": {
      "application/vnd.jupyter.widget-view+json": {
       "model_id": "2ae9ddde5f06499d861e6296e9d824b5",
       "version_major": 2,
       "version_minor": 0
      },
      "text/plain": [
       "  0%|          | 0/100000 [00:00<?, ?it/s]"
      ]
     },
     "metadata": {},
     "output_type": "display_data"
    }
   ],
   "source": [
    "# code here\n"
   ]
  },
  {
   "cell_type": "markdown",
   "id": "b49fdd31",
   "metadata": {},
   "source": [
    "- 학습시킨 모델로 mse, $r^2$를 출력하세요."
   ]
  },
  {
   "cell_type": "code",
   "execution_count": 19,
   "id": "0f17d6a9",
   "metadata": {},
   "outputs": [
    {
     "data": {
      "text/plain": [
       "(562.5936114358478, 577.4957564108436)"
      ]
     },
     "execution_count": 19,
     "metadata": {},
     "output_type": "execute_result"
    }
   ],
   "source": [
    "from sklearn.metrics import mean_squared_error\n",
    "\n",
    "train_pred = model(torch.FloatTensor(x_train.values).to(device)).detach().cpu().numpy()\n",
    "test_pred = model(torch.FloatTensor(x_test.values).to(device)).detach().cpu().numpy()\n",
    "\n",
    "mean_squared_error(y_train, train_pred), mean_squared_error(y_test, test_pred)"
   ]
  },
  {
   "cell_type": "code",
   "execution_count": 20,
   "id": "0151ab08",
   "metadata": {},
   "outputs": [
    {
     "data": {
      "text/plain": [
       "(0.7994387463700738, 0.7886819574574498)"
      ]
     },
     "execution_count": 20,
     "metadata": {},
     "output_type": "execute_result"
    }
   ],
   "source": [
    "from sklearn.metrics import r2_score\n",
    "\n",
    "r2_score(y_train, train_pred), r2_score(y_test, test_pred)"
   ]
  },
  {
   "cell_type": "markdown",
   "id": "a0edaad3",
   "metadata": {},
   "source": [
    " - 검증 데이터의 결과를 학습과정에서 확인할 수 있도록 구성한 후 학습을 수행하세요."
   ]
  },
  {
   "cell_type": "markdown",
   "id": "b935879d",
   "metadata": {},
   "source": [
    "- 시드를 777로 설정하세요."
   ]
  },
  {
   "cell_type": "code",
   "execution_count": 26,
   "id": "1b5486f7",
   "metadata": {},
   "outputs": [
    {
     "data": {
      "text/plain": [
       "<torch._C.Generator at 0x17e360565b0>"
      ]
     },
     "execution_count": 26,
     "metadata": {},
     "output_type": "execute_result"
    }
   ],
   "source": [
    "# code here\n"
   ]
  },
  {
   "cell_type": "markdown",
   "id": "bd43aa4a",
   "metadata": {},
   "source": [
    "- 모델 인스턴스를 생성하세요."
   ]
  },
  {
   "cell_type": "code",
   "execution_count": 27,
   "id": "178b7033",
   "metadata": {},
   "outputs": [],
   "source": [
    "# code here\n"
   ]
  },
  {
   "cell_type": "markdown",
   "id": "84a58e0e",
   "metadata": {},
   "source": [
    "- 데이터에 적합한 loss와 optimizer를 선정하여 설정하세요."
   ]
  },
  {
   "cell_type": "code",
   "execution_count": 28,
   "id": "cbac4364",
   "metadata": {},
   "outputs": [],
   "source": [
    "# code here\n"
   ]
  },
  {
   "cell_type": "markdown",
   "id": "08feac79",
   "metadata": {},
   "source": [
    "- train 데이터를 학습시키세요.\n",
    "- epoch=150000회"
   ]
  },
  {
   "cell_type": "code",
   "execution_count": 29,
   "id": "40dacc8b",
   "metadata": {},
   "outputs": [
    {
     "data": {
      "application/vnd.jupyter.widget-view+json": {
       "model_id": "bd585d514090429c98e7a07eebd791f5",
       "version_major": 2,
       "version_minor": 0
      },
      "text/plain": [
       "  0%|          | 0/150000 [00:00<?, ?it/s]"
      ]
     },
     "metadata": {},
     "output_type": "display_data"
    }
   ],
   "source": [
    "# code here\n"
   ]
  },
  {
   "cell_type": "markdown",
   "id": "a7e35d43",
   "metadata": {},
   "source": [
    " - 학습시킨 모델로 mse, $r^2$를 출력하세요."
   ]
  },
  {
   "cell_type": "code",
   "execution_count": 30,
   "id": "476c1521",
   "metadata": {},
   "outputs": [
    {
     "data": {
      "text/plain": [
       "(481.52094597896684, 504.2256765957213)"
      ]
     },
     "execution_count": 30,
     "metadata": {},
     "output_type": "execute_result"
    }
   ],
   "source": [
    "from sklearn.metrics import mean_squared_error\n",
    "\n",
    "train_pred = model(torch.FloatTensor(x_train.values).to(device)).detach().cpu().numpy()\n",
    "test_pred = model(torch.FloatTensor(x_test.values).to(device)).detach().cpu().numpy()\n",
    "\n",
    "mean_squared_error(y_train, train_pred), mean_squared_error(y_test, test_pred)"
   ]
  },
  {
   "cell_type": "code",
   "execution_count": 31,
   "id": "743d5427",
   "metadata": {},
   "outputs": [
    {
     "data": {
      "text/plain": [
       "(0.8283406661370846, 0.815493045974701)"
      ]
     },
     "execution_count": 31,
     "metadata": {},
     "output_type": "execute_result"
    }
   ],
   "source": [
    "from sklearn.metrics import r2_score\n",
    "\n",
    "r2_score(y_train, train_pred), r2_score(y_test, test_pred)"
   ]
  },
  {
   "cell_type": "markdown",
   "id": "3882a703",
   "metadata": {},
   "source": [
    "- 랜덤포레스트로 모델링한 후 r2를 출력하세요."
   ]
  },
  {
   "cell_type": "code",
   "execution_count": 32,
   "id": "013ea21c",
   "metadata": {
    "scrolled": true
   },
   "outputs": [
    {
     "data": {
      "text/plain": [
       "(0.9968821312475078, 0.9799872302595628)"
      ]
     },
     "execution_count": 32,
     "metadata": {},
     "output_type": "execute_result"
    }
   ],
   "source": [
    "from sklearn.ensemble import RandomForestRegressor\n",
    "\n",
    "rf = RandomForestRegressor(random_state=0, n_jobs=-1)\n",
    "rf.fit(x_train, y_train)\n",
    "rf.score(x_train, y_train), rf.score(x_test, y_test)"
   ]
  },
  {
   "cell_type": "markdown",
   "id": "63e3b1d9",
   "metadata": {},
   "source": [
    "- 그래디언트 부스팅으로 모델링한 후 r2를 출력하세요."
   ]
  },
  {
   "cell_type": "code",
   "execution_count": 33,
   "id": "b44266f5",
   "metadata": {},
   "outputs": [
    {
     "data": {
      "text/plain": [
       "(0.8795355661645858, 0.8810740250267032)"
      ]
     },
     "execution_count": 33,
     "metadata": {},
     "output_type": "execute_result"
    }
   ],
   "source": [
    "from sklearn.ensemble import GradientBoostingRegressor\n",
    "\n",
    "gb = GradientBoostingRegressor(random_state=0)\n",
    "gb.fit(x_train, y_train)\n",
    "gb.score(x_train, y_train), gb.score(x_test, y_test)"
   ]
  },
  {
   "cell_type": "markdown",
   "id": "0ba02c88",
   "metadata": {},
   "source": [
    "- XGBoost로 모델링한 후 r2를 출력하세요."
   ]
  },
  {
   "cell_type": "code",
   "execution_count": 40,
   "id": "9282d6b6",
   "metadata": {},
   "outputs": [
    {
     "data": {
      "text/plain": [
       "(0.984291038373904, 0.9730610677828229)"
      ]
     },
     "execution_count": 40,
     "metadata": {},
     "output_type": "execute_result"
    }
   ],
   "source": [
    "from xgboost import XGBRegressor\n",
    "\n",
    "gb = XGBRegressor(random_state=0)\n",
    "gb.fit(x_train, y_train)\n",
    "gb.score(x_train, y_train), gb.score(x_test, y_test)"
   ]
  },
  {
   "cell_type": "markdown",
   "id": "84b9e58f",
   "metadata": {},
   "source": [
    "- Light GBM으로 모델링한 후 r2를 출력하세요."
   ]
  },
  {
   "cell_type": "code",
   "execution_count": 41,
   "id": "ffea5795",
   "metadata": {},
   "outputs": [
    {
     "name": "stdout",
     "output_type": "stream",
     "text": [
      "[LightGBM] [Info] Auto-choosing row-wise multi-threading, the overhead of testing was 0.000159 seconds.\n",
      "You can set `force_row_wise=true` to remove the overhead.\n",
      "And if memory is not enough, you can set `force_col_wise=true`.\n",
      "[LightGBM] [Info] Total Bins 863\n",
      "[LightGBM] [Info] Number of data points in the train set: 35998, number of used features: 7\n",
      "[LightGBM] [Info] Start training from score 85.025036\n"
     ]
    },
    {
     "data": {
      "text/plain": [
       "(0.9605868885943858, 0.9557835956325829)"
      ]
     },
     "execution_count": 41,
     "metadata": {},
     "output_type": "execute_result"
    }
   ],
   "source": [
    "from lightgbm import LGBMRegressor\n",
    "\n",
    "gb = LGBMRegressor(random_state=0)\n",
    "gb.fit(x_train, y_train)\n",
    "gb.score(x_train, y_train), gb.score(x_test, y_test)"
   ]
  },
  {
   "cell_type": "markdown",
   "id": "6437f27e",
   "metadata": {},
   "source": [
    "- Catboost로 모델링한 후 r2를 출력하세요."
   ]
  },
  {
   "cell_type": "code",
   "execution_count": 42,
   "id": "e14c5ada",
   "metadata": {},
   "outputs": [
    {
     "data": {
      "text/plain": [
       "(0.9788935598361715, 0.9732466083985435)"
      ]
     },
     "execution_count": 42,
     "metadata": {},
     "output_type": "execute_result"
    }
   ],
   "source": [
    "from catboost import CatBoostRegressor\n",
    "\n",
    "gb = CatBoostRegressor(random_state=0)\n",
    "gb.fit(x_train, y_train, verbose=0)\n",
    "gb.score(x_train, y_train), gb.score(x_test, y_test)"
   ]
  }
 ],
 "metadata": {
  "instance_type": "ml.m5.large",
  "kernelspec": {
   "display_name": "Python 3 (ipykernel)",
   "language": "python",
   "name": "python3"
  },
  "language_info": {
   "codemirror_mode": {
    "name": "ipython",
    "version": 3
   },
   "file_extension": ".py",
   "mimetype": "text/x-python",
   "name": "python",
   "nbconvert_exporter": "python",
   "pygments_lexer": "ipython3",
   "version": "3.11.4"
  }
 },
 "nbformat": 4,
 "nbformat_minor": 5
}
