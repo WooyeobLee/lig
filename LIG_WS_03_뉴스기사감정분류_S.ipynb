{
 "cells": [
  {
   "cell_type": "markdown",
   "id": "ca4c53ca",
   "metadata": {},
   "source": [
    "# 뉴스 기사 감정 분류 실습"
   ]
  },
  {
   "cell_type": "code",
   "execution_count": 1,
   "id": "19dbcd80",
   "metadata": {
    "tags": []
   },
   "outputs": [],
   "source": [
    "import numpy as np\n",
    "import pandas as pd\n",
    "import matplotlib.pyplot as plt\n",
    "import seaborn as sns"
   ]
  },
  {
   "cell_type": "markdown",
   "id": "8c292ead",
   "metadata": {},
   "source": [
    "### 데이터 로드"
   ]
  },
  {
   "cell_type": "code",
   "execution_count": 2,
   "id": "a9ecd885",
   "metadata": {
    "tags": []
   },
   "outputs": [],
   "source": [
    "import torch\n",
    "from torch import nn, optim\n",
    "from torch.utils.data import DataLoader, Dataset\n",
    "from torchtext.data.utils import get_tokenizer\n",
    "from torchtext.vocab import build_vocab_from_iterator"
   ]
  },
  {
   "cell_type": "markdown",
   "id": "9088b47e",
   "metadata": {},
   "source": [
    " - sarcastic.csv 파일을 로드하세요."
   ]
  },
  {
   "cell_type": "code",
   "execution_count": 3,
   "id": "3f562948",
   "metadata": {
    "tags": []
   },
   "outputs": [
    {
     "data": {
      "text/html": [
       "<div>\n",
       "<style scoped>\n",
       "    .dataframe tbody tr th:only-of-type {\n",
       "        vertical-align: middle;\n",
       "    }\n",
       "\n",
       "    .dataframe tbody tr th {\n",
       "        vertical-align: top;\n",
       "    }\n",
       "\n",
       "    .dataframe thead th {\n",
       "        text-align: right;\n",
       "    }\n",
       "</style>\n",
       "<table border=\"1\" class=\"dataframe\">\n",
       "  <thead>\n",
       "    <tr style=\"text-align: right;\">\n",
       "      <th></th>\n",
       "      <th>Headline</th>\n",
       "      <th>is_sarcastic</th>\n",
       "    </tr>\n",
       "  </thead>\n",
       "  <tbody>\n",
       "    <tr>\n",
       "      <th>0</th>\n",
       "      <td>former versace store clerk sues over secret 'b...</td>\n",
       "      <td>0</td>\n",
       "    </tr>\n",
       "    <tr>\n",
       "      <th>1</th>\n",
       "      <td>the 'roseanne' revival catches up to our thorn...</td>\n",
       "      <td>0</td>\n",
       "    </tr>\n",
       "    <tr>\n",
       "      <th>2</th>\n",
       "      <td>mom starting to fear son's web series closest ...</td>\n",
       "      <td>1</td>\n",
       "    </tr>\n",
       "    <tr>\n",
       "      <th>3</th>\n",
       "      <td>boehner just wants wife to listen, not come up...</td>\n",
       "      <td>1</td>\n",
       "    </tr>\n",
       "    <tr>\n",
       "      <th>4</th>\n",
       "      <td>j.k. rowling wishes snape happy birthday in th...</td>\n",
       "      <td>0</td>\n",
       "    </tr>\n",
       "    <tr>\n",
       "      <th>...</th>\n",
       "      <td>...</td>\n",
       "      <td>...</td>\n",
       "    </tr>\n",
       "    <tr>\n",
       "      <th>26704</th>\n",
       "      <td>american politics in moral free-fall</td>\n",
       "      <td>0</td>\n",
       "    </tr>\n",
       "    <tr>\n",
       "      <th>26705</th>\n",
       "      <td>america's best 20 hikes</td>\n",
       "      <td>0</td>\n",
       "    </tr>\n",
       "    <tr>\n",
       "      <th>26706</th>\n",
       "      <td>reparations and obama</td>\n",
       "      <td>0</td>\n",
       "    </tr>\n",
       "    <tr>\n",
       "      <th>26707</th>\n",
       "      <td>israeli ban targeting boycott supporters raise...</td>\n",
       "      <td>0</td>\n",
       "    </tr>\n",
       "    <tr>\n",
       "      <th>26708</th>\n",
       "      <td>gourmet gifts for the foodie 2014</td>\n",
       "      <td>0</td>\n",
       "    </tr>\n",
       "  </tbody>\n",
       "</table>\n",
       "<p>26709 rows × 2 columns</p>\n",
       "</div>"
      ],
      "text/plain": [
       "                                                Headline  is_sarcastic\n",
       "0      former versace store clerk sues over secret 'b...             0\n",
       "1      the 'roseanne' revival catches up to our thorn...             0\n",
       "2      mom starting to fear son's web series closest ...             1\n",
       "3      boehner just wants wife to listen, not come up...             1\n",
       "4      j.k. rowling wishes snape happy birthday in th...             0\n",
       "...                                                  ...           ...\n",
       "26704               american politics in moral free-fall             0\n",
       "26705                            america's best 20 hikes             0\n",
       "26706                              reparations and obama             0\n",
       "26707  israeli ban targeting boycott supporters raise...             0\n",
       "26708                  gourmet gifts for the foodie 2014             0\n",
       "\n",
       "[26709 rows x 2 columns]"
      ]
     },
     "execution_count": 3,
     "metadata": {},
     "output_type": "execute_result"
    }
   ],
   "source": [
    "# code here\n",
    "df = pd.read_csv('./data/sarcastic.csv')\n",
    "df"
   ]
  },
  {
   "cell_type": "markdown",
   "id": "29ca8e0c",
   "metadata": {},
   "source": [
    " - 데이터를 학습용, 평가용으로 분할하세요.\n",
    "   - 8:2로 분할하세요."
   ]
  },
  {
   "cell_type": "code",
   "execution_count": 4,
   "id": "b14d9559",
   "metadata": {
    "scrolled": true,
    "tags": []
   },
   "outputs": [],
   "source": [
    "# code here\n",
    "train_size = int(df.shape[0]*0.8)\n",
    "train = df.sample(len(df), random_state=0)[:train_size]\n",
    "test = df.sample(len(df), random_state=0)[:train_size]"
   ]
  },
  {
   "cell_type": "markdown",
   "id": "cc2e32d8",
   "metadata": {},
   "source": [
    " - 독립변수와 종속변수로 분리하세요.\n",
    "   - numpy array로 변환합니다."
   ]
  },
  {
   "cell_type": "code",
   "execution_count": 5,
   "id": "866e1472",
   "metadata": {
    "tags": []
   },
   "outputs": [
    {
     "data": {
      "text/plain": [
       "((21367,), (21367,), (21367,), (21367,))"
      ]
     },
     "execution_count": 5,
     "metadata": {},
     "output_type": "execute_result"
    }
   ],
   "source": [
    "# code here\n",
    "x_train = train['Headline'].values\n",
    "x_test = test['Headline'].values\n",
    "\n",
    "y_train = train['is_sarcastic'].values\n",
    "y_test = test['is_sarcastic'].values\n",
    "x_train.shape, y_train.shape, x_test.shape, y_test.shape"
   ]
  },
  {
   "cell_type": "markdown",
   "id": "57352a62",
   "metadata": {},
   "source": [
    " - CustomDataset 클래스를 생성하세요."
   ]
  },
  {
   "cell_type": "code",
   "execution_count": 6,
   "id": "9fa56a19",
   "metadata": {
    "tags": []
   },
   "outputs": [],
   "source": [
    "# code here\n",
    "from torch.utils.data import Dataset, DataLoader\n",
    "class CustomDataset(Dataset):\n",
    "    def __init__(self, x, y):\n",
    "        super().__init__()\n",
    "        self.x = x\n",
    "        self.y = y\n",
    "        \n",
    "    def __len__(self):\n",
    "        return len(self.x)\n",
    "    \n",
    "    def __getitem__(self, idx):\n",
    "        return self.x[idx], self.y[idx]"
   ]
  },
  {
   "cell_type": "markdown",
   "id": "70df9621",
   "metadata": {},
   "source": [
    " - 학습 데이터와 검증 데이터를 CustomDataset 인스턴스로 변환하세요."
   ]
  },
  {
   "cell_type": "code",
   "execution_count": 7,
   "id": "cf1934b3",
   "metadata": {
    "tags": []
   },
   "outputs": [],
   "source": [
    "# code here\n",
    "train_set = CustomDataset(x_train, y_train)\n",
    "test_set = CustomDataset(x_test, y_test)"
   ]
  },
  {
   "cell_type": "markdown",
   "id": "208554fa",
   "metadata": {},
   "source": [
    " - 토크나이저를 이용하여 x_train에 대한 단어 토큰을 생성하세요.\n",
    "   - 최대 토큰 수는 1000개입니다.\n",
    "   - 스페셜 토큰으로 '\\<unk\\>', '\\<sos\\>', '\\<eos\\>', '\\<pad\\>'를 추가하세요.\n",
    "   - 기본 토큰은 '\\<unk\\>'으로 설정하세요."
   ]
  },
  {
   "cell_type": "code",
   "execution_count": 8,
   "id": "2456ac53",
   "metadata": {
    "tags": []
   },
   "outputs": [],
   "source": [
    "# code here\n",
    "from torchtext.data.utils import get_tokenizer\n",
    "\n",
    "tokenizer = get_tokenizer('basic_english')"
   ]
  },
  {
   "cell_type": "code",
   "execution_count": 9,
   "id": "4b259163",
   "metadata": {
    "tags": []
   },
   "outputs": [],
   "source": [
    "from torchtext.vocab import build_vocab_from_iterator\n",
    "\n",
    "# 제너레이터 함수는 그대로 사용하세요.\n",
    "def tokens_generator(data):\n",
    "    for text in data:\n",
    "        yield tokenizer(text)\n",
    "        \n",
    "vocab = build_vocab_from_iterator(\n",
    "    iterator=tokens_generator(x_train),\n",
    "    max_tokens=1000,\n",
    "    specials=['<unk>', '<sos>', '<eos>', '<pad>']\n",
    ")\n",
    "vocab.set_default_index(vocab['<unk>'])"
   ]
  },
  {
   "cell_type": "markdown",
   "id": "0c186676",
   "metadata": {},
   "source": [
    " - 토큰 사전의 크기를 출력하세요."
   ]
  },
  {
   "cell_type": "code",
   "execution_count": 10,
   "id": "86b9704a",
   "metadata": {
    "tags": []
   },
   "outputs": [
    {
     "data": {
      "text/plain": [
       "1000"
      ]
     },
     "execution_count": 10,
     "metadata": {},
     "output_type": "execute_result"
    }
   ],
   "source": [
    "# code here\n",
    "len(vocab.get_stoi())"
   ]
  },
  {
   "cell_type": "markdown",
   "id": "f8c1b10c",
   "metadata": {},
   "source": [
    " - collate 함수를 구현합니다.\n",
    " - collate 함수에서는 다음과 같은 작업을 수행해야 합니다.\n",
    "   1. sentence to sequence\n",
    "   2. vectorize\n",
    "   3. pad_sequence"
   ]
  },
  {
   "cell_type": "code",
   "execution_count": 11,
   "id": "b402a740",
   "metadata": {
    "tags": []
   },
   "outputs": [],
   "source": [
    "# 그대로 사용하세요.\n",
    "from torch.nn.utils.rnn import pad_sequence\n",
    "import numpy as np\n",
    "\n",
    "def sent2seq(sentence):\n",
    "    # 문장을 토크나이저에 전달하여 토큰화 (분할)\n",
    "    # 해당 토큰을 숫자로 인코딩 (단어 사전)\n",
    "    seq = [vocab[token] for token in tokenizer(sentence)]\n",
    "    return seq\n",
    "\n",
    "def vectorize_seq(sequences, dimension=1000):\n",
    "    # (seq개수(문장 수), 단어수) 크기의 zeros 배열 생성\n",
    "    results = np.zeros((len(sequences), dimension))\n",
    "    \n",
    "    # 벡터화\n",
    "    for i, seq in enumerate(sequences):\n",
    "        results[i, seq] = 1.\n",
    "    return results\n",
    "\n",
    "def collate_function(batch):\n",
    "    label_list = []\n",
    "    sentence_list = []\n",
    "    first = True\n",
    "    \n",
    "    for (sentence, label) in batch:\n",
    "        # batch 내 관측치를 하나씩 추출하여 벡터화하 후 리스트에 추가\n",
    "        seq = torch.tensor(vectorize_seq([sent2seq(sentence)])[0])\n",
    "        sentence_list.append(seq)\n",
    "        label_list.append(label)\n",
    "    \n",
    "    seq_list = pad_sequence(sentence_list, \n",
    "                                  padding_value=vocab['<pad>'], batch_first=True)\n",
    "    label_list = torch.tensor(label_list)\n",
    "    return seq_list, label_list"
   ]
  },
  {
   "cell_type": "markdown",
   "id": "9d75b020",
   "metadata": {},
   "source": [
    " - collate_function의 동작을 train_set으로 확인하세요."
   ]
  },
  {
   "cell_type": "code",
   "execution_count": 12,
   "id": "44b556c2",
   "metadata": {
    "tags": []
   },
   "outputs": [
    {
     "data": {
      "text/plain": [
       "(tensor([[1., 0., 0.,  ..., 0., 0., 0.],\n",
       "         [1., 0., 0.,  ..., 0., 0., 0.],\n",
       "         [1., 0., 0.,  ..., 0., 0., 0.],\n",
       "         ...,\n",
       "         [1., 0., 0.,  ..., 0., 0., 0.],\n",
       "         [1., 0., 0.,  ..., 0., 0., 0.],\n",
       "         [1., 0., 0.,  ..., 0., 0., 0.]], dtype=torch.float64),\n",
       " tensor([0, 1, 1,  ..., 0, 0, 1]))"
      ]
     },
     "execution_count": 12,
     "metadata": {},
     "output_type": "execute_result"
    }
   ],
   "source": [
    "# code here\n",
    "collate_function(train_set)"
   ]
  },
  {
   "cell_type": "markdown",
   "id": "867b3bb8",
   "metadata": {},
   "source": [
    " - 학습용, 평가용 DataLoader를 생성합니다.\n",
    "   - 학습용 batch_size = 512\n",
    "   - drop_last = True\n",
    "   - collate_fn 설정\n",
    "   - 평가용 batch_size = len(test_set)"
   ]
  },
  {
   "cell_type": "code",
   "execution_count": 13,
   "id": "fdbd6e71",
   "metadata": {
    "tags": []
   },
   "outputs": [],
   "source": [
    "# code here\n",
    "train_loader= DataLoader(\n",
    "    dataset = train_set,\n",
    "    batch_size=256,\n",
    "    drop_last=True,\n",
    "    shuffle=True,\n",
    "    collate_fn=collate_function) # 콜래트 함수 지정\n",
    "                                 # 콜래트 함수는 batch 단위로 호출됨\n",
    "\n",
    "test_loader= DataLoader(\n",
    "    dataset = test_set,\n",
    "    batch_size=256,\n",
    "    collate_fn=collate_function)"
   ]
  },
  {
   "cell_type": "markdown",
   "id": "4db9513f",
   "metadata": {},
   "source": [
    " - DNN으로 학습을 수행합니다.\n",
    " - 클래스 DNNModel을 생성하세요.\n",
    "   - 은닉층 2개 (각각 64, 64개 퍼셉트론)\n",
    "   - 은닉 활성화 Relu, 출력 활성화 Sigmoid\n",
    "   - 가중치 초기화 xavier_uniform"
   ]
  },
  {
   "cell_type": "code",
   "execution_count": 14,
   "id": "f8eed1cf",
   "metadata": {
    "tags": []
   },
   "outputs": [],
   "source": [
    "# code here\n",
    "class DNNModel(nn.Module):\n",
    "    def __init__(self):\n",
    "        super().__init__()\n",
    "        \n",
    "        # 모듈 정의\n",
    "        self.fc1 = nn.Linear(1000, 64)\n",
    "        self.fc2 = nn.Linear(64, 64)\n",
    "        self.output = nn.Linear(64, 1)\n",
    "        \n",
    "        # 활성화 함수\n",
    "        self.relu = nn.ReLU()\n",
    "        self.sigmoid = nn.Sigmoid()\n",
    "        \n",
    "        # 가중치 초기화\n",
    "        nn.init.xavier_uniform_(self.fc1.weight)\n",
    "        nn.init.xavier_uniform_(self.fc2.weight)\n",
    "        nn.init.xavier_uniform_(self.output.weight)\n",
    "        \n",
    "        \n",
    "    def forward(self, x):\n",
    "        out = self.relu(self.fc1(x))\n",
    "        out = self.relu(self.fc2(out))\n",
    "        out = self.sigmoid(self.output(out))\n",
    "        return out"
   ]
  },
  {
   "cell_type": "markdown",
   "id": "2d8aa404",
   "metadata": {},
   "source": [
    " - GPU 사용이 가능한지 장치 확인 후 device 변수 설정"
   ]
  },
  {
   "cell_type": "code",
   "execution_count": 28,
   "id": "775b64c4",
   "metadata": {
    "tags": []
   },
   "outputs": [
    {
     "data": {
      "text/plain": [
       "'cuda'"
      ]
     },
     "execution_count": 28,
     "metadata": {},
     "output_type": "execute_result"
    }
   ],
   "source": [
    "# code here\n",
    "device = 'cuda' if torch.cuda.is_available() else 'cpu'\n",
    "device"
   ]
  },
  {
   "cell_type": "markdown",
   "id": "994f9a05",
   "metadata": {},
   "source": [
    " - 시드를 777로 설정하세요."
   ]
  },
  {
   "cell_type": "code",
   "execution_count": 29,
   "id": "75f980fb",
   "metadata": {
    "tags": []
   },
   "outputs": [
    {
     "data": {
      "text/plain": [
       "<torch._C.Generator at 0x289ca8aec50>"
      ]
     },
     "execution_count": 29,
     "metadata": {},
     "output_type": "execute_result"
    }
   ],
   "source": [
    "# code here\n",
    "torch.manual_seed(777)"
   ]
  },
  {
   "cell_type": "markdown",
   "id": "da52cf6f",
   "metadata": {},
   "source": [
    " - 모델 클래스를 이용하여 모델 인스턴스를 생성하세요."
   ]
  },
  {
   "cell_type": "code",
   "execution_count": 30,
   "id": "b13ac3da",
   "metadata": {
    "tags": []
   },
   "outputs": [],
   "source": [
    "# code here\n",
    "model = DNNModel().to(device)"
   ]
  },
  {
   "cell_type": "markdown",
   "id": "0798e45b",
   "metadata": {},
   "source": [
    "- 모델의 summary를 출력하세요."
   ]
  },
  {
   "cell_type": "code",
   "execution_count": 31,
   "id": "bb0a80f6",
   "metadata": {
    "tags": []
   },
   "outputs": [
    {
     "data": {
      "text/plain": [
       "=================================================================\n",
       "Layer (type:depth-idx)                   Param #\n",
       "=================================================================\n",
       "DNNModel                                 --\n",
       "├─Linear: 1-1                            64,064\n",
       "├─Linear: 1-2                            4,160\n",
       "├─Linear: 1-3                            65\n",
       "├─ReLU: 1-4                              --\n",
       "├─Sigmoid: 1-5                           --\n",
       "=================================================================\n",
       "Total params: 68,289\n",
       "Trainable params: 68,289\n",
       "Non-trainable params: 0\n",
       "================================================================="
      ]
     },
     "execution_count": 31,
     "metadata": {},
     "output_type": "execute_result"
    }
   ],
   "source": [
    "# code here\n",
    "from torchinfo import summary\n",
    "\n",
    "summary(model)"
   ]
  },
  {
   "cell_type": "markdown",
   "id": "905fdce8",
   "metadata": {},
   "source": [
    " - 데이터에 적합한 loss와 optimizer를 선정하여 설정하세요."
   ]
  },
  {
   "cell_type": "code",
   "execution_count": 32,
   "id": "5f36b760",
   "metadata": {
    "tags": []
   },
   "outputs": [],
   "source": [
    "# code here\n",
    "loss = nn.BCELoss().to(device)\n",
    "optimizer = optim.Adam(model.parameters(), lr=0.01)"
   ]
  },
  {
   "cell_type": "markdown",
   "id": "c75b03de",
   "metadata": {},
   "source": [
    " - 학습 데이터와 검증 데이터를 이용하여 학습을 수행하세요.\n",
    " - epochs=50"
   ]
  },
  {
   "cell_type": "code",
   "execution_count": 33,
   "id": "d7c83402",
   "metadata": {
    "tags": []
   },
   "outputs": [
    {
     "data": {
      "application/vnd.jupyter.widget-view+json": {
       "model_id": "2dd482101f114f589c284aeb83241056",
       "version_major": 2,
       "version_minor": 0
      },
      "text/plain": [
       "  0%|          | 0/50 [00:00<?, ?it/s]"
      ]
     },
     "metadata": {},
     "output_type": "display_data"
    }
   ],
   "source": [
    "from tqdm import notebook\n",
    "\n",
    "# Code here\n",
    "epochs = 50\n",
    "\n",
    "results = {'Loss':[], 'Acc':[], 'Val_Loss':[], 'Val_Acc':[]}\n",
    "\n",
    "progressbar = notebook.tqdm(range(epochs))\n",
    "\n",
    "for epoch in progressbar:\n",
    "    train_loss = 0\n",
    "    test_loss = 0\n",
    "    \n",
    "    n_train_samples = len(train_loader.dataset)\n",
    "    n_test_samples = len(test_loader.dataset)\n",
    "    \n",
    "    n_train_correct = 0\n",
    "    n_test_correct = 0\n",
    "    \n",
    "    model.train()\n",
    "    for x, y in train_loader:\n",
    "        x = x.to(torch.float32).to(device)\n",
    "        y = y.to(torch.float32).to(device)\n",
    "        \n",
    "        h = model(x)\n",
    "        cost = loss(h, y.view(-1, 1))\n",
    "        \n",
    "        optimizer.zero_grad()\n",
    "        cost.backward()\n",
    "        optimizer.step()\n",
    "    \n",
    "        train_loss += cost.item()*x.shape[0]/n_train_samples\n",
    "        n_train_correct += ((h>0.5).to(torch.int32)==y.view(-1, 1)).sum()\n",
    "    results['Loss'].append(train_loss)\n",
    "    results['Acc'].append(n_train_correct/n_train_samples)\n",
    "    \n",
    "    model.eval()\n",
    "    with torch.no_grad():\n",
    "        for x, y in test_loader:\n",
    "            x = x.to(torch.float32).to(device)\n",
    "            y = y.to(torch.float32).to(device)\n",
    "\n",
    "            h = model(x)\n",
    "            cost = loss(h, y.view(-1, 1))\n",
    "            \n",
    "            n_test_correct += ((h>0.5).to(torch.int32)==y.view(-1, 1)).sum()\n",
    "            \n",
    "            test_loss += cost.item()*x.shape[0]/n_test_samples\n",
    "        results['Val_Loss'].append(test_loss)\n",
    "        results['Val_Acc'].append(n_test_correct/n_test_samples)\n",
    "\n",
    "    progressbar.set_postfix(\n",
    "        loss=f'{results[\"Loss\"][-1]:12.6f}',\n",
    "        acc=f'{results[\"Acc\"][-1]:12.6f}',\n",
    "        val_loss=f'{results[\"Val_Loss\"][-1]:12.6f}',\n",
    "        val_acc=f'{results[\"Val_Acc\"][-1]:12.6f}')"
   ]
  },
  {
   "cell_type": "markdown",
   "id": "b0036ddf",
   "metadata": {},
   "source": [
    " - 결과 시각화"
   ]
  },
  {
   "cell_type": "code",
   "execution_count": 35,
   "id": "24906950",
   "metadata": {
    "tags": []
   },
   "outputs": [
    {
     "data": {
      "text/plain": [
       "[<matplotlib.lines.Line2D at 0x289d3d9b950>]"
      ]
     },
     "execution_count": 35,
     "metadata": {},
     "output_type": "execute_result"
    },
    {
     "data": {
      "image/png": "[encoded data removed]",
      "text/plain": [
       "<Figure size 640x480 with 1 Axes>"
      ]
     },
     "metadata": {},
     "output_type": "display_data"
    }
   ],
   "source": [
    "# code here\n",
    "plt.plot(results['Loss'])\n",
    "plt.plot(results['Val_Loss'])"
   ]
  },
  {
   "cell_type": "code",
   "execution_count": 36,
   "id": "4745589d-a756-4473-8b0d-1caae395e6b6",
   "metadata": {
    "tags": []
   },
   "outputs": [],
   "source": [
    "acc = [i.detach().cpu() for i in results['Acc']]\n",
    "val_acc = [i.detach().cpu() for i in results['Val_Acc']]"
   ]
  },
  {
   "cell_type": "code",
   "execution_count": 37,
   "id": "cce1c463",
   "metadata": {
    "tags": []
   },
   "outputs": [
    {
     "data": {
      "text/plain": [
       "[<matplotlib.lines.Line2D at 0x28ae5da2710>]"
      ]
     },
     "execution_count": 37,
     "metadata": {},
     "output_type": "execute_result"
    },
    {
     "data": {
      "image/png": "[encoded data removed]",
      "text/plain": [
       "<Figure size 640x480 with 1 Axes>"
      ]
     },
     "metadata": {},
     "output_type": "display_data"
    }
   ],
   "source": [
    "# code here\n",
    "plt.plot(acc)\n",
    "plt.plot(val_acc)"
   ]
  },
  {
   "cell_type": "markdown",
   "id": "c0f2ab4b",
   "metadata": {},
   "source": [
    " - LSTM으로 학습을 수행합니다.\n",
    " - 클래스 LSTMModel을 생성하세요.\n",
    "   - 임베딩 적용: 32차원\n",
    "   - 싱글레이어 LSTM 적용\n",
    "     - hidden_size=32\n",
    "   - 출력 활성화 Sigmoid"
   ]
  },
  {
   "cell_type": "code",
   "execution_count": 47,
   "id": "6e65726a",
   "metadata": {
    "tags": []
   },
   "outputs": [],
   "source": [
    "# code here\n",
    "class LSTMModel(nn.Module):\n",
    "    def __init__(self):\n",
    "        super().__init__()\n",
    "        self.embed = nn.Embedding(1000, 32)\n",
    "        self.lstm = nn.LSTM(32, 32, batch_first=True)\n",
    "        self.output = nn.Linear(32, 1)\n",
    "        self.sigmoid = nn.Sigmoid()\n",
    "        \n",
    "    def forward(self, x):\n",
    "        out = self.embed(x)\n",
    "        h_a, _ = self.lstm(out)\n",
    "        out = self.output(h_a[:,-1,:])\n",
    "        out = self.sigmoid(out)\n",
    "        \n",
    "        return out"
   ]
  },
  {
   "cell_type": "markdown",
   "id": "c77b7d19",
   "metadata": {},
   "source": [
    " - 시드를 777로 설정하세요."
   ]
  },
  {
   "cell_type": "code",
   "execution_count": 48,
   "id": "a65c6166",
   "metadata": {
    "tags": []
   },
   "outputs": [
    {
     "data": {
      "text/plain": [
       "<torch._C.Generator at 0x289ca8aec50>"
      ]
     },
     "execution_count": 48,
     "metadata": {},
     "output_type": "execute_result"
    }
   ],
   "source": [
    "# code here\n",
    "torch.manual_seed(777)"
   ]
  },
  {
   "cell_type": "markdown",
   "id": "53391431",
   "metadata": {},
   "source": [
    " - 모델 클래스를 이용하여 모델 인스턴스를 생성하세요."
   ]
  },
  {
   "cell_type": "code",
   "execution_count": 49,
   "id": "cdc62c16",
   "metadata": {
    "tags": []
   },
   "outputs": [],
   "source": [
    "# code here\n",
    "model = LSTMModel().to(device)"
   ]
  },
  {
   "cell_type": "markdown",
   "id": "12af5197",
   "metadata": {},
   "source": [
    "- 모델의 summary를 출력하세요."
   ]
  },
  {
   "cell_type": "code",
   "execution_count": 50,
   "id": "4e67837e",
   "metadata": {},
   "outputs": [
    {
     "data": {
      "text/plain": [
       "=================================================================\n",
       "Layer (type:depth-idx)                   Param #\n",
       "=================================================================\n",
       "LSTMModel                                --\n",
       "├─Embedding: 1-1                         32,000\n",
       "├─LSTM: 1-2                              8,448\n",
       "├─Linear: 1-3                            33\n",
       "├─Sigmoid: 1-4                           --\n",
       "=================================================================\n",
       "Total params: 40,481\n",
       "Trainable params: 40,481\n",
       "Non-trainable params: 0\n",
       "================================================================="
      ]
     },
     "execution_count": 50,
     "metadata": {},
     "output_type": "execute_result"
    }
   ],
   "source": [
    "from torchinfo import summary\n",
    "\n",
    "summary(model)"
   ]
  },
  {
   "cell_type": "markdown",
   "id": "add479f3",
   "metadata": {},
   "source": [
    " - collate 함수를 다시 구현합니다.\n",
    " - collate 함수에서는 다음과 같은 작업을 수행해야 합니다.\n",
    "   1. sentence to sequence\n",
    "   2. pad_sequence"
   ]
  },
  {
   "cell_type": "code",
   "execution_count": 51,
   "id": "7b9febe1",
   "metadata": {
    "tags": []
   },
   "outputs": [],
   "source": [
    "# 그대로 사용하세요.\n",
    "from torch.nn.utils.rnn import pad_sequence\n",
    "import numpy as np\n",
    "\n",
    "def sent2seq(sentence):\n",
    "    seq = [vocab[token] for token in tokenizer(sentence)]\n",
    "    return seq\n",
    "\n",
    "def collate_function(batch):\n",
    "    label_list = []\n",
    "    sentence_list = []\n",
    "    first = True\n",
    "    \n",
    "    for (sentence, label) in batch:\n",
    "        seq = torch.tensor(np.array(sent2seq(sentence)))\n",
    "        sentence_list.append(seq)\n",
    "        label_list.append(label)\n",
    "    \n",
    "    seq_list = pad_sequence(sentence_list, \n",
    "                                  padding_value=vocab['<pad>'], batch_first=True)\n",
    "    label_list = torch.tensor(label_list)\n",
    "    return torch.flip(seq_list, (1,)).to(torch.long), label_list"
   ]
  },
  {
   "cell_type": "markdown",
   "id": "3dcb8c95",
   "metadata": {},
   "source": [
    " - collate_function의 동작을 train_set으로 확인하세요."
   ]
  },
  {
   "cell_type": "code",
   "execution_count": 52,
   "id": "fe77fd4f",
   "metadata": {
    "tags": []
   },
   "outputs": [
    {
     "data": {
      "text/plain": [
       "(tensor([[  3,   3,   3,  ...,   9,   0, 568],\n",
       "         [  3,   3,   3,  ...,   0,  14,   0],\n",
       "         [  3,   3,   3,  ...,  96,   0,  57],\n",
       "         ...,\n",
       "         [  3,   3,   3,  ...,   0,   7,   4],\n",
       "         [  3,   3,   3,  ...,   0,   0,  46],\n",
       "         [  3,   3,   3,  ...,   0, 372, 227]]),\n",
       " tensor([0, 1, 1,  ..., 0, 0, 1]))"
      ]
     },
     "execution_count": 52,
     "metadata": {},
     "output_type": "execute_result"
    }
   ],
   "source": [
    "# code here\n",
    "collate_function(train_set)"
   ]
  },
  {
   "cell_type": "markdown",
   "id": "e8e074e9",
   "metadata": {},
   "source": [
    " - 테스트 배치 크기를 512개로 변경하세요."
   ]
  },
  {
   "cell_type": "code",
   "execution_count": 53,
   "id": "aa8e5239",
   "metadata": {
    "tags": []
   },
   "outputs": [],
   "source": [
    "# code here\n",
    "train_loader= DataLoader(\n",
    "    dataset = train_set,\n",
    "    batch_size=256,\n",
    "    drop_last=True,\n",
    "    shuffle=True,\n",
    "    collate_fn=collate_function) # 콜래트 함수 지정\n",
    "                                 # 콜래트 함수는 batch 단위로 호출됨\n",
    "\n",
    "test_loader= DataLoader(\n",
    "    dataset = test_set,\n",
    "    batch_size=256,\n",
    "    collate_fn=collate_function)"
   ]
  },
  {
   "cell_type": "markdown",
   "id": "b0360a74",
   "metadata": {},
   "source": [
    " - 데이터에 적합한 loss와 optimizer를 선정하여 설정하세요."
   ]
  },
  {
   "cell_type": "code",
   "execution_count": 54,
   "id": "e7727a2c",
   "metadata": {
    "tags": []
   },
   "outputs": [],
   "source": [
    "# code here\n",
    "loss = nn.BCELoss().to(device)\n",
    "optimizer = optim.Adam(model.parameters(), lr=0.01)"
   ]
  },
  {
   "cell_type": "markdown",
   "id": "8cb5689c",
   "metadata": {},
   "source": [
    " - 학습 데이터와 검증 데이터를 이용하여 학습을 수행하세요."
   ]
  },
  {
   "cell_type": "code",
   "execution_count": 55,
   "id": "d67cdfb4",
   "metadata": {},
   "outputs": [
    {
     "data": {
      "application/vnd.jupyter.widget-view+json": {
       "model_id": "d53c75a299804c4eaaaee712a30321c0",
       "version_major": 2,
       "version_minor": 0
      },
      "text/plain": [
       "  0%|          | 0/50 [00:00<?, ?it/s]"
      ]
     },
     "metadata": {},
     "output_type": "display_data"
    }
   ],
   "source": [
    "from tqdm import notebook\n",
    "\n",
    "# Code here\n",
    "epochs = 50\n",
    "\n",
    "results = {'Loss':[], 'Acc':[], 'Val_Loss':[], 'Val_Acc':[]}\n",
    "\n",
    "progressbar = notebook.tqdm(range(epochs))\n",
    "\n",
    "for epoch in progressbar:\n",
    "    train_loss = 0\n",
    "    test_loss = 0\n",
    "    \n",
    "    n_train_samples = len(train_loader.dataset)\n",
    "    n_test_samples = len(test_loader.dataset)\n",
    "    \n",
    "    n_train_correct = 0\n",
    "    n_test_correct = 0\n",
    "    \n",
    "    model.train()\n",
    "    for x, y in train_loader:\n",
    "        x = x.to(torch.long).to(device)\n",
    "        y = y.to(torch.float32).to(device)\n",
    "        \n",
    "        h = model(x)\n",
    "        cost = loss(h, y.view(-1, 1))\n",
    "        \n",
    "        optimizer.zero_grad()\n",
    "        cost.backward()\n",
    "        optimizer.step()\n",
    "    \n",
    "        train_loss += cost.item()*x.shape[0]/n_train_samples\n",
    "        n_train_correct += ((h>0.5).to(torch.int32)==y.view(-1, 1)).sum()\n",
    "    results['Loss'].append(train_loss)\n",
    "    results['Acc'].append(n_train_correct/n_train_samples)\n",
    "    \n",
    "    model.eval()\n",
    "    with torch.no_grad():\n",
    "        for x, y in test_loader:\n",
    "            x = x.to(torch.long).to(device)\n",
    "            y = y.to(torch.float32).to(device)\n",
    "\n",
    "            h = model(x)\n",
    "            cost = loss(h, y.view(-1, 1))\n",
    "            \n",
    "            n_test_correct += ((h>0.5).to(torch.int32)==y.view(-1, 1)).sum()\n",
    "            \n",
    "            test_loss += cost.item()*x.shape[0]/n_test_samples\n",
    "        results['Val_Loss'].append(test_loss)\n",
    "        results['Val_Acc'].append(n_test_correct/n_test_samples)\n",
    "\n",
    "    progressbar.set_postfix(\n",
    "        loss=f'{results[\"Loss\"][-1]:12.6f}',\n",
    "        acc=f'{results[\"Acc\"][-1]:12.6f}',\n",
    "        val_loss=f'{results[\"Val_Loss\"][-1]:12.6f}',\n",
    "        val_acc=f'{results[\"Val_Acc\"][-1]:12.6f}')"
   ]
  },
  {
   "cell_type": "markdown",
   "id": "98bc4c00",
   "metadata": {},
   "source": [
    "- 결과 시각화"
   ]
  },
  {
   "cell_type": "code",
   "execution_count": 56,
   "id": "d8568e3e",
   "metadata": {
    "tags": []
   },
   "outputs": [
    {
     "data": {
      "text/plain": [
       "[<matplotlib.lines.Line2D at 0x28affd41810>]"
      ]
     },
     "execution_count": 56,
     "metadata": {},
     "output_type": "execute_result"
    },
    {
     "data": {
      "image/png": "[encoded data removed]",
      "text/plain": [
       "<Figure size 640x480 with 1 Axes>"
      ]
     },
     "metadata": {},
     "output_type": "display_data"
    }
   ],
   "source": [
    "# code here\n",
    "plt.plot(results['Loss'])\n",
    "plt.plot(results['Val_Loss'])"
   ]
  },
  {
   "cell_type": "code",
   "execution_count": 57,
   "id": "d8f20e62",
   "metadata": {
    "tags": []
   },
   "outputs": [
    {
     "data": {
      "text/plain": [
       "[<matplotlib.lines.Line2D at 0x28affe57cd0>]"
      ]
     },
     "execution_count": 57,
     "metadata": {},
     "output_type": "execute_result"
    },
    {
     "data": {
      "image/png": "[encoded data removed]",
      "text/plain": [
       "<Figure size 640x480 with 1 Axes>"
      ]
     },
     "metadata": {},
     "output_type": "display_data"
    }
   ],
   "source": [
    "# code here\n",
    "acc = [i.detach().cpu() for i in results['Acc']]\n",
    "val_acc = [i.detach().cpu() for i in results['Val_Acc']]\n",
    "plt.plot(acc)\n",
    "plt.plot(val_acc)"
   ]
  }
 ],
 "metadata": {
  "availableInstances": [
   {
    "_defaultOrder": 0,
    "_isFastLaunch": true,
    "category": "General purpose",
    "gpuNum": 0,
    "hideHardwareSpecs": false,
    "memoryGiB": 4,
    "name": "ml.t3.medium",
    "vcpuNum": 2
   },
   {
    "_defaultOrder": 1,
    "_isFastLaunch": false,
    "category": "General purpose",
    "gpuNum": 0,
    "hideHardwareSpecs": false,
    "memoryGiB": 8,
    "name": "ml.t3.large",
    "vcpuNum": 2
   },
   {
    "_defaultOrder": 2,
    "_isFastLaunch": false,
    "category": "General purpose",
    "gpuNum": 0,
    "hideHardwareSpecs": false,
    "memoryGiB": 16,
    "name": "ml.t3.xlarge",
    "vcpuNum": 4
   },
   {
    "_defaultOrder": 3,
    "_isFastLaunch": false,
    "category": "General purpose",
    "gpuNum": 0,
    "hideHardwareSpecs": false,
    "memoryGiB": 32,
    "name": "ml.t3.2xlarge",
    "vcpuNum": 8
   },
   {
    "_defaultOrder": 4,
    "_isFastLaunch": true,
    "category": "General purpose",
    "gpuNum": 0,
    "hideHardwareSpecs": false,
    "memoryGiB": 8,
    "name": "ml.m5.large",
    "vcpuNum": 2
   },
   {
    "_defaultOrder": 5,
    "_isFastLaunch": false,
    "category": "General purpose",
    "gpuNum": 0,
    "hideHardwareSpecs": false,
    "memoryGiB": 16,
    "name": "ml.m5.xlarge",
    "vcpuNum": 4
   },
   {
    "_defaultOrder": 6,
    "_isFastLaunch": false,
    "category": "General purpose",
    "gpuNum": 0,
    "hideHardwareSpecs": false,
    "memoryGiB": 32,
    "name": "ml.m5.2xlarge",
    "vcpuNum": 8
   },
   {
    "_defaultOrder": 7,
    "_isFastLaunch": false,
    "category": "General purpose",
    "gpuNum": 0,
    "hideHardwareSpecs": false,
    "memoryGiB": 64,
    "name": "ml.m5.4xlarge",
    "vcpuNum": 16
   },
   {
    "_defaultOrder": 8,
    "_isFastLaunch": false,
    "category": "General purpose",
    "gpuNum": 0,
    "hideHardwareSpecs": false,
    "memoryGiB": 128,
    "name": "ml.m5.8xlarge",
    "vcpuNum": 32
   },
   {
    "_defaultOrder": 9,
    "_isFastLaunch": false,
    "category": "General purpose",
    "gpuNum": 0,
    "hideHardwareSpecs": false,
    "memoryGiB": 192,
    "name": "ml.m5.12xlarge",
    "vcpuNum": 48
   },
   {
    "_defaultOrder": 10,
    "_isFastLaunch": false,
    "category": "General purpose",
    "gpuNum": 0,
    "hideHardwareSpecs": false,
    "memoryGiB": 256,
    "name": "ml.m5.16xlarge",
    "vcpuNum": 64
   },
   {
    "_defaultOrder": 11,
    "_isFastLaunch": false,
    "category": "General purpose",
    "gpuNum": 0,
    "hideHardwareSpecs": false,
    "memoryGiB": 384,
    "name": "ml.m5.24xlarge",
    "vcpuNum": 96
   },
   {
    "_defaultOrder": 12,
    "_isFastLaunch": false,
    "category": "General purpose",
    "gpuNum": 0,
    "hideHardwareSpecs": false,
    "memoryGiB": 8,
    "name": "ml.m5d.large",
    "vcpuNum": 2
   },
   {
    "_defaultOrder": 13,
    "_isFastLaunch": false,
    "category": "General purpose",
    "gpuNum": 0,
    "hideHardwareSpecs": false,
    "memoryGiB": 16,
    "name": "ml.m5d.xlarge",
    "vcpuNum": 4
   },
   {
    "_defaultOrder": 14,
    "_isFastLaunch": false,
    "category": "General purpose",
    "gpuNum": 0,
    "hideHardwareSpecs": false,
    "memoryGiB": 32,
    "name": "ml.m5d.2xlarge",
    "vcpuNum": 8
   },
   {
    "_defaultOrder": 15,
    "_isFastLaunch": false,
    "category": "General purpose",
    "gpuNum": 0,
    "hideHardwareSpecs": false,
    "memoryGiB": 64,
    "name": "ml.m5d.4xlarge",
    "vcpuNum": 16
   },
   {
    "_defaultOrder": 16,
    "_isFastLaunch": false,
    "category": "General purpose",
    "gpuNum": 0,
    "hideHardwareSpecs": false,
    "memoryGiB": 128,
    "name": "ml.m5d.8xlarge",
    "vcpuNum": 32
   },
   {
    "_defaultOrder": 17,
    "_isFastLaunch": false,
    "category": "General purpose",
    "gpuNum": 0,
    "hideHardwareSpecs": false,
    "memoryGiB": 192,
    "name": "ml.m5d.12xlarge",
    "vcpuNum": 48
   },
   {
    "_defaultOrder": 18,
    "_isFastLaunch": false,
    "category": "General purpose",
    "gpuNum": 0,
    "hideHardwareSpecs": false,
    "memoryGiB": 256,
    "name": "ml.m5d.16xlarge",
    "vcpuNum": 64
   },
   {
    "_defaultOrder": 19,
    "_isFastLaunch": false,
    "category": "General purpose",
    "gpuNum": 0,
    "hideHardwareSpecs": false,
    "memoryGiB": 384,
    "name": "ml.m5d.24xlarge",
    "vcpuNum": 96
   },
   {
    "_defaultOrder": 20,
    "_isFastLaunch": false,
    "category": "General purpose",
    "gpuNum": 0,
    "hideHardwareSpecs": true,
    "memoryGiB": 0,
    "name": "ml.geospatial.interactive",
    "supportedImageNames": [
     "sagemaker-geospatial-v1-0"
    ],
    "vcpuNum": 0
   },
   {
    "_defaultOrder": 21,
    "_isFastLaunch": true,
    "category": "Compute optimized",
    "gpuNum": 0,
    "hideHardwareSpecs": false,
    "memoryGiB": 4,
    "name": "ml.c5.large",
    "vcpuNum": 2
   },
   {
    "_defaultOrder": 22,
    "_isFastLaunch": false,
    "category": "Compute optimized",
    "gpuNum": 0,
    "hideHardwareSpecs": false,
    "memoryGiB": 8,
    "name": "ml.c5.xlarge",
    "vcpuNum": 4
   },
   {
    "_defaultOrder": 23,
    "_isFastLaunch": false,
    "category": "Compute optimized",
    "gpuNum": 0,
    "hideHardwareSpecs": false,
    "memoryGiB": 16,
    "name": "ml.c5.2xlarge",
    "vcpuNum": 8
   },
   {
    "_defaultOrder": 24,
    "_isFastLaunch": false,
    "category": "Compute optimized",
    "gpuNum": 0,
    "hideHardwareSpecs": false,
    "memoryGiB": 32,
    "name": "ml.c5.4xlarge",
    "vcpuNum": 16
   },
   {
    "_defaultOrder": 25,
    "_isFastLaunch": false,
    "category": "Compute optimized",
    "gpuNum": 0,
    "hideHardwareSpecs": false,
    "memoryGiB": 72,
    "name": "ml.c5.9xlarge",
    "vcpuNum": 36
   },
   {
    "_defaultOrder": 26,
    "_isFastLaunch": false,
    "category": "Compute optimized",
    "gpuNum": 0,
    "hideHardwareSpecs": false,
    "memoryGiB": 96,
    "name": "ml.c5.12xlarge",
    "vcpuNum": 48
   },
   {
    "_defaultOrder": 27,
    "_isFastLaunch": false,
    "category": "Compute optimized",
    "gpuNum": 0,
    "hideHardwareSpecs": false,
    "memoryGiB": 144,
    "name": "ml.c5.18xlarge",
    "vcpuNum": 72
   },
   {
    "_defaultOrder": 28,
    "_isFastLaunch": false,
    "category": "Compute optimized",
    "gpuNum": 0,
    "hideHardwareSpecs": false,
    "memoryGiB": 192,
    "name": "ml.c5.24xlarge",
    "vcpuNum": 96
   },
   {
    "_defaultOrder": 29,
    "_isFastLaunch": true,
    "category": "Accelerated computing",
    "gpuNum": 1,
    "hideHardwareSpecs": false,
    "memoryGiB": 16,
    "name": "ml.g4dn.xlarge",
    "vcpuNum": 4
   },
   {
    "_defaultOrder": 30,
    "_isFastLaunch": false,
    "category": "Accelerated computing",
    "gpuNum": 1,
    "hideHardwareSpecs": false,
    "memoryGiB": 32,
    "name": "ml.g4dn.2xlarge",
    "vcpuNum": 8
   },
   {
    "_defaultOrder": 31,
    "_isFastLaunch": false,
    "category": "Accelerated computing",
    "gpuNum": 1,
    "hideHardwareSpecs": false,
    "memoryGiB": 64,
    "name": "ml.g4dn.4xlarge",
    "vcpuNum": 16
   },
   {
    "_defaultOrder": 32,
    "_isFastLaunch": false,
    "category": "Accelerated computing",
    "gpuNum": 1,
    "hideHardwareSpecs": false,
    "memoryGiB": 128,
    "name": "ml.g4dn.8xlarge",
    "vcpuNum": 32
   },
   {
    "_defaultOrder": 33,
    "_isFastLaunch": false,
    "category": "Accelerated computing",
    "gpuNum": 4,
    "hideHardwareSpecs": false,
    "memoryGiB": 192,
    "name": "ml.g4dn.12xlarge",
    "vcpuNum": 48
   },
   {
    "_defaultOrder": 34,
    "_isFastLaunch": false,
    "category": "Accelerated computing",
    "gpuNum": 1,
    "hideHardwareSpecs": false,
    "memoryGiB": 256,
    "name": "ml.g4dn.16xlarge",
    "vcpuNum": 64
   },
   {
    "_defaultOrder": 35,
    "_isFastLaunch": false,
    "category": "Accelerated computing",
    "gpuNum": 1,
    "hideHardwareSpecs": false,
    "memoryGiB": 61,
    "name": "ml.p3.2xlarge",
    "vcpuNum": 8
   },
   {
    "_defaultOrder": 36,
    "_isFastLaunch": false,
    "category": "Accelerated computing",
    "gpuNum": 4,
    "hideHardwareSpecs": false,
    "memoryGiB": 244,
    "name": "ml.p3.8xlarge",
    "vcpuNum": 32
   },
   {
    "_defaultOrder": 37,
    "_isFastLaunch": false,
    "category": "Accelerated computing",
    "gpuNum": 8,
    "hideHardwareSpecs": false,
    "memoryGiB": 488,
    "name": "ml.p3.16xlarge",
    "vcpuNum": 64
   },
   {
    "_defaultOrder": 38,
    "_isFastLaunch": false,
    "category": "Accelerated computing",
    "gpuNum": 8,
    "hideHardwareSpecs": false,
    "memoryGiB": 768,
    "name": "ml.p3dn.24xlarge",
    "vcpuNum": 96
   },
   {
    "_defaultOrder": 39,
    "_isFastLaunch": false,
    "category": "Memory Optimized",
    "gpuNum": 0,
    "hideHardwareSpecs": false,
    "memoryGiB": 16,
    "name": "ml.r5.large",
    "vcpuNum": 2
   },
   {
    "_defaultOrder": 40,
    "_isFastLaunch": false,
    "category": "Memory Optimized",
    "gpuNum": 0,
    "hideHardwareSpecs": false,
    "memoryGiB": 32,
    "name": "ml.r5.xlarge",
    "vcpuNum": 4
   },
   {
    "_defaultOrder": 41,
    "_isFastLaunch": false,
    "category": "Memory Optimized",
    "gpuNum": 0,
    "hideHardwareSpecs": false,
    "memoryGiB": 64,
    "name": "ml.r5.2xlarge",
    "vcpuNum": 8
   },
   {
    "_defaultOrder": 42,
    "_isFastLaunch": false,
    "category": "Memory Optimized",
    "gpuNum": 0,
    "hideHardwareSpecs": false,
    "memoryGiB": 128,
    "name": "ml.r5.4xlarge",
    "vcpuNum": 16
   },
   {
    "_defaultOrder": 43,
    "_isFastLaunch": false,
    "category": "Memory Optimized",
    "gpuNum": 0,
    "hideHardwareSpecs": false,
    "memoryGiB": 256,
    "name": "ml.r5.8xlarge",
    "vcpuNum": 32
   },
   {
    "_defaultOrder": 44,
    "_isFastLaunch": false,
    "category": "Memory Optimized",
    "gpuNum": 0,
    "hideHardwareSpecs": false,
    "memoryGiB": 384,
    "name": "ml.r5.12xlarge",
    "vcpuNum": 48
   },
   {
    "_defaultOrder": 45,
    "_isFastLaunch": false,
    "category": "Memory Optimized",
    "gpuNum": 0,
    "hideHardwareSpecs": false,
    "memoryGiB": 512,
    "name": "ml.r5.16xlarge",
    "vcpuNum": 64
   },
   {
    "_defaultOrder": 46,
    "_isFastLaunch": false,
    "category": "Memory Optimized",
    "gpuNum": 0,
    "hideHardwareSpecs": false,
    "memoryGiB": 768,
    "name": "ml.r5.24xlarge",
    "vcpuNum": 96
   },
   {
    "_defaultOrder": 47,
    "_isFastLaunch": false,
    "category": "Accelerated computing",
    "gpuNum": 1,
    "hideHardwareSpecs": false,
    "memoryGiB": 16,
    "name": "ml.g5.xlarge",
    "vcpuNum": 4
   },
   {
    "_defaultOrder": 48,
    "_isFastLaunch": false,
    "category": "Accelerated computing",
    "gpuNum": 1,
    "hideHardwareSpecs": false,
    "memoryGiB": 32,
    "name": "ml.g5.2xlarge",
    "vcpuNum": 8
   },
   {
    "_defaultOrder": 49,
    "_isFastLaunch": false,
    "category": "Accelerated computing",
    "gpuNum": 1,
    "hideHardwareSpecs": false,
    "memoryGiB": 64,
    "name": "ml.g5.4xlarge",
    "vcpuNum": 16
   },
   {
    "_defaultOrder": 50,
    "_isFastLaunch": false,
    "category": "Accelerated computing",
    "gpuNum": 1,
    "hideHardwareSpecs": false,
    "memoryGiB": 128,
    "name": "ml.g5.8xlarge",
    "vcpuNum": 32
   },
   {
    "_defaultOrder": 51,
    "_isFastLaunch": false,
    "category": "Accelerated computing",
    "gpuNum": 1,
    "hideHardwareSpecs": false,
    "memoryGiB": 256,
    "name": "ml.g5.16xlarge",
    "vcpuNum": 64
   },
   {
    "_defaultOrder": 52,
    "_isFastLaunch": false,
    "category": "Accelerated computing",
    "gpuNum": 4,
    "hideHardwareSpecs": false,
    "memoryGiB": 192,
    "name": "ml.g5.12xlarge",
    "vcpuNum": 48
   },
   {
    "_defaultOrder": 53,
    "_isFastLaunch": false,
    "category": "Accelerated computing",
    "gpuNum": 4,
    "hideHardwareSpecs": false,
    "memoryGiB": 384,
    "name": "ml.g5.24xlarge",
    "vcpuNum": 96
   },
   {
    "_defaultOrder": 54,
    "_isFastLaunch": false,
    "category": "Accelerated computing",
    "gpuNum": 8,
    "hideHardwareSpecs": false,
    "memoryGiB": 768,
    "name": "ml.g5.48xlarge",
    "vcpuNum": 192
   },
   {
    "_defaultOrder": 55,
    "_isFastLaunch": false,
    "category": "Accelerated computing",
    "gpuNum": 8,
    "hideHardwareSpecs": false,
    "memoryGiB": 1152,
    "name": "ml.p4d.24xlarge",
    "vcpuNum": 96
   },
   {
    "_defaultOrder": 56,
    "_isFastLaunch": false,
    "category": "Accelerated computing",
    "gpuNum": 8,
    "hideHardwareSpecs": false,
    "memoryGiB": 1152,
    "name": "ml.p4de.24xlarge",
    "vcpuNum": 96
   }
  ],
  "instance_type": "ml.m5.large",
  "kernelspec": {
   "display_name": "Python 3 (ipykernel)",
   "language": "python",
   "name": "python3"
  },
  "language_info": {
   "codemirror_mode": {
    "name": "ipython",
    "version": 3
   },
   "file_extension": ".py",
   "mimetype": "text/x-python",
   "name": "python",
   "nbconvert_exporter": "python",
   "pygments_lexer": "ipython3",
   "version": "3.11.4"
  }
 },
 "nbformat": 4,
 "nbformat_minor": 5
}
