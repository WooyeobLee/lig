{
 "cells": [
  {
   "cell_type": "markdown",
   "id": "483be556",
   "metadata": {},
   "source": [
    "# Torch Sequential 실습"
   ]
  },
  {
   "cell_type": "code",
   "execution_count": 1,
   "id": "8990be1a",
   "metadata": {},
   "outputs": [],
   "source": [
    "import torch\n",
    "from torch import nn, optim"
   ]
  },
  {
   "cell_type": "markdown",
   "id": "5bd750d1",
   "metadata": {},
   "source": [
    "### Torch Tensors"
   ]
  },
  {
   "cell_type": "code",
   "execution_count": 2,
   "id": "c455a7d8",
   "metadata": {},
   "outputs": [
    {
     "data": {
      "text/plain": [
       "'cuda'"
      ]
     },
     "execution_count": 2,
     "metadata": {},
     "output_type": "execute_result"
    }
   ],
   "source": [
    "# gpu 사용이 가능한지 확인한 후 사용 가능하면 'cuda' 아니면 'cpu' 값을 device에 설정하세요.\n"
   ]
  },
  {
   "cell_type": "code",
   "execution_count": 3,
   "id": "387b62f8",
   "metadata": {},
   "outputs": [
    {
     "data": {
      "text/plain": [
       "tensor([1, 2, 3, 4])"
      ]
     },
     "execution_count": 3,
     "metadata": {},
     "output_type": "execute_result"
    }
   ],
   "source": [
    "# 리스트 [1,2,3,4]를 tensor로 변환하세요.\n"
   ]
  },
  {
   "cell_type": "code",
   "execution_count": 4,
   "id": "298b0de6",
   "metadata": {},
   "outputs": [
    {
     "data": {
      "text/plain": [
       "tensor([1., 2., 3., 4.])"
      ]
     },
     "execution_count": 4,
     "metadata": {},
     "output_type": "execute_result"
    }
   ],
   "source": [
    "# 리스트 [1,2,3,4]를 float type tensor로 변환하세요.\n"
   ]
  },
  {
   "cell_type": "code",
   "execution_count": 5,
   "id": "814b7a84",
   "metadata": {},
   "outputs": [
    {
     "data": {
      "text/plain": [
       "tensor([1., 2., 3., 4.])"
      ]
     },
     "execution_count": 5,
     "metadata": {},
     "output_type": "execute_result"
    }
   ],
   "source": [
    "# 리스트 [1,2,3,4]를 float type tensor로 변환하세요.\n"
   ]
  },
  {
   "cell_type": "code",
   "execution_count": 6,
   "id": "9b1b3dee",
   "metadata": {},
   "outputs": [
    {
     "data": {
      "text/plain": [
       "tensor([1., 2., 3., 4.], dtype=torch.float64)"
      ]
     },
     "execution_count": 6,
     "metadata": {},
     "output_type": "execute_result"
    }
   ],
   "source": [
    "# 리스트 [1,2,3,4]를 float64 type tensor로 변환하세요.\n"
   ]
  },
  {
   "cell_type": "code",
   "execution_count": 7,
   "id": "1198d769",
   "metadata": {},
   "outputs": [
    {
     "data": {
      "text/plain": [
       "tensor([1, 2, 3, 4], dtype=torch.int32)"
      ]
     },
     "execution_count": 7,
     "metadata": {},
     "output_type": "execute_result"
    }
   ],
   "source": [
    "# 리스트 [1,2,3,4]를 정수 타입 tensor로 변환하세요.\n"
   ]
  },
  {
   "cell_type": "code",
   "execution_count": 8,
   "id": "96d4f1f3",
   "metadata": {},
   "outputs": [
    {
     "data": {
      "text/plain": [
       "tensor([1, 2, 3, 4])"
      ]
     },
     "execution_count": 8,
     "metadata": {},
     "output_type": "execute_result"
    }
   ],
   "source": [
    "# 리스트 [1,2,3,4]를 정수64 타입 tensor로 변환하세요.\n"
   ]
  },
  {
   "cell_type": "code",
   "execution_count": 9,
   "id": "d48ddb15",
   "metadata": {},
   "outputs": [
    {
     "data": {
      "text/plain": [
       "1"
      ]
     },
     "execution_count": 9,
     "metadata": {},
     "output_type": "execute_result"
    }
   ],
   "source": [
    "# t의 차원 크기를 조회하세요.\n"
   ]
  },
  {
   "cell_type": "code",
   "execution_count": 10,
   "id": "8daa333a",
   "metadata": {},
   "outputs": [
    {
     "data": {
      "text/plain": [
       "torch.Size([4])"
      ]
     },
     "execution_count": 10,
     "metadata": {},
     "output_type": "execute_result"
    }
   ],
   "source": [
    "# t의 shape을 조회하세요.\n"
   ]
  },
  {
   "cell_type": "code",
   "execution_count": 12,
   "id": "c6031b39",
   "metadata": {},
   "outputs": [
    {
     "data": {
      "text/plain": [
       "tensor([[1, 2, 3, 4]])"
      ]
     },
     "execution_count": 12,
     "metadata": {},
     "output_type": "execute_result"
    }
   ],
   "source": [
    "# t의 shape을 [1,4]로 변경하세요.\n"
   ]
  },
  {
   "cell_type": "code",
   "execution_count": 14,
   "id": "5fa7312b",
   "metadata": {},
   "outputs": [
    {
     "data": {
      "text/plain": [
       "tensor([[1],\n",
       "        [2],\n",
       "        [3],\n",
       "        [4]])"
      ]
     },
     "execution_count": 14,
     "metadata": {},
     "output_type": "execute_result"
    }
   ],
   "source": [
    "# t에 축을 하나 추가하고 t에 저장하세요.\n"
   ]
  },
  {
   "cell_type": "code",
   "execution_count": 15,
   "id": "909cfb02",
   "metadata": {},
   "outputs": [
    {
     "data": {
      "text/plain": [
       "torch.Size([4, 1])"
      ]
     },
     "execution_count": 15,
     "metadata": {},
     "output_type": "execute_result"
    }
   ],
   "source": [
    "# t의 shape을 조회하세요.\n"
   ]
  },
  {
   "cell_type": "code",
   "execution_count": 16,
   "id": "b7e6b8e5",
   "metadata": {},
   "outputs": [
    {
     "data": {
      "text/plain": [
       "tensor([[[1],\n",
       "         [2],\n",
       "         [3],\n",
       "         [4]]])"
      ]
     },
     "execution_count": 16,
     "metadata": {},
     "output_type": "execute_result"
    }
   ],
   "source": [
    "# t의 새 축을 0번 축에 추가하고 저장하세요.\n"
   ]
  },
  {
   "cell_type": "code",
   "execution_count": 17,
   "id": "39be3dbd",
   "metadata": {},
   "outputs": [
    {
     "data": {
      "text/plain": [
       "torch.Size([1, 4, 1])"
      ]
     },
     "execution_count": 17,
     "metadata": {},
     "output_type": "execute_result"
    }
   ],
   "source": [
    "# t의 shape을 조회하세요.\n"
   ]
  },
  {
   "cell_type": "code",
   "execution_count": 18,
   "id": "8c8f8a36",
   "metadata": {},
   "outputs": [
    {
     "data": {
      "text/plain": [
       "tensor([[1, 2, 3, 4]])"
      ]
     },
     "execution_count": 18,
     "metadata": {},
     "output_type": "execute_result"
    }
   ],
   "source": [
    "# t의 맨 마지막 축을 제거하고 t에 저장하세요.\n"
   ]
  },
  {
   "cell_type": "code",
   "execution_count": 19,
   "id": "8d30f1cc",
   "metadata": {},
   "outputs": [
    {
     "data": {
      "text/plain": [
       "torch.Size([1, 4])"
      ]
     },
     "execution_count": 19,
     "metadata": {},
     "output_type": "execute_result"
    }
   ],
   "source": [
    "# t의 shape을 조회하세요.\n"
   ]
  },
  {
   "cell_type": "code",
   "execution_count": 20,
   "id": "c8fe9e43",
   "metadata": {},
   "outputs": [
    {
     "data": {
      "text/plain": [
       "tensor([[1, 2, 3, 4]])"
      ]
     },
     "execution_count": 20,
     "metadata": {},
     "output_type": "execute_result"
    }
   ],
   "source": [
    "# t를 복사하여 t2에 저장하세요.\n"
   ]
  },
  {
   "cell_type": "code",
   "execution_count": 21,
   "id": "e08ebcfc",
   "metadata": {},
   "outputs": [
    {
     "data": {
      "text/plain": [
       "array([[1, 2, 3, 4]], dtype=int64)"
      ]
     },
     "execution_count": 21,
     "metadata": {},
     "output_type": "execute_result"
    }
   ],
   "source": [
    "# t2를 numpy array로 변환하세요.\n"
   ]
  },
  {
   "cell_type": "code",
   "execution_count": 22,
   "id": "98c7ea26",
   "metadata": {},
   "outputs": [
    {
     "data": {
      "text/plain": [
       "tensor([[1, 2, 3, 4]], device='cuda:0')"
      ]
     },
     "execution_count": 22,
     "metadata": {},
     "output_type": "execute_result"
    }
   ],
   "source": [
    "# t를 device에 할당한 후 t에 저장하세요.\n"
   ]
  },
  {
   "cell_type": "code",
   "execution_count": 23,
   "id": "7f108eae",
   "metadata": {},
   "outputs": [
    {
     "data": {
      "text/plain": [
       "array([[1, 2, 3, 4]], dtype=int64)"
      ]
     },
     "execution_count": 23,
     "metadata": {},
     "output_type": "execute_result"
    }
   ],
   "source": [
    "# t를 numpy array로 변환하세요.\n"
   ]
  },
  {
   "cell_type": "code",
   "execution_count": 24,
   "id": "bcbd7892",
   "metadata": {},
   "outputs": [
    {
     "data": {
      "text/plain": [
       "array([[1, 2, 3, 4]], dtype=int64)"
      ]
     },
     "execution_count": 24,
     "metadata": {},
     "output_type": "execute_result"
    }
   ],
   "source": [
    "# t를 numpy array로 변환하세요.\n"
   ]
  },
  {
   "cell_type": "markdown",
   "id": "010e7a55",
   "metadata": {},
   "source": [
    "### Torch Sequential Model"
   ]
  },
  {
   "cell_type": "code",
   "execution_count": 25,
   "id": "4d96c0da",
   "metadata": {},
   "outputs": [],
   "source": [
    "import pandas as pd\n",
    "import numpy as np\n",
    "import matplotlib.pyplot as plt\n",
    "import seaborn as sns\n",
    "%matplotlib inline"
   ]
  },
  {
   "cell_type": "markdown",
   "id": "63c8dbbe",
   "metadata": {},
   "source": [
    " - 다이아몬드 가격을 Sequential 모델로 예측"
   ]
  },
  {
   "cell_type": "code",
   "execution_count": 26,
   "id": "fb5151f3",
   "metadata": {},
   "outputs": [],
   "source": [
    "# diamonds.csv 로드\n"
   ]
  },
  {
   "cell_type": "code",
   "execution_count": 27,
   "id": "4f434aa5",
   "metadata": {},
   "outputs": [],
   "source": [
    "# 문자열 인코딩\n",
    "def encode_cut(x):\n",
    "    return {'Fair':0, 'Good':1, 'Very Good':2, 'Premium':3, 'Ideal':4}[x]\n",
    "\n",
    "def encode_color(x):\n",
    "    return abs(ord(x)-74)\n",
    "\n",
    "def encode_clarity(x):\n",
    "    return {'I1':0, 'SI2':1, 'SI1':2, 'VS2':3, 'VS1':4, 'VVS2':5, 'VVS1':6, 'IF':7}[x]\n",
    "\n",
    "diamond['cut'] = diamond['cut'].apply(encode_cut)\n",
    "diamond['color'] = diamond['color'].apply(encode_color)\n",
    "diamond['clarity'] = diamond['clarity'].apply(encode_clarity)"
   ]
  },
  {
   "cell_type": "code",
   "execution_count": 34,
   "id": "cf12dad5",
   "metadata": {},
   "outputs": [],
   "source": [
    "# 데이터 선택\n",
    "features = [\n",
    "    'carat',\n",
    "    'cut',\n",
    "    'color',\n",
    "    'clarity',\n",
    "    'depth',\n",
    "    'table',\n",
    "    'x',\n",
    "    'y',\n",
    "    'z'\n",
    "]\n",
    "X = diamond[features]\n",
    "Y = diamond['price']"
   ]
  },
  {
   "cell_type": "code",
   "execution_count": 30,
   "id": "4359ccaf",
   "metadata": {},
   "outputs": [
    {
     "data": {
      "text/plain": [
       "(37758, 9)"
      ]
     },
     "execution_count": 30,
     "metadata": {},
     "output_type": "execute_result"
    }
   ],
   "source": [
    "# 데이터 분할\n"
   ]
  },
  {
   "cell_type": "code",
   "execution_count": 40,
   "id": "19b2d9cd",
   "metadata": {},
   "outputs": [
    {
     "data": {
      "text/plain": [
       "(363227.58354604786, 386611.2288453066)"
      ]
     },
     "execution_count": 40,
     "metadata": {},
     "output_type": "execute_result"
    }
   ],
   "source": [
    "# 비교를 위해 GrandientBoosting으로 모델링한 결과를 출력하세요.\n",
    "# 평가 측도는 mse입니다.\n"
   ]
  },
  {
   "cell_type": "code",
   "execution_count": 42,
   "id": "fac69c6c",
   "metadata": {},
   "outputs": [],
   "source": [
    "# 시드를 777로 설정하세요.\n",
    "# gpu를 사용한다면 cuda 시드도 설정하세요.\n"
   ]
  },
  {
   "cell_type": "code",
   "execution_count": 43,
   "id": "3a201be3",
   "metadata": {},
   "outputs": [],
   "source": [
    "# Sequential 모델을 이용하여 DNN을 구성하세요.\n",
    "# 두 개의 은닉층은 각각 64, 32개 퍼셉트론\n",
    "# 활성화는 relu\n"
   ]
  },
  {
   "cell_type": "code",
   "execution_count": 44,
   "id": "73aecf57",
   "metadata": {},
   "outputs": [
    {
     "name": "stdout",
     "output_type": "stream",
     "text": [
      "Sequential(\n",
      "  (0): Linear(in_features=9, out_features=64, bias=True)\n",
      "  (1): ReLU()\n",
      "  (2): Linear(in_features=64, out_features=32, bias=True)\n",
      "  (3): ReLU()\n",
      "  (4): Linear(in_features=32, out_features=1, bias=True)\n",
      ")\n"
     ]
    }
   ],
   "source": [
    "# 모델 구조를 출력하세요.\n"
   ]
  },
  {
   "cell_type": "code",
   "execution_count": 45,
   "id": "ce905e95",
   "metadata": {},
   "outputs": [
    {
     "data": {
      "text/plain": [
       "=================================================================\n",
       "Layer (type:depth-idx)                   Param #\n",
       "=================================================================\n",
       "Sequential                               --\n",
       "├─Linear: 1-1                            640\n",
       "├─ReLU: 1-2                              --\n",
       "├─Linear: 1-3                            2,080\n",
       "├─ReLU: 1-4                              --\n",
       "├─Linear: 1-5                            33\n",
       "=================================================================\n",
       "Total params: 2,753\n",
       "Trainable params: 2,753\n",
       "Non-trainable params: 0\n",
       "================================================================="
      ]
     },
     "execution_count": 45,
     "metadata": {},
     "output_type": "execute_result"
    }
   ],
   "source": [
    "# 모델의 summary를 출력하세요.\n"
   ]
  },
  {
   "cell_type": "code",
   "execution_count": 46,
   "id": "dd754fc1",
   "metadata": {},
   "outputs": [],
   "source": [
    "# 데이터에 적합한 loss와 optimizer를 선정하여 설정하세요.\n"
   ]
  },
  {
   "cell_type": "code",
   "execution_count": 47,
   "id": "9b310f1b",
   "metadata": {},
   "outputs": [
    {
     "name": "stdout",
     "output_type": "stream",
     "text": [
      "Epoch: 0/100000, Loss: 31750162.0\n",
      "Epoch: 10000/100000, Loss: 389169.40625\n",
      "Epoch: 20000/100000, Loss: 310860.59375\n",
      "Epoch: 30000/100000, Loss: 300641.9375\n",
      "Epoch: 40000/100000, Loss: 299175.3125\n",
      "Epoch: 50000/100000, Loss: 334798.28125\n",
      "Epoch: 60000/100000, Loss: 288774.71875\n",
      "Epoch: 70000/100000, Loss: 284464.625\n",
      "Epoch: 80000/100000, Loss: 289057.71875\n",
      "Epoch: 90000/100000, Loss: 285846.65625\n",
      "Epoch: 100000/100000, Loss: 288479.46875\n"
     ]
    }
   ],
   "source": [
    "# train 데이터를 학습시키세요.\n",
    "# epoch=100000회\n"
   ]
  },
  {
   "cell_type": "code",
   "execution_count": 48,
   "id": "397e2009",
   "metadata": {},
   "outputs": [],
   "source": [
    "# model의 구성을 변경하여 다시 학습해보세요.\n"
   ]
  },
  {
   "cell_type": "code",
   "execution_count": 49,
   "id": "7fb96ea9",
   "metadata": {},
   "outputs": [
    {
     "data": {
      "text/plain": [
       "=================================================================\n",
       "Layer (type:depth-idx)                   Param #\n",
       "=================================================================\n",
       "Sequential                               --\n",
       "├─Linear: 1-1                            2,560\n",
       "├─ReLU: 1-2                              --\n",
       "├─Linear: 1-3                            32,896\n",
       "├─ReLU: 1-4                              --\n",
       "├─Linear: 1-5                            8,256\n",
       "├─ReLU: 1-6                              --\n",
       "├─Linear: 1-7                            2,080\n",
       "├─ReLU: 1-8                              --\n",
       "├─Linear: 1-9                            33\n",
       "=================================================================\n",
       "Total params: 45,825\n",
       "Trainable params: 45,825\n",
       "Non-trainable params: 0\n",
       "================================================================="
      ]
     },
     "execution_count": 49,
     "metadata": {},
     "output_type": "execute_result"
    }
   ],
   "source": [
    "# 모델의 summary를 출력하세요.\n"
   ]
  },
  {
   "cell_type": "code",
   "execution_count": 50,
   "id": "bd27a4cd",
   "metadata": {},
   "outputs": [],
   "source": [
    "# 데이터에 적합한 loss와 optimizer를 선정하여 설정하세요.\n"
   ]
  },
  {
   "cell_type": "code",
   "execution_count": 51,
   "id": "88cdfd46",
   "metadata": {},
   "outputs": [
    {
     "name": "stdout",
     "output_type": "stream",
     "text": [
      "Epoch: 0/100000, Loss: 31743118.0\n",
      "Epoch: 10000/100000, Loss: 279109.21875\n",
      "Epoch: 20000/100000, Loss: 249392.40625\n",
      "Epoch: 30000/100000, Loss: 247934.859375\n",
      "Epoch: 40000/100000, Loss: 282854.09375\n",
      "Epoch: 50000/100000, Loss: 277954.34375\n",
      "Epoch: 60000/100000, Loss: 254170.859375\n",
      "Epoch: 70000/100000, Loss: 252783.015625\n",
      "Epoch: 80000/100000, Loss: 242974.21875\n",
      "Epoch: 90000/100000, Loss: 243837.75\n",
      "Epoch: 100000/100000, Loss: 246926.59375\n"
     ]
    }
   ],
   "source": [
    "# train 데이터를 학습시키세요.\n",
    "# epoch=100회\n"
   ]
  },
  {
   "cell_type": "code",
   "execution_count": 53,
   "id": "0d45e94e",
   "metadata": {},
   "outputs": [
    {
     "data": {
      "text/plain": [
       "(240192.68228813485, 315315.2727905415)"
      ]
     },
     "execution_count": 53,
     "metadata": {},
     "output_type": "execute_result"
    }
   ],
   "source": [
    "# 학습시킨 모델로 mse를 출력하세요.\n"
   ]
  },
  {
   "cell_type": "code",
   "execution_count": 56,
   "id": "f6d15652",
   "metadata": {},
   "outputs": [
    {
     "data": {
      "text/plain": [
       "(0.9851378187499676, 0.97944465019442)"
      ]
     },
     "execution_count": 56,
     "metadata": {},
     "output_type": "execute_result"
    }
   ],
   "source": [
    "# 학습시킨 모델로 r2를 출력하세요.\n"
   ]
  },
  {
   "cell_type": "markdown",
   "id": "78d4e870",
   "metadata": {},
   "source": [
    " - 타이타닉 생존자를 Sequential 모델로 예측"
   ]
  },
  {
   "cell_type": "code",
   "execution_count": 57,
   "id": "545df301",
   "metadata": {},
   "outputs": [],
   "source": [
    "# 데이터 로드\n"
   ]
  },
  {
   "cell_type": "code",
   "execution_count": 58,
   "id": "f23e2f4d",
   "metadata": {},
   "outputs": [],
   "source": [
    "# 데이터 전처리\n",
    "df['child'] = df['who'].apply(lambda x: 1 if x=='child' else 0)\n",
    "df['family'] = df['sibsp'] + df['parch']\n",
    "df['alone'] = df['family'].apply(lambda x: 0 if x>0 else 1)\n",
    "df['sex'] = df['sex'].apply(lambda x: 0 if x=='female' else 1)"
   ]
  },
  {
   "cell_type": "code",
   "execution_count": 59,
   "id": "0343b08d",
   "metadata": {},
   "outputs": [],
   "source": [
    "# 데이터 전처리\n",
    "def encode_class(x):\n",
    "    return {'First':1, 'Second':2, 'Third':3}[x]\n",
    "\n",
    "def encode_deck(x):\n",
    "    if type(x) == str:\n",
    "        return ord(x)-ord('A')\n",
    "    else:\n",
    "        return x\n",
    "\n",
    "def encode_town(x):\n",
    "    if type(x) == str:\n",
    "        return {'Queenstown':0, 'Cherbourg':1, 'Southampton':2}[x]\n",
    "    else:\n",
    "        return x\n",
    "\n",
    "df['class'] = df['class'].apply(encode_class)\n",
    "df['deck'] = df['deck'].apply(encode_deck)\n",
    "df['embark_town'] = df['embark_town'].apply(encode_town)"
   ]
  },
  {
   "cell_type": "code",
   "execution_count": 60,
   "id": "7ae81f29",
   "metadata": {},
   "outputs": [],
   "source": [
    "# 불필요한 열 삭제\n",
    "df = df.drop('who', axis=1)"
   ]
  },
  {
   "cell_type": "code",
   "execution_count": 61,
   "id": "43bfa4c5",
   "metadata": {},
   "outputs": [],
   "source": [
    "# 결측치 처리\n",
    "df['age'] = df['age'].fillna(df.groupby(['class', 'alone'])['age'].transform('mean'))\n",
    "df['deck'] = df['deck'].fillna(-1)\n",
    "df['unk_deck'] = df['deck'].apply(lambda x: 1 if x==-1 else 0)\n",
    "df['embark_town'] = df['embark_town'].fillna(df['embark_town'].mode()[0])"
   ]
  },
  {
   "cell_type": "code",
   "execution_count": 62,
   "id": "dcb4e069",
   "metadata": {},
   "outputs": [],
   "source": [
    "# 데이터 선택\n",
    "features = [\n",
    "    'sex',\n",
    "    'age',\n",
    "    'sibsp',\n",
    "    'parch',\n",
    "    'fare',\n",
    "    'class',\n",
    "    'deck',\n",
    "    'embark_town',\n",
    "    'child',\n",
    "    'family',\n",
    "    'alone',\n",
    "    'unk_deck'\n",
    "]\n",
    "X = df[features]\n",
    "Y = df['survived']"
   ]
  },
  {
   "cell_type": "code",
   "execution_count": 64,
   "id": "631d77ae",
   "metadata": {},
   "outputs": [
    {
     "data": {
      "text/plain": [
       "(623, 12)"
      ]
     },
     "execution_count": 64,
     "metadata": {},
     "output_type": "execute_result"
    }
   ],
   "source": [
    "# 데이터 분할\n"
   ]
  },
  {
   "cell_type": "code",
   "execution_count": 66,
   "id": "b4872f87",
   "metadata": {},
   "outputs": [
    {
     "data": {
      "text/plain": [
       "(0.9004815409309791, 0.8507462686567164)"
      ]
     },
     "execution_count": 66,
     "metadata": {},
     "output_type": "execute_result"
    }
   ],
   "source": [
    "# 비교를 위해 GrandientBoosting으로 모델링한 결과를 출력하세요.\n",
    "# 평가 측도는 accuracy입니다.\n"
   ]
  },
  {
   "cell_type": "code",
   "execution_count": 102,
   "id": "bd419b49",
   "metadata": {},
   "outputs": [],
   "source": [
    "# 시드를 777로 설정하세요.\n",
    "# gpu를 사용한다면 cuda 시드도 설정하세요.\n"
   ]
  },
  {
   "cell_type": "code",
   "execution_count": 106,
   "id": "a414d011",
   "metadata": {},
   "outputs": [],
   "source": [
    "# Sequential 모델을 이용하여 DNN을 구성하세요.\n",
    "# 두 개의 은닉층은 각각 64, 32개 퍼셉트론\n",
    "# 은닉 활성화는 relu\n",
    "# 출력 활성화는 sigmoid\n"
   ]
  },
  {
   "cell_type": "code",
   "execution_count": 107,
   "id": "bd56696f",
   "metadata": {},
   "outputs": [],
   "source": [
    "# 데이터에 적합한 loss와 optimizer를 선정하여 설정하세요.\n"
   ]
  },
  {
   "cell_type": "code",
   "execution_count": 108,
   "id": "478167b4",
   "metadata": {},
   "outputs": [
    {
     "name": "stdout",
     "output_type": "stream",
     "text": [
      "Epoch: 0/10000, Loss: 0.6875969171524048\n",
      "Epoch: 1000/10000, Loss: 0.2816391587257385\n",
      "Epoch: 2000/10000, Loss: 0.2360059767961502\n",
      "Epoch: 3000/10000, Loss: 0.21315239369869232\n",
      "Epoch: 4000/10000, Loss: 0.19041895866394043\n",
      "Epoch: 5000/10000, Loss: 0.1771760880947113\n",
      "Epoch: 6000/10000, Loss: 0.16974623501300812\n",
      "Epoch: 7000/10000, Loss: 0.1639212816953659\n",
      "Epoch: 8000/10000, Loss: 0.1586689054965973\n",
      "Epoch: 9000/10000, Loss: 0.15317735075950623\n",
      "Epoch: 10000/10000, Loss: 0.15268617868423462\n"
     ]
    }
   ],
   "source": [
    "# train 데이터를 학습시키세요.\n",
    "# epoch=10000회\n"
   ]
  },
  {
   "cell_type": "code",
   "execution_count": 109,
   "id": "943538c0",
   "metadata": {},
   "outputs": [
    {
     "data": {
      "text/plain": [
       "(0.9390048154093098, 0.75)"
      ]
     },
     "execution_count": 109,
     "metadata": {},
     "output_type": "execute_result"
    }
   ],
   "source": [
    "# 학습시킨 모델로 accuracy를 출력하세요.\n"
   ]
  },
  {
   "cell_type": "code",
   "execution_count": 121,
   "id": "c4edb3e0",
   "metadata": {},
   "outputs": [],
   "source": [
    "# 반복 횟수를 줄여서 train 데이터를 학습시키세요.\n",
    "# epoch=3000회\n"
   ]
  },
  {
   "cell_type": "code",
   "execution_count": 122,
   "id": "8a4caa08",
   "metadata": {},
   "outputs": [],
   "source": [
    "# 데이터에 적합한 loss와 optimizer를 선정하여 설정하세요.\n"
   ]
  },
  {
   "cell_type": "code",
   "execution_count": 123,
   "id": "0c39bcd8",
   "metadata": {},
   "outputs": [
    {
     "name": "stdout",
     "output_type": "stream",
     "text": [
      "Epoch: 0/3000, Loss: 0.7178453803062439\n",
      "Epoch: 1000/3000, Loss: 0.44086962938308716\n",
      "Epoch: 2000/3000, Loss: 0.38368815183639526\n",
      "Epoch: 3000/3000, Loss: 0.3547966182231903\n"
     ]
    }
   ],
   "source": [
    "# train 데이터를 학습시키세요.\n",
    "# epoch=3000회\n"
   ]
  },
  {
   "cell_type": "code",
   "execution_count": 124,
   "id": "4fd0ef46",
   "metadata": {},
   "outputs": [
    {
     "data": {
      "text/plain": [
       "(0.85553772070626, 0.8022388059701493)"
      ]
     },
     "execution_count": 124,
     "metadata": {},
     "output_type": "execute_result"
    }
   ],
   "source": [
    "# 학습시킨 모델로 accuracy를 출력하세요.\n"
   ]
  }
 ],
 "metadata": {
  "availableInstances": [
   {
    "_defaultOrder": 0,
    "_isFastLaunch": true,
    "category": "General purpose",
    "gpuNum": 0,
    "hideHardwareSpecs": false,
    "memoryGiB": 4,
    "name": "ml.t3.medium",
    "vcpuNum": 2
   },
   {
    "_defaultOrder": 1,
    "_isFastLaunch": false,
    "category": "General purpose",
    "gpuNum": 0,
    "hideHardwareSpecs": false,
    "memoryGiB": 8,
    "name": "ml.t3.large",
    "vcpuNum": 2
   },
   {
    "_defaultOrder": 2,
    "_isFastLaunch": false,
    "category": "General purpose",
    "gpuNum": 0,
    "hideHardwareSpecs": false,
    "memoryGiB": 16,
    "name": "ml.t3.xlarge",
    "vcpuNum": 4
   },
   {
    "_defaultOrder": 3,
    "_isFastLaunch": false,
    "category": "General purpose",
    "gpuNum": 0,
    "hideHardwareSpecs": false,
    "memoryGiB": 32,
    "name": "ml.t3.2xlarge",
    "vcpuNum": 8
   },
   {
    "_defaultOrder": 4,
    "_isFastLaunch": true,
    "category": "General purpose",
    "gpuNum": 0,
    "hideHardwareSpecs": false,
    "memoryGiB": 8,
    "name": "ml.m5.large",
    "vcpuNum": 2
   },
   {
    "_defaultOrder": 5,
    "_isFastLaunch": false,
    "category": "General purpose",
    "gpuNum": 0,
    "hideHardwareSpecs": false,
    "memoryGiB": 16,
    "name": "ml.m5.xlarge",
    "vcpuNum": 4
   },
   {
    "_defaultOrder": 6,
    "_isFastLaunch": false,
    "category": "General purpose",
    "gpuNum": 0,
    "hideHardwareSpecs": false,
    "memoryGiB": 32,
    "name": "ml.m5.2xlarge",
    "vcpuNum": 8
   },
   {
    "_defaultOrder": 7,
    "_isFastLaunch": false,
    "category": "General purpose",
    "gpuNum": 0,
    "hideHardwareSpecs": false,
    "memoryGiB": 64,
    "name": "ml.m5.4xlarge",
    "vcpuNum": 16
   },
   {
    "_defaultOrder": 8,
    "_isFastLaunch": false,
    "category": "General purpose",
    "gpuNum": 0,
    "hideHardwareSpecs": false,
    "memoryGiB": 128,
    "name": "ml.m5.8xlarge",
    "vcpuNum": 32
   },
   {
    "_defaultOrder": 9,
    "_isFastLaunch": false,
    "category": "General purpose",
    "gpuNum": 0,
    "hideHardwareSpecs": false,
    "memoryGiB": 192,
    "name": "ml.m5.12xlarge",
    "vcpuNum": 48
   },
   {
    "_defaultOrder": 10,
    "_isFastLaunch": false,
    "category": "General purpose",
    "gpuNum": 0,
    "hideHardwareSpecs": false,
    "memoryGiB": 256,
    "name": "ml.m5.16xlarge",
    "vcpuNum": 64
   },
   {
    "_defaultOrder": 11,
    "_isFastLaunch": false,
    "category": "General purpose",
    "gpuNum": 0,
    "hideHardwareSpecs": false,
    "memoryGiB": 384,
    "name": "ml.m5.24xlarge",
    "vcpuNum": 96
   },
   {
    "_defaultOrder": 12,
    "_isFastLaunch": false,
    "category": "General purpose",
    "gpuNum": 0,
    "hideHardwareSpecs": false,
    "memoryGiB": 8,
    "name": "ml.m5d.large",
    "vcpuNum": 2
   },
   {
    "_defaultOrder": 13,
    "_isFastLaunch": false,
    "category": "General purpose",
    "gpuNum": 0,
    "hideHardwareSpecs": false,
    "memoryGiB": 16,
    "name": "ml.m5d.xlarge",
    "vcpuNum": 4
   },
   {
    "_defaultOrder": 14,
    "_isFastLaunch": false,
    "category": "General purpose",
    "gpuNum": 0,
    "hideHardwareSpecs": false,
    "memoryGiB": 32,
    "name": "ml.m5d.2xlarge",
    "vcpuNum": 8
   },
   {
    "_defaultOrder": 15,
    "_isFastLaunch": false,
    "category": "General purpose",
    "gpuNum": 0,
    "hideHardwareSpecs": false,
    "memoryGiB": 64,
    "name": "ml.m5d.4xlarge",
    "vcpuNum": 16
   },
   {
    "_defaultOrder": 16,
    "_isFastLaunch": false,
    "category": "General purpose",
    "gpuNum": 0,
    "hideHardwareSpecs": false,
    "memoryGiB": 128,
    "name": "ml.m5d.8xlarge",
    "vcpuNum": 32
   },
   {
    "_defaultOrder": 17,
    "_isFastLaunch": false,
    "category": "General purpose",
    "gpuNum": 0,
    "hideHardwareSpecs": false,
    "memoryGiB": 192,
    "name": "ml.m5d.12xlarge",
    "vcpuNum": 48
   },
   {
    "_defaultOrder": 18,
    "_isFastLaunch": false,
    "category": "General purpose",
    "gpuNum": 0,
    "hideHardwareSpecs": false,
    "memoryGiB": 256,
    "name": "ml.m5d.16xlarge",
    "vcpuNum": 64
   },
   {
    "_defaultOrder": 19,
    "_isFastLaunch": false,
    "category": "General purpose",
    "gpuNum": 0,
    "hideHardwareSpecs": false,
    "memoryGiB": 384,
    "name": "ml.m5d.24xlarge",
    "vcpuNum": 96
   },
   {
    "_defaultOrder": 20,
    "_isFastLaunch": false,
    "category": "General purpose",
    "gpuNum": 0,
    "hideHardwareSpecs": true,
    "memoryGiB": 0,
    "name": "ml.geospatial.interactive",
    "supportedImageNames": [
     "sagemaker-geospatial-v1-0"
    ],
    "vcpuNum": 0
   },
   {
    "_defaultOrder": 21,
    "_isFastLaunch": true,
    "category": "Compute optimized",
    "gpuNum": 0,
    "hideHardwareSpecs": false,
    "memoryGiB": 4,
    "name": "ml.c5.large",
    "vcpuNum": 2
   },
   {
    "_defaultOrder": 22,
    "_isFastLaunch": false,
    "category": "Compute optimized",
    "gpuNum": 0,
    "hideHardwareSpecs": false,
    "memoryGiB": 8,
    "name": "ml.c5.xlarge",
    "vcpuNum": 4
   },
   {
    "_defaultOrder": 23,
    "_isFastLaunch": false,
    "category": "Compute optimized",
    "gpuNum": 0,
    "hideHardwareSpecs": false,
    "memoryGiB": 16,
    "name": "ml.c5.2xlarge",
    "vcpuNum": 8
   },
   {
    "_defaultOrder": 24,
    "_isFastLaunch": false,
    "category": "Compute optimized",
    "gpuNum": 0,
    "hideHardwareSpecs": false,
    "memoryGiB": 32,
    "name": "ml.c5.4xlarge",
    "vcpuNum": 16
   },
   {
    "_defaultOrder": 25,
    "_isFastLaunch": false,
    "category": "Compute optimized",
    "gpuNum": 0,
    "hideHardwareSpecs": false,
    "memoryGiB": 72,
    "name": "ml.c5.9xlarge",
    "vcpuNum": 36
   },
   {
    "_defaultOrder": 26,
    "_isFastLaunch": false,
    "category": "Compute optimized",
    "gpuNum": 0,
    "hideHardwareSpecs": false,
    "memoryGiB": 96,
    "name": "ml.c5.12xlarge",
    "vcpuNum": 48
   },
   {
    "_defaultOrder": 27,
    "_isFastLaunch": false,
    "category": "Compute optimized",
    "gpuNum": 0,
    "hideHardwareSpecs": false,
    "memoryGiB": 144,
    "name": "ml.c5.18xlarge",
    "vcpuNum": 72
   },
   {
    "_defaultOrder": 28,
    "_isFastLaunch": false,
    "category": "Compute optimized",
    "gpuNum": 0,
    "hideHardwareSpecs": false,
    "memoryGiB": 192,
    "name": "ml.c5.24xlarge",
    "vcpuNum": 96
   },
   {
    "_defaultOrder": 29,
    "_isFastLaunch": true,
    "category": "Accelerated computing",
    "gpuNum": 1,
    "hideHardwareSpecs": false,
    "memoryGiB": 16,
    "name": "ml.g4dn.xlarge",
    "vcpuNum": 4
   },
   {
    "_defaultOrder": 30,
    "_isFastLaunch": false,
    "category": "Accelerated computing",
    "gpuNum": 1,
    "hideHardwareSpecs": false,
    "memoryGiB": 32,
    "name": "ml.g4dn.2xlarge",
    "vcpuNum": 8
   },
   {
    "_defaultOrder": 31,
    "_isFastLaunch": false,
    "category": "Accelerated computing",
    "gpuNum": 1,
    "hideHardwareSpecs": false,
    "memoryGiB": 64,
    "name": "ml.g4dn.4xlarge",
    "vcpuNum": 16
   },
   {
    "_defaultOrder": 32,
    "_isFastLaunch": false,
    "category": "Accelerated computing",
    "gpuNum": 1,
    "hideHardwareSpecs": false,
    "memoryGiB": 128,
    "name": "ml.g4dn.8xlarge",
    "vcpuNum": 32
   },
   {
    "_defaultOrder": 33,
    "_isFastLaunch": false,
    "category": "Accelerated computing",
    "gpuNum": 4,
    "hideHardwareSpecs": false,
    "memoryGiB": 192,
    "name": "ml.g4dn.12xlarge",
    "vcpuNum": 48
   },
   {
    "_defaultOrder": 34,
    "_isFastLaunch": false,
    "category": "Accelerated computing",
    "gpuNum": 1,
    "hideHardwareSpecs": false,
    "memoryGiB": 256,
    "name": "ml.g4dn.16xlarge",
    "vcpuNum": 64
   },
   {
    "_defaultOrder": 35,
    "_isFastLaunch": false,
    "category": "Accelerated computing",
    "gpuNum": 1,
    "hideHardwareSpecs": false,
    "memoryGiB": 61,
    "name": "ml.p3.2xlarge",
    "vcpuNum": 8
   },
   {
    "_defaultOrder": 36,
    "_isFastLaunch": false,
    "category": "Accelerated computing",
    "gpuNum": 4,
    "hideHardwareSpecs": false,
    "memoryGiB": 244,
    "name": "ml.p3.8xlarge",
    "vcpuNum": 32
   },
   {
    "_defaultOrder": 37,
    "_isFastLaunch": false,
    "category": "Accelerated computing",
    "gpuNum": 8,
    "hideHardwareSpecs": false,
    "memoryGiB": 488,
    "name": "ml.p3.16xlarge",
    "vcpuNum": 64
   },
   {
    "_defaultOrder": 38,
    "_isFastLaunch": false,
    "category": "Accelerated computing",
    "gpuNum": 8,
    "hideHardwareSpecs": false,
    "memoryGiB": 768,
    "name": "ml.p3dn.24xlarge",
    "vcpuNum": 96
   },
   {
    "_defaultOrder": 39,
    "_isFastLaunch": false,
    "category": "Memory Optimized",
    "gpuNum": 0,
    "hideHardwareSpecs": false,
    "memoryGiB": 16,
    "name": "ml.r5.large",
    "vcpuNum": 2
   },
   {
    "_defaultOrder": 40,
    "_isFastLaunch": false,
    "category": "Memory Optimized",
    "gpuNum": 0,
    "hideHardwareSpecs": false,
    "memoryGiB": 32,
    "name": "ml.r5.xlarge",
    "vcpuNum": 4
   },
   {
    "_defaultOrder": 41,
    "_isFastLaunch": false,
    "category": "Memory Optimized",
    "gpuNum": 0,
    "hideHardwareSpecs": false,
    "memoryGiB": 64,
    "name": "ml.r5.2xlarge",
    "vcpuNum": 8
   },
   {
    "_defaultOrder": 42,
    "_isFastLaunch": false,
    "category": "Memory Optimized",
    "gpuNum": 0,
    "hideHardwareSpecs": false,
    "memoryGiB": 128,
    "name": "ml.r5.4xlarge",
    "vcpuNum": 16
   },
   {
    "_defaultOrder": 43,
    "_isFastLaunch": false,
    "category": "Memory Optimized",
    "gpuNum": 0,
    "hideHardwareSpecs": false,
    "memoryGiB": 256,
    "name": "ml.r5.8xlarge",
    "vcpuNum": 32
   },
   {
    "_defaultOrder": 44,
    "_isFastLaunch": false,
    "category": "Memory Optimized",
    "gpuNum": 0,
    "hideHardwareSpecs": false,
    "memoryGiB": 384,
    "name": "ml.r5.12xlarge",
    "vcpuNum": 48
   },
   {
    "_defaultOrder": 45,
    "_isFastLaunch": false,
    "category": "Memory Optimized",
    "gpuNum": 0,
    "hideHardwareSpecs": false,
    "memoryGiB": 512,
    "name": "ml.r5.16xlarge",
    "vcpuNum": 64
   },
   {
    "_defaultOrder": 46,
    "_isFastLaunch": false,
    "category": "Memory Optimized",
    "gpuNum": 0,
    "hideHardwareSpecs": false,
    "memoryGiB": 768,
    "name": "ml.r5.24xlarge",
    "vcpuNum": 96
   },
   {
    "_defaultOrder": 47,
    "_isFastLaunch": false,
    "category": "Accelerated computing",
    "gpuNum": 1,
    "hideHardwareSpecs": false,
    "memoryGiB": 16,
    "name": "ml.g5.xlarge",
    "vcpuNum": 4
   },
   {
    "_defaultOrder": 48,
    "_isFastLaunch": false,
    "category": "Accelerated computing",
    "gpuNum": 1,
    "hideHardwareSpecs": false,
    "memoryGiB": 32,
    "name": "ml.g5.2xlarge",
    "vcpuNum": 8
   },
   {
    "_defaultOrder": 49,
    "_isFastLaunch": false,
    "category": "Accelerated computing",
    "gpuNum": 1,
    "hideHardwareSpecs": false,
    "memoryGiB": 64,
    "name": "ml.g5.4xlarge",
    "vcpuNum": 16
   },
   {
    "_defaultOrder": 50,
    "_isFastLaunch": false,
    "category": "Accelerated computing",
    "gpuNum": 1,
    "hideHardwareSpecs": false,
    "memoryGiB": 128,
    "name": "ml.g5.8xlarge",
    "vcpuNum": 32
   },
   {
    "_defaultOrder": 51,
    "_isFastLaunch": false,
    "category": "Accelerated computing",
    "gpuNum": 1,
    "hideHardwareSpecs": false,
    "memoryGiB": 256,
    "name": "ml.g5.16xlarge",
    "vcpuNum": 64
   },
   {
    "_defaultOrder": 52,
    "_isFastLaunch": false,
    "category": "Accelerated computing",
    "gpuNum": 4,
    "hideHardwareSpecs": false,
    "memoryGiB": 192,
    "name": "ml.g5.12xlarge",
    "vcpuNum": 48
   },
   {
    "_defaultOrder": 53,
    "_isFastLaunch": false,
    "category": "Accelerated computing",
    "gpuNum": 4,
    "hideHardwareSpecs": false,
    "memoryGiB": 384,
    "name": "ml.g5.24xlarge",
    "vcpuNum": 96
   },
   {
    "_defaultOrder": 54,
    "_isFastLaunch": false,
    "category": "Accelerated computing",
    "gpuNum": 8,
    "hideHardwareSpecs": false,
    "memoryGiB": 768,
    "name": "ml.g5.48xlarge",
    "vcpuNum": 192
   },
   {
    "_defaultOrder": 55,
    "_isFastLaunch": false,
    "category": "Accelerated computing",
    "gpuNum": 8,
    "hideHardwareSpecs": false,
    "memoryGiB": 1152,
    "name": "ml.p4d.24xlarge",
    "vcpuNum": 96
   },
   {
    "_defaultOrder": 56,
    "_isFastLaunch": false,
    "category": "Accelerated computing",
    "gpuNum": 8,
    "hideHardwareSpecs": false,
    "memoryGiB": 1152,
    "name": "ml.p4de.24xlarge",
    "vcpuNum": 96
   }
  ],
  "instance_type": "ml.c5.xlarge",
  "kernelspec": {
   "display_name": "Python 3 (ipykernel)",
   "language": "python",
   "name": "python3"
  },
  "language_info": {
   "codemirror_mode": {
    "name": "ipython",
    "version": 3
   },
   "file_extension": ".py",
   "mimetype": "text/x-python",
   "name": "python",
   "nbconvert_exporter": "python",
   "pygments_lexer": "ipython3",
   "version": "3.11.4"
  }
 },
 "nbformat": 4,
 "nbformat_minor": 5
}
